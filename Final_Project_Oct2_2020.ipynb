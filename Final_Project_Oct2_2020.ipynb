{
  "nbformat": 4,
  "nbformat_minor": 0,
  "metadata": {
    "accelerator": "TPU",
    "colab": {
      "name": "Final_Project Oct2_2020.ipynb",
      "provenance": [],
      "collapsed_sections": [],
      "include_colab_link": true
    },
    "kernelspec": {
      "display_name": "Python 3",
      "language": "python",
      "name": "python3"
    },
    "language_info": {
      "codemirror_mode": {
        "name": "ipython",
        "version": 3
      },
      "file_extension": ".py",
      "mimetype": "text/x-python",
      "name": "python",
      "nbconvert_exporter": "python",
      "pygments_lexer": "ipython3",
      "version": "3.7.6"
    }
  },
  "cells": [
    {
      "cell_type": "markdown",
      "metadata": {
        "id": "view-in-github",
        "colab_type": "text"
      },
      "source": [
        "<a href=\"https://colab.research.google.com/github/yaolihua081/NLP/blob/main/Final_Project_Oct2_2020.ipynb\" target=\"_parent\"><img src=\"https://colab.research.google.com/assets/colab-badge.svg\" alt=\"Open In Colab\"/></a>"
      ]
    },
    {
      "cell_type": "code",
      "metadata": {
        "colab": {
          "base_uri": "https://localhost:8080/"
        },
        "id": "H_-Gr3X4R3Sl",
        "outputId": "afc3b758-4e1b-4653-9ef4-f63b92856eee"
      },
      "source": [
        "\n",
        "from nltk.corpus import stopwords \n",
        "import seaborn as sns\n",
        "from IPython.core.interactiveshell import InteractiveShell\n",
        "InteractiveShell.ast_node_interactivity = \"all\"\n",
        "import sys, platform, numpy as np, nltk, re, sklearn, pandas as pd, seaborn as sns, collections\n",
        "tmp = nltk.download(['stopwords', 'gutenberg','punkt'], quiet=True) # See https://www.nltk.org/book/ch02.html\n",
        "from sklearn.feature_extraction.text import CountVectorizer, TfidfTransformer, HashingVectorizer\n",
        "from sklearn.metrics.pairwise import cosine_similarity\n",
        "from sklearn.datasets import fetch_20newsgroups\n",
        "from sklearn.naive_bayes import MultinomialNB\n",
        "from sklearn.ensemble import RandomForestClassifier\n",
        "from sklearn.linear_model import LogisticRegression\n",
        "from sklearn.svm import LinearSVC\n",
        "from sklearn.model_selection import train_test_split\n",
        "from nltk.tokenize.casual import casual_tokenize\n",
        "from nltk.tokenize import TweetTokenizer\n",
        "from nltk import WordPunctTokenizer,RegexpTokenizer\n",
        "from gensim.summarization.summarizer import summarize\n",
        "from gensim.summarization import keywords as G_KEA\n",
        "!pip install rake-nltk # https://pypi.org/project/rake-nltk/\n",
        "from rake_nltk import Metric, Rake\n",
        "# Increase viewable area of Pandas tables, numpy arrays, plots\n",
        "pd.set_option('max_rows', 5, 'max_columns', 500, 'max_colwidth', 1, 'precision', 2)\n",
        "np.set_printoptions(linewidth=10000, precision=4, edgeitems=20, suppress=True)\n",
        "\n",
        "!pip install python-Levenshtein    # https://pypi.org/project/python-Levenshtein/0.12.0/\n",
        "!pip install -U sentence-transformers   # https://github.com/UKPLab/sentence-transformers\n",
        "!pip install umap-learn\n",
        "import sys, platform, numpy as np, pandas as pd,  matplotlib.pylab as plt, matplotlib, pkg_resources, importlib.util\n",
        "import re, sklearn, Levenshtein # nltk, \n",
        "from sentence_transformers import SentenceTransformer as SBERT\n"
      ],
      "execution_count": 1,
      "outputs": [
        {
          "output_type": "stream",
          "text": [
            "Collecting rake-nltk\n",
            "  Downloading https://files.pythonhosted.org/packages/8e/c4/b4ff57e541ac5624ad4b20b89c2bafd4e98f29fd83139f3a81858bdb3815/rake_nltk-1.0.4.tar.gz\n",
            "Requirement already satisfied: nltk in /usr/local/lib/python3.6/dist-packages (from rake-nltk) (3.2.5)\n",
            "Requirement already satisfied: six in /usr/local/lib/python3.6/dist-packages (from nltk->rake-nltk) (1.15.0)\n",
            "Building wheels for collected packages: rake-nltk\n",
            "  Building wheel for rake-nltk (setup.py) ... \u001b[?25l\u001b[?25hdone\n",
            "  Created wheel for rake-nltk: filename=rake_nltk-1.0.4-py2.py3-none-any.whl size=7819 sha256=3ab2054c70cd370ec2ee914f65da14bb3b3b699f65a23bbbecc8ae9667902cbc\n",
            "  Stored in directory: /root/.cache/pip/wheels/ef/92/fc/271b3709e71a96ffe934b27818946b795ac6b9b8ff8682483f\n",
            "Successfully built rake-nltk\n",
            "Installing collected packages: rake-nltk\n",
            "Successfully installed rake-nltk-1.0.4\n",
            "Collecting python-Levenshtein\n",
            "\u001b[?25l  Downloading https://files.pythonhosted.org/packages/42/a9/d1785c85ebf9b7dfacd08938dd028209c34a0ea3b1bcdb895208bd40a67d/python-Levenshtein-0.12.0.tar.gz (48kB)\n",
            "\u001b[K     |████████████████████████████████| 51kB 2.9MB/s \n",
            "\u001b[?25hRequirement already satisfied: setuptools in /usr/local/lib/python3.6/dist-packages (from python-Levenshtein) (50.3.2)\n",
            "Building wheels for collected packages: python-Levenshtein\n",
            "  Building wheel for python-Levenshtein (setup.py) ... \u001b[?25l\u001b[?25hdone\n",
            "  Created wheel for python-Levenshtein: filename=python_Levenshtein-0.12.0-cp36-cp36m-linux_x86_64.whl size=144802 sha256=ce190ec97122b13359df5d2239c7943b4701929721f06e993d3647565f65cc87\n",
            "  Stored in directory: /root/.cache/pip/wheels/de/c2/93/660fd5f7559049268ad2dc6d81c4e39e9e36518766eaf7e342\n",
            "Successfully built python-Levenshtein\n",
            "Installing collected packages: python-Levenshtein\n",
            "Successfully installed python-Levenshtein-0.12.0\n",
            "Collecting sentence-transformers\n",
            "\u001b[?25l  Downloading https://files.pythonhosted.org/packages/f5/5a/6e41e8383913dd2ba923cdcd02be2e03911595f4d2f9de559ecbed80d2d3/sentence-transformers-0.3.9.tar.gz (64kB)\n",
            "\u001b[K     |████████████████████████████████| 71kB 4.1MB/s \n",
            "\u001b[?25hCollecting transformers<3.6.0,>=3.1.0\n",
            "\u001b[?25l  Downloading https://files.pythonhosted.org/packages/3a/83/e74092e7f24a08d751aa59b37a9fc572b2e4af3918cb66f7766c3affb1b4/transformers-3.5.1-py3-none-any.whl (1.3MB)\n",
            "\u001b[K     |████████████████████████████████| 1.3MB 9.7MB/s \n",
            "\u001b[?25hRequirement already satisfied, skipping upgrade: tqdm in /usr/local/lib/python3.6/dist-packages (from sentence-transformers) (4.41.1)\n",
            "Requirement already satisfied, skipping upgrade: torch>=1.6.0 in /usr/local/lib/python3.6/dist-packages (from sentence-transformers) (1.7.0+cu101)\n",
            "Requirement already satisfied, skipping upgrade: numpy in /usr/local/lib/python3.6/dist-packages (from sentence-transformers) (1.18.5)\n",
            "Requirement already satisfied, skipping upgrade: scikit-learn in /usr/local/lib/python3.6/dist-packages (from sentence-transformers) (0.22.2.post1)\n",
            "Requirement already satisfied, skipping upgrade: scipy in /usr/local/lib/python3.6/dist-packages (from sentence-transformers) (1.4.1)\n",
            "Requirement already satisfied, skipping upgrade: nltk in /usr/local/lib/python3.6/dist-packages (from sentence-transformers) (3.2.5)\n",
            "Requirement already satisfied, skipping upgrade: regex!=2019.12.17 in /usr/local/lib/python3.6/dist-packages (from transformers<3.6.0,>=3.1.0->sentence-transformers) (2019.12.20)\n",
            "Requirement already satisfied, skipping upgrade: requests in /usr/local/lib/python3.6/dist-packages (from transformers<3.6.0,>=3.1.0->sentence-transformers) (2.23.0)\n",
            "Collecting sentencepiece==0.1.91\n",
            "\u001b[?25l  Downloading https://files.pythonhosted.org/packages/d4/a4/d0a884c4300004a78cca907a6ff9a5e9fe4f090f5d95ab341c53d28cbc58/sentencepiece-0.1.91-cp36-cp36m-manylinux1_x86_64.whl (1.1MB)\n",
            "\u001b[K     |████████████████████████████████| 1.1MB 43.4MB/s \n",
            "\u001b[?25hCollecting tokenizers==0.9.3\n",
            "\u001b[?25l  Downloading https://files.pythonhosted.org/packages/4c/34/b39eb9994bc3c999270b69c9eea40ecc6f0e97991dba28282b9fd32d44ee/tokenizers-0.9.3-cp36-cp36m-manylinux1_x86_64.whl (2.9MB)\n",
            "\u001b[K     |████████████████████████████████| 2.9MB 6.4MB/s \n",
            "\u001b[?25hRequirement already satisfied, skipping upgrade: packaging in /usr/local/lib/python3.6/dist-packages (from transformers<3.6.0,>=3.1.0->sentence-transformers) (20.4)\n",
            "Requirement already satisfied, skipping upgrade: protobuf in /usr/local/lib/python3.6/dist-packages (from transformers<3.6.0,>=3.1.0->sentence-transformers) (3.12.4)\n",
            "Collecting sacremoses\n",
            "\u001b[?25l  Downloading https://files.pythonhosted.org/packages/7d/34/09d19aff26edcc8eb2a01bed8e98f13a1537005d31e95233fd48216eed10/sacremoses-0.0.43.tar.gz (883kB)\n",
            "\u001b[K     |████████████████████████████████| 890kB 41.8MB/s \n",
            "\u001b[?25hRequirement already satisfied, skipping upgrade: dataclasses; python_version < \"3.7\" in /usr/local/lib/python3.6/dist-packages (from transformers<3.6.0,>=3.1.0->sentence-transformers) (0.8)\n",
            "Requirement already satisfied, skipping upgrade: filelock in /usr/local/lib/python3.6/dist-packages (from transformers<3.6.0,>=3.1.0->sentence-transformers) (3.0.12)\n",
            "Requirement already satisfied, skipping upgrade: future in /usr/local/lib/python3.6/dist-packages (from torch>=1.6.0->sentence-transformers) (0.16.0)\n",
            "Requirement already satisfied, skipping upgrade: typing-extensions in /usr/local/lib/python3.6/dist-packages (from torch>=1.6.0->sentence-transformers) (3.7.4.3)\n",
            "Requirement already satisfied, skipping upgrade: joblib>=0.11 in /usr/local/lib/python3.6/dist-packages (from scikit-learn->sentence-transformers) (0.17.0)\n",
            "Requirement already satisfied, skipping upgrade: six in /usr/local/lib/python3.6/dist-packages (from nltk->sentence-transformers) (1.15.0)\n",
            "Requirement already satisfied, skipping upgrade: idna<3,>=2.5 in /usr/local/lib/python3.6/dist-packages (from requests->transformers<3.6.0,>=3.1.0->sentence-transformers) (2.10)\n",
            "Requirement already satisfied, skipping upgrade: chardet<4,>=3.0.2 in /usr/local/lib/python3.6/dist-packages (from requests->transformers<3.6.0,>=3.1.0->sentence-transformers) (3.0.4)\n",
            "Requirement already satisfied, skipping upgrade: urllib3!=1.25.0,!=1.25.1,<1.26,>=1.21.1 in /usr/local/lib/python3.6/dist-packages (from requests->transformers<3.6.0,>=3.1.0->sentence-transformers) (1.24.3)\n",
            "Requirement already satisfied, skipping upgrade: certifi>=2017.4.17 in /usr/local/lib/python3.6/dist-packages (from requests->transformers<3.6.0,>=3.1.0->sentence-transformers) (2020.11.8)\n",
            "Requirement already satisfied, skipping upgrade: pyparsing>=2.0.2 in /usr/local/lib/python3.6/dist-packages (from packaging->transformers<3.6.0,>=3.1.0->sentence-transformers) (2.4.7)\n",
            "Requirement already satisfied, skipping upgrade: setuptools in /usr/local/lib/python3.6/dist-packages (from protobuf->transformers<3.6.0,>=3.1.0->sentence-transformers) (50.3.2)\n",
            "Requirement already satisfied, skipping upgrade: click in /usr/local/lib/python3.6/dist-packages (from sacremoses->transformers<3.6.0,>=3.1.0->sentence-transformers) (7.1.2)\n",
            "Building wheels for collected packages: sentence-transformers, sacremoses\n",
            "  Building wheel for sentence-transformers (setup.py) ... \u001b[?25l\u001b[?25hdone\n",
            "  Created wheel for sentence-transformers: filename=sentence_transformers-0.3.9-cp36-none-any.whl size=101036 sha256=5dc5bad6611ec2a69d256be1c59ad2836c8a4d9313284b065a7cb0ab2d3f3b7d\n",
            "  Stored in directory: /root/.cache/pip/wheels/fc/89/43/f2f5bc00b03ef9724b0f6254a97eaf159a4c4ddc024b33e07a\n",
            "  Building wheel for sacremoses (setup.py) ... \u001b[?25l\u001b[?25hdone\n",
            "  Created wheel for sacremoses: filename=sacremoses-0.0.43-cp36-none-any.whl size=893257 sha256=9e75b3c3d6c3570b2eb88c070ef42173c6c064ffa949f1748ed32bbeefe2a6d1\n",
            "  Stored in directory: /root/.cache/pip/wheels/29/3c/fd/7ce5c3f0666dab31a50123635e6fb5e19ceb42ce38d4e58f45\n",
            "Successfully built sentence-transformers sacremoses\n",
            "Installing collected packages: sentencepiece, tokenizers, sacremoses, transformers, sentence-transformers\n",
            "Successfully installed sacremoses-0.0.43 sentence-transformers-0.3.9 sentencepiece-0.1.91 tokenizers-0.9.3 transformers-3.5.1\n",
            "Requirement already satisfied: umap-learn in /usr/local/lib/python3.6/dist-packages (0.4.6)\n",
            "Requirement already satisfied: scipy>=1.3.1 in /usr/local/lib/python3.6/dist-packages (from umap-learn) (1.4.1)\n",
            "Requirement already satisfied: numba!=0.47,>=0.46 in /usr/local/lib/python3.6/dist-packages (from umap-learn) (0.48.0)\n",
            "Requirement already satisfied: scikit-learn>=0.20 in /usr/local/lib/python3.6/dist-packages (from umap-learn) (0.22.2.post1)\n",
            "Requirement already satisfied: numpy>=1.17 in /usr/local/lib/python3.6/dist-packages (from umap-learn) (1.18.5)\n",
            "Requirement already satisfied: llvmlite<0.32.0,>=0.31.0dev0 in /usr/local/lib/python3.6/dist-packages (from numba!=0.47,>=0.46->umap-learn) (0.31.0)\n",
            "Requirement already satisfied: setuptools in /usr/local/lib/python3.6/dist-packages (from numba!=0.47,>=0.46->umap-learn) (50.3.2)\n",
            "Requirement already satisfied: joblib>=0.11 in /usr/local/lib/python3.6/dist-packages (from scikit-learn>=0.20->umap-learn) (0.17.0)\n"
          ],
          "name": "stdout"
        }
      ]
    },
    {
      "cell_type": "code",
      "metadata": {
        "colab": {
          "base_uri": "https://localhost:8080/",
          "height": 436
        },
        "id": "V71tiHMqVWCf",
        "outputId": "e5c97621-d044-4db9-e890-8915988c7730"
      },
      "source": [
        "#train_txt = pd.read_csv('train.csv') \n",
        "train_txt = pd.read_csv('https://raw.githubusercontent.com/yaolihua081/NLP/main/train.csv')\n",
        "train_txt.dropna()\n",
        "#test_txt = pd.read_csv('test.csv') \n",
        "test_txt = pd.read_csv('https://raw.githubusercontent.com/yaolihua081/NLP/main/test.csv')\n",
        "test_txt.dropna()\n",
        "train_txt['text'].values[314]='i do not know'\n",
        "#line 314 was nan,\n"
      ],
      "execution_count": 2,
      "outputs": [
        {
          "output_type": "execute_result",
          "data": {
            "text/html": [
              "<div>\n",
              "<style scoped>\n",
              "    .dataframe tbody tr th:only-of-type {\n",
              "        vertical-align: middle;\n",
              "    }\n",
              "\n",
              "    .dataframe tbody tr th {\n",
              "        vertical-align: top;\n",
              "    }\n",
              "\n",
              "    .dataframe thead th {\n",
              "        text-align: right;\n",
              "    }\n",
              "</style>\n",
              "<table border=\"1\" class=\"dataframe\">\n",
              "  <thead>\n",
              "    <tr style=\"text-align: right;\">\n",
              "      <th></th>\n",
              "      <th>textID</th>\n",
              "      <th>text</th>\n",
              "      <th>selected_text</th>\n",
              "      <th>sentiment</th>\n",
              "    </tr>\n",
              "  </thead>\n",
              "  <tbody>\n",
              "    <tr>\n",
              "      <th>0</th>\n",
              "      <td>cb774db0d1</td>\n",
              "      <td>I`d have responded, if I were going</td>\n",
              "      <td>I`d have responded, if I were going</td>\n",
              "      <td>neutral</td>\n",
              "    </tr>\n",
              "    <tr>\n",
              "      <th>1</th>\n",
              "      <td>549e992a42</td>\n",
              "      <td>Sooo SAD I will miss you here in San Diego!!!</td>\n",
              "      <td>Sooo SAD</td>\n",
              "      <td>negative</td>\n",
              "    </tr>\n",
              "    <tr>\n",
              "      <th>...</th>\n",
              "      <td>...</td>\n",
              "      <td>...</td>\n",
              "      <td>...</td>\n",
              "      <td>...</td>\n",
              "    </tr>\n",
              "    <tr>\n",
              "      <th>27479</th>\n",
              "      <td>ed167662a5</td>\n",
              "      <td>But it was worth it  ****.</td>\n",
              "      <td>But it was worth it  ****.</td>\n",
              "      <td>positive</td>\n",
              "    </tr>\n",
              "    <tr>\n",
              "      <th>27480</th>\n",
              "      <td>6f7127d9d7</td>\n",
              "      <td>All this flirting going on - The ATG smiles. Yay.  ((hugs))</td>\n",
              "      <td>All this flirting going on - The ATG smiles. Yay.  ((hugs)</td>\n",
              "      <td>neutral</td>\n",
              "    </tr>\n",
              "  </tbody>\n",
              "</table>\n",
              "<p>27480 rows × 4 columns</p>\n",
              "</div>"
            ],
            "text/plain": [
              "           textID  \\\n",
              "0      cb774db0d1   \n",
              "1      549e992a42   \n",
              "...           ...   \n",
              "27479  ed167662a5   \n",
              "27480  6f7127d9d7   \n",
              "\n",
              "                                                                 text  \\\n",
              "0       I`d have responded, if I were going                             \n",
              "1       Sooo SAD I will miss you here in San Diego!!!                   \n",
              "...                                               ...                   \n",
              "27479   But it was worth it  ****.                                      \n",
              "27480     All this flirting going on - The ATG smiles. Yay.  ((hugs))   \n",
              "\n",
              "                                                    selected_text sentiment  \n",
              "0      I`d have responded, if I were going                         neutral   \n",
              "1      Sooo SAD                                                    negative  \n",
              "...         ...                                                         ...  \n",
              "27479  But it was worth it  ****.                                  positive  \n",
              "27480  All this flirting going on - The ATG smiles. Yay.  ((hugs)  neutral   \n",
              "\n",
              "[27480 rows x 4 columns]"
            ]
          },
          "metadata": {
            "tags": []
          },
          "execution_count": 2
        },
        {
          "output_type": "execute_result",
          "data": {
            "text/html": [
              "<div>\n",
              "<style scoped>\n",
              "    .dataframe tbody tr th:only-of-type {\n",
              "        vertical-align: middle;\n",
              "    }\n",
              "\n",
              "    .dataframe tbody tr th {\n",
              "        vertical-align: top;\n",
              "    }\n",
              "\n",
              "    .dataframe thead th {\n",
              "        text-align: right;\n",
              "    }\n",
              "</style>\n",
              "<table border=\"1\" class=\"dataframe\">\n",
              "  <thead>\n",
              "    <tr style=\"text-align: right;\">\n",
              "      <th></th>\n",
              "      <th>textID</th>\n",
              "      <th>text</th>\n",
              "      <th>sentiment</th>\n",
              "    </tr>\n",
              "  </thead>\n",
              "  <tbody>\n",
              "    <tr>\n",
              "      <th>0</th>\n",
              "      <td>f87dea47db</td>\n",
              "      <td>Last session of the day  http://twitpic.com/67ezh</td>\n",
              "      <td>neutral</td>\n",
              "    </tr>\n",
              "    <tr>\n",
              "      <th>1</th>\n",
              "      <td>96d74cb729</td>\n",
              "      <td>Shanghai is also really exciting (precisely -- skyscrapers galore). Good tweeps in China:  (SH)  (BJ).</td>\n",
              "      <td>positive</td>\n",
              "    </tr>\n",
              "    <tr>\n",
              "      <th>...</th>\n",
              "      <td>...</td>\n",
              "      <td>...</td>\n",
              "      <td>...</td>\n",
              "    </tr>\n",
              "    <tr>\n",
              "      <th>3532</th>\n",
              "      <td>df1baec676</td>\n",
              "      <td>_sutra what is your next youtube video gonna be about? I love your videos!</td>\n",
              "      <td>positive</td>\n",
              "    </tr>\n",
              "    <tr>\n",
              "      <th>3533</th>\n",
              "      <td>469e15c5a8</td>\n",
              "      <td>http://twitpic.com/4woj2 - omgssh  ang cute ng bby.!</td>\n",
              "      <td>positive</td>\n",
              "    </tr>\n",
              "  </tbody>\n",
              "</table>\n",
              "<p>3534 rows × 3 columns</p>\n",
              "</div>"
            ],
            "text/plain": [
              "          textID  \\\n",
              "0     f87dea47db   \n",
              "1     96d74cb729   \n",
              "...          ...   \n",
              "3532  df1baec676   \n",
              "3533  469e15c5a8   \n",
              "\n",
              "                                                                                                         text  \\\n",
              "0     Last session of the day  http://twitpic.com/67ezh                                                         \n",
              "1      Shanghai is also really exciting (precisely -- skyscrapers galore). Good tweeps in China:  (SH)  (BJ).   \n",
              "...                                                                                                       ...   \n",
              "3532  _sutra what is your next youtube video gonna be about? I love your videos!                                \n",
              "3533   http://twitpic.com/4woj2 - omgssh  ang cute ng bby.!                                                     \n",
              "\n",
              "     sentiment  \n",
              "0     neutral   \n",
              "1     positive  \n",
              "...        ...  \n",
              "3532  positive  \n",
              "3533  positive  \n",
              "\n",
              "[3534 rows x 3 columns]"
            ]
          },
          "metadata": {
            "tags": []
          },
          "execution_count": 2
        }
      ]
    },
    {
      "cell_type": "code",
      "metadata": {
        "colab": {
          "base_uri": "https://localhost:8080/"
        },
        "id": "rLIpWeElFH4l",
        "outputId": "f17c9d2e-15c9-42c2-a678-c51f2a941fcb"
      },
      "source": [
        ""
      ],
      "execution_count": null,
      "outputs": [
        {
          "output_type": "execute_result",
          "data": {
            "text/plain": [
              "0"
            ]
          },
          "metadata": {
            "tags": []
          },
          "execution_count": 10
        }
      ]
    },
    {
      "cell_type": "code",
      "metadata": {
        "id": "N8rMcdM_sVx5"
      },
      "source": [
        "def cleandata(train_txt):\n",
        "  train_txt['text'] = train_txt['text'].str.strip()         # remove trailing and leading spaces\n",
        "  train_txt['nChar'] = train_txt['text'].str.len()      # compute character length and save in a column\n",
        "  BlankDocs_mask = train_txt.nChar <=1\n",
        "  train_txt = train_txt[~BlankDocs_mask]         # ~ is the negation operator that flips between True & False\n",
        "  #text=nan. df.dropna()\n",
        "  return train_txt\n",
        "\n",
        "train_txt=cleandata(train_txt)  \n",
        "test_txt=cleandata(test_txt)"
      ],
      "execution_count": 3,
      "outputs": []
    },
    {
      "cell_type": "code",
      "metadata": {
        "colab": {
          "base_uri": "https://localhost:8080/"
        },
        "id": "gMzURFst-JnN",
        "outputId": "5d74dc60-4806-441a-f8c0-a2fae0200350"
      },
      "source": [
        "#combine positive, negative as one type, and create a colum 'label'\n",
        "Neu_set=train_txt['sentiment']=='neutral'\n",
        "Pos_set=train_txt['sentiment']=='positive'\n",
        "Neg_set=train_txt['sentiment']=='negative'\n",
        "\n",
        "train_txt['label']=train_txt['sentiment'].apply(lambda x: 0 if x=='neutral' else 1 )\n",
        "test_txt['label']=test_txt['sentiment'].apply(lambda x: 0 if x=='neutral' else 1 )\n",
        "\n",
        "#get size\n",
        "[sum(test_txt['label']==1),sum(test_txt['label']==0)]\n",
        "[sum(train_txt['label']==1),sum(train_txt['label']==0)]\n"
      ],
      "execution_count": 4,
      "outputs": [
        {
          "output_type": "execute_result",
          "data": {
            "text/plain": [
              "[2104, 1430]"
            ]
          },
          "metadata": {
            "tags": []
          },
          "execution_count": 4
        },
        {
          "output_type": "execute_result",
          "data": {
            "text/plain": [
              "[16363, 11117]"
            ]
          },
          "metadata": {
            "tags": []
          },
          "execution_count": 4
        }
      ]
    },
    {
      "cell_type": "code",
      "metadata": {
        "colab": {
          "base_uri": "https://localhost:8080/",
          "height": 226
        },
        "id": "6bUkfbY3r4jo",
        "outputId": "f63f40b3-dfb7-4c08-abc1-7f0276a6d7b0"
      },
      "source": [
        "\n",
        "def RakeExtract(x):\n",
        "  r = Rake()#will change parameters later\n",
        "  #keywords=set(x)\n",
        "  if (len(x.split())>1):  \n",
        "    r.extract_keywords_from_text(x) \n",
        "    dfRKS0=r.get_ranked_phrases_with_scores()\n",
        "    column_names=['scores','kwd']\n",
        "    dfRKS0=pd.DataFrame(dfRKS0,columns=column_names)\n",
        "    keywords=set(dfRKS0['kwd'].tolist())\n",
        "  else:\n",
        "     keywords=set(x)     \n",
        "  return keywords  \n",
        "train_txt['Rake_Extracted'] = train_txt['text'].apply(lambda x: RakeExtract(x))\n",
        "train_txt\n",
        "test_txt['Rake_Extracted'] = test_txt['text'].apply(lambda x: RakeExtract(x))"
      ],
      "execution_count": 5,
      "outputs": [
        {
          "output_type": "execute_result",
          "data": {
            "text/html": [
              "<div>\n",
              "<style scoped>\n",
              "    .dataframe tbody tr th:only-of-type {\n",
              "        vertical-align: middle;\n",
              "    }\n",
              "\n",
              "    .dataframe tbody tr th {\n",
              "        vertical-align: top;\n",
              "    }\n",
              "\n",
              "    .dataframe thead th {\n",
              "        text-align: right;\n",
              "    }\n",
              "</style>\n",
              "<table border=\"1\" class=\"dataframe\">\n",
              "  <thead>\n",
              "    <tr style=\"text-align: right;\">\n",
              "      <th></th>\n",
              "      <th>textID</th>\n",
              "      <th>text</th>\n",
              "      <th>selected_text</th>\n",
              "      <th>sentiment</th>\n",
              "      <th>nChar</th>\n",
              "      <th>label</th>\n",
              "      <th>Rake_Extracted</th>\n",
              "    </tr>\n",
              "  </thead>\n",
              "  <tbody>\n",
              "    <tr>\n",
              "      <th>0</th>\n",
              "      <td>cb774db0d1</td>\n",
              "      <td>I`d have responded, if I were going</td>\n",
              "      <td>I`d have responded, if I were going</td>\n",
              "      <td>neutral</td>\n",
              "      <td>35</td>\n",
              "      <td>0</td>\n",
              "      <td>{going, responded}</td>\n",
              "    </tr>\n",
              "    <tr>\n",
              "      <th>1</th>\n",
              "      <td>549e992a42</td>\n",
              "      <td>Sooo SAD I will miss you here in San Diego!!!</td>\n",
              "      <td>Sooo SAD</td>\n",
              "      <td>negative</td>\n",
              "      <td>45</td>\n",
              "      <td>1</td>\n",
              "      <td>{miss, sooo sad, san diego !!}</td>\n",
              "    </tr>\n",
              "    <tr>\n",
              "      <th>...</th>\n",
              "      <td>...</td>\n",
              "      <td>...</td>\n",
              "      <td>...</td>\n",
              "      <td>...</td>\n",
              "      <td>...</td>\n",
              "      <td>...</td>\n",
              "      <td>...</td>\n",
              "    </tr>\n",
              "    <tr>\n",
              "      <th>27479</th>\n",
              "      <td>ed167662a5</td>\n",
              "      <td>But it was worth it  ****.</td>\n",
              "      <td>But it was worth it  ****.</td>\n",
              "      <td>positive</td>\n",
              "      <td>26</td>\n",
              "      <td>1</td>\n",
              "      <td>{worth, ****.}</td>\n",
              "    </tr>\n",
              "    <tr>\n",
              "      <th>27480</th>\n",
              "      <td>6f7127d9d7</td>\n",
              "      <td>All this flirting going on - The ATG smiles. Yay.  ((hugs))</td>\n",
              "      <td>All this flirting going on - The ATG smiles. Yay.  ((hugs)</td>\n",
              "      <td>neutral</td>\n",
              "      <td>59</td>\n",
              "      <td>0</td>\n",
              "      <td>{atg smiles, yay, (( hugs )), flirting going}</td>\n",
              "    </tr>\n",
              "  </tbody>\n",
              "</table>\n",
              "<p>27480 rows × 7 columns</p>\n",
              "</div>"
            ],
            "text/plain": [
              "           textID  \\\n",
              "0      cb774db0d1   \n",
              "1      549e992a42   \n",
              "...           ...   \n",
              "27479  ed167662a5   \n",
              "27480  6f7127d9d7   \n",
              "\n",
              "                                                              text  \\\n",
              "0      I`d have responded, if I were going                           \n",
              "1      Sooo SAD I will miss you here in San Diego!!!                 \n",
              "...                                              ...                 \n",
              "27479  But it was worth it  ****.                                    \n",
              "27480  All this flirting going on - The ATG smiles. Yay.  ((hugs))   \n",
              "\n",
              "                                                    selected_text sentiment  \\\n",
              "0      I`d have responded, if I were going                         neutral    \n",
              "1      Sooo SAD                                                    negative   \n",
              "...         ...                                                         ...   \n",
              "27479  But it was worth it  ****.                                  positive   \n",
              "27480  All this flirting going on - The ATG smiles. Yay.  ((hugs)  neutral    \n",
              "\n",
              "       nChar  label                                 Rake_Extracted  \n",
              "0      35     0      {going, responded}                             \n",
              "1      45     1      {miss, sooo sad, san diego !!}                 \n",
              "...    ..    ..                                 ...                 \n",
              "27479  26     1      {worth, ****.}                                 \n",
              "27480  59     0      {atg smiles, yay, (( hugs )), flirting going}  \n",
              "\n",
              "[27480 rows x 7 columns]"
            ]
          },
          "metadata": {
            "tags": []
          },
          "execution_count": 5
        }
      ]
    },
    {
      "cell_type": "code",
      "metadata": {
        "colab": {
          "base_uri": "https://localhost:8080/",
          "height": 243
        },
        "id": "LtdyK9Wy2PP0",
        "outputId": "5defd8c0-5c75-4e32-ffa8-037e36d4a831"
      },
      "source": [
        "#summarize(x,ratio=2) must have more than one sentences. so not work for tweets\n",
        "def KEAExtracted(x,ratio=1):\n",
        "  if (len(x.split())>1): \n",
        "    dfGK=G_KEA(x, ratio=ratio,lemmatize=True,scores=True) #str\n",
        "    column_names=['kwd','scores']\n",
        "    dfGK=pd.DataFrame(dfGK,columns=column_names)\n",
        "    keywords=set(dfGK['kwd'].tolist())\n",
        "  else:\n",
        "     keywords=set(x)     \n",
        "  return keywords  \n",
        "\n",
        "train_txt['KEA_Extracted'] = train_txt['text'].apply(lambda x: KEAExtracted(x))\n",
        "train_txt\n",
        "test_txt['KEA_Extracted'] = test_txt['text'].apply(lambda x: KEAExtracted(x))  "
      ],
      "execution_count": null,
      "outputs": [
        {
          "output_type": "execute_result",
          "data": {
            "text/html": [
              "<div>\n",
              "<style scoped>\n",
              "    .dataframe tbody tr th:only-of-type {\n",
              "        vertical-align: middle;\n",
              "    }\n",
              "\n",
              "    .dataframe tbody tr th {\n",
              "        vertical-align: top;\n",
              "    }\n",
              "\n",
              "    .dataframe thead th {\n",
              "        text-align: right;\n",
              "    }\n",
              "</style>\n",
              "<table border=\"1\" class=\"dataframe\">\n",
              "  <thead>\n",
              "    <tr style=\"text-align: right;\">\n",
              "      <th></th>\n",
              "      <th>textID</th>\n",
              "      <th>text</th>\n",
              "      <th>selected_text</th>\n",
              "      <th>sentiment</th>\n",
              "      <th>nChar</th>\n",
              "      <th>label</th>\n",
              "      <th>Rake_Extracted</th>\n",
              "      <th>KEA_Extracted</th>\n",
              "    </tr>\n",
              "  </thead>\n",
              "  <tbody>\n",
              "    <tr>\n",
              "      <th>0</th>\n",
              "      <td>cb774db0d1</td>\n",
              "      <td>I`d have responded, if I were going</td>\n",
              "      <td>I`d have responded, if I were going</td>\n",
              "      <td>neutral</td>\n",
              "      <td>35</td>\n",
              "      <td>0</td>\n",
              "      <td>{going, responded}</td>\n",
              "      <td>{}</td>\n",
              "    </tr>\n",
              "    <tr>\n",
              "      <th>1</th>\n",
              "      <td>549e992a42</td>\n",
              "      <td>Sooo SAD I will miss you here in San Diego!!!</td>\n",
              "      <td>Sooo SAD</td>\n",
              "      <td>negative</td>\n",
              "      <td>45</td>\n",
              "      <td>1</td>\n",
              "      <td>{miss, san diego !!, sooo sad}</td>\n",
              "      <td>{sad, san, sooo, diego}</td>\n",
              "    </tr>\n",
              "    <tr>\n",
              "      <th>...</th>\n",
              "      <td>...</td>\n",
              "      <td>...</td>\n",
              "      <td>...</td>\n",
              "      <td>...</td>\n",
              "      <td>...</td>\n",
              "      <td>...</td>\n",
              "      <td>...</td>\n",
              "      <td>...</td>\n",
              "    </tr>\n",
              "    <tr>\n",
              "      <th>27479</th>\n",
              "      <td>ed167662a5</td>\n",
              "      <td>But it was worth it  ****.</td>\n",
              "      <td>But it was worth it  ****.</td>\n",
              "      <td>positive</td>\n",
              "      <td>26</td>\n",
              "      <td>1</td>\n",
              "      <td>{worth, ****.}</td>\n",
              "      <td>{}</td>\n",
              "    </tr>\n",
              "    <tr>\n",
              "      <th>27480</th>\n",
              "      <td>6f7127d9d7</td>\n",
              "      <td>All this flirting going on - The ATG smiles. Yay.  ((hugs))</td>\n",
              "      <td>All this flirting going on - The ATG smiles. Yay.  ((hugs)</td>\n",
              "      <td>neutral</td>\n",
              "      <td>59</td>\n",
              "      <td>0</td>\n",
              "      <td>{(( hugs )), flirting going, atg smiles, yay}</td>\n",
              "      <td>{yay, hugs, atg, smiles, flirting going}</td>\n",
              "    </tr>\n",
              "  </tbody>\n",
              "</table>\n",
              "<p>27480 rows × 8 columns</p>\n",
              "</div>"
            ],
            "text/plain": [
              "           textID  \\\n",
              "0      cb774db0d1   \n",
              "1      549e992a42   \n",
              "...           ...   \n",
              "27479  ed167662a5   \n",
              "27480  6f7127d9d7   \n",
              "\n",
              "                                                              text  \\\n",
              "0      I`d have responded, if I were going                           \n",
              "1      Sooo SAD I will miss you here in San Diego!!!                 \n",
              "...                                              ...                 \n",
              "27479  But it was worth it  ****.                                    \n",
              "27480  All this flirting going on - The ATG smiles. Yay.  ((hugs))   \n",
              "\n",
              "                                                    selected_text sentiment  \\\n",
              "0      I`d have responded, if I were going                         neutral    \n",
              "1      Sooo SAD                                                    negative   \n",
              "...         ...                                                         ...   \n",
              "27479  But it was worth it  ****.                                  positive   \n",
              "27480  All this flirting going on - The ATG smiles. Yay.  ((hugs)  neutral    \n",
              "\n",
              "       nChar  label                                 Rake_Extracted  \\\n",
              "0      35     0      {going, responded}                              \n",
              "1      45     1      {miss, san diego !!, sooo sad}                  \n",
              "...    ..    ..                                 ...                  \n",
              "27479  26     1      {worth, ****.}                                  \n",
              "27480  59     0      {(( hugs )), flirting going, atg smiles, yay}   \n",
              "\n",
              "                                  KEA_Extracted  \n",
              "0      {}                                        \n",
              "1      {sad, san, sooo, diego}                   \n",
              "...                        ...                   \n",
              "27479  {}                                        \n",
              "27480  {yay, hugs, atg, smiles, flirting going}  \n",
              "\n",
              "[27480 rows x 8 columns]"
            ]
          },
          "metadata": {
            "tags": []
          },
          "execution_count": 24
        }
      ]
    },
    {
      "cell_type": "code",
      "metadata": {
        "id": "FnDe9v8Rs7T_"
      },
      "source": [
        "def TrainTest(tarin_txt, test_txt, name, Label='label'):\n",
        "  #tY=train_txt['sentiment']\n",
        "  tY=train_txt[Label]\n",
        "  tTxt=train_txt[name]#name='text','selected_txt', 'Extracted'\n",
        "  #tTxt=train_txt['selected_text']#use this one the scores gets smaller\n",
        "  tY=tY.tolist()\n",
        "  #vY=test_txt['sentiment']\n",
        "  vY=test_txt[Label]\n",
        "  if name=='selected_text':\n",
        "    vTxt=test_txt['text']\n",
        "  else:\n",
        "    vTxt=test_txt[name]\n",
        "\n",
        "  vY=vY.tolist()\n",
        "  tX_row_names=train_txt['textID']\n",
        "  vX_row_names=test_txt['textID']\n",
        "  return tTxt, tY, tX_row_names, vTxt, vY, vX_row_names\n",
        "\n",
        "#tTxt, tY, tX_row_names, vTxt, vY, vX_row_names= TrainTest(train_txt, test_txt, 'Rake_Extracted')"
      ],
      "execution_count": 5,
      "outputs": []
    },
    {
      "cell_type": "code",
      "metadata": {
        "id": "jUHT4PpYvdWm"
      },
      "source": [
        "def PreModel(train_txt,test_txt, stopword_list,name, TF_IDF=True, Label='label'):\n",
        "  #stopword_list = nltk.corpus.stopwords.words('english')\n",
        "  tTxt, tY, tX_row_names, vTxt, vY, vX_row_names= TrainTest(train_txt, test_txt, name, Label)\n",
        "  CntVec=CountVectorizer(stop_words=stopword_list,token_pattern=r'(?u)\\b\\w+\\b', lowercase=True, max_features=1000)\n",
        "  tX = CntVec.fit_transform(tTxt.values.astype('U')) \n",
        "  vX = CntVec.transform(vTxt.values.astype('U')) \n",
        "  if TF_IDF:\n",
        "    tfidf_transformer=TfidfTransformer(smooth_idf=True,use_idf=True)\n",
        "    tX=tfidf_transformer.fit_transform(tX)\n",
        "    vX=tfidf_transformer.transform(vX)\n",
        "  column_names=CntVec.get_feature_names()\n",
        "  tX=tX.toarray()\n",
        "  vX=vX.toarray()\n",
        "  tX = pd.DataFrame(tX, columns=column_names, index=tX_row_names)\n",
        "  vX = pd.DataFrame(vX, columns=column_names, index=vX_row_names)\n",
        "  \n",
        "  return tX,tY, vX,vY\n",
        "\n",
        "#stopword_list = nltk.corpus.stopwords.words('english')\n",
        "#PreModel(train_txt,test_txt, stopword_list,'Rake_Extracted')\n"
      ],
      "execution_count": 6,
      "outputs": []
    },
    {
      "cell_type": "code",
      "metadata": {
        "id": "k8DAwj3OyAqm"
      },
      "source": [
        "#Logistic regression using Rake_extracted\n",
        "def ML(model, train_txt, test_txt,name, stopword_list, TF_IDF=True, Label='label'):\n",
        "  tX, tY,vX, vY=PreModel(train_txt,test_txt, stopword_list,name, TF_IDF, Label)\n",
        "  if (model=='LRG'):\n",
        "    para_seed = [(c, iter) for c in np.linspace(.01, 1, num=50) for iter in np.linspace(10, 50, num=5)]\n",
        "    lvc_df = pd.DataFrame(para_seed, columns=['c', 'iter'])\n",
        "    lvc_df['model'] =  lvc_df.apply(lambda row: LogisticRegression(n_jobs=-1, C=row.c, max_iter=row.iter).fit(tX, list(tY)), axis=1)\n",
        "    #lvc_df['score'] = lvc_df['model'].apply(lambda model: model.score(vX, list(vY)))\n",
        "  if (model=='LVC'):\n",
        "    c_seed = np.linspace(.05, 2, num=100)\n",
        "    lvc_df = pd.DataFrame(c_seed, columns=['c'])\n",
        "    lvc_df['model'] = lvc_df['c'].apply(lambda c: LinearSVC(C=c).fit(tX, list(tY)))\n",
        "    #lvc_df['score'] = lvc_df['model'].apply(lambda model: model.score(TvX, list(vY)))\n",
        "\n",
        "  if (model=='RF'):\n",
        "    n_estimators = range(10, 200,100)\n",
        "    lvc_df = pd.DataFrame(n_estimators, columns=['c'])\n",
        "    lvc_df['model']=lvc_df['c'].apply(lambda c: RandomForestClassifier(n_estimators=c).fit(tX, list(tY)))\n",
        "  if (model=='NB'):\n",
        "    alphas = np.linspace(.1, 100, num=100)\n",
        "    lvc_df = pd.DataFrame(alphas, columns=['c'])\n",
        "    lvc_df['model'] = lvc_df['c'].apply(lambda c: MultinomialNB(alpha=c).fit(tX, list(tY)))\n",
        "    \n",
        "  lvc_df['score']=lvc_df['model'].apply(lambda model: model.score(vX, list(vY)))\n",
        "  filter=lvc_df['score']==max(lvc_df['score'])\n",
        "  bestmodel=lvc_df[filter]['model'].values[0]\n",
        "  train_score=bestmodel.score(tX,list(tY))\n",
        "\n",
        "  return bestmodel, train_score, max(lvc_df['score'])\n",
        "  #return max(lvc_df['score'])"
      ],
      "execution_count": 7,
      "outputs": []
    },
    {
      "cell_type": "code",
      "metadata": {
        "colab": {
          "base_uri": "https://localhost:8080/"
        },
        "id": "ACyCFsVcToug",
        "outputId": "5a3bc0d9-d5cd-4909-aba3-9a13a508addc"
      },
      "source": [
        "#TF-IDF=True or False, \n",
        "#change name to be different,\n",
        "#first use Label='sentiment' to run all train_text\n",
        "stopword_list = nltk.corpus.stopwords.words('english')\n",
        "name='text'\n",
        "#name='Rake_Extracted'\n",
        "#name='selected_text'\n",
        "LRGRate_model, LGRRate_train_score, LGRRate_test_score=ML('LRG', train_txt, test_txt,name, stopword_list,TF_IDF=True, Label='sentiment')\n",
        "NBRate_model, NBRate_train_score, NBRate_test_score=ML('NB', train_txt, test_txt,name, stopword_list,TF_IDF=True, Label='sentiment')\n",
        "LVCRate_model, LVCRate_train_score, LVCRate_test_score=ML('LVC', train_txt, test_txt,name, stopword_list,TF_IDF=True, Label='sentiment')  \n",
        "RFRate_model, RFRate_train_score, RFRate_test_score=ML('RF', train_txt, test_txt,name, stopword_list,TF_IDF=True, Label='sentiment')\n",
        "\n",
        "LRGRate_model, LGRRate_train_score, LGRRate_test_score\n",
        "NBRate_model, NBRate_train_score, NBRate_test_score\n",
        "\n",
        "LVCRate_model, LVCRate_train_score, LVCRate_test_score\n",
        "\n",
        "RFRate_model, RFRate_train_score, RFRate_test_score"
      ],
      "execution_count": 10,
      "outputs": [
        {
          "output_type": "execute_result",
          "data": {
            "text/plain": [
              "(LogisticRegression(C=0.7979591836734694, class_weight=None, dual=False,\n",
              "                    fit_intercept=True, intercept_scaling=1, l1_ratio=None,\n",
              "                    max_iter=30.0, multi_class='auto', n_jobs=-1, penalty='l2',\n",
              "                    random_state=None, solver='lbfgs', tol=0.0001, verbose=0,\n",
              "                    warm_start=False), 0.7121542940320232, 0.691284663271081)"
            ]
          },
          "metadata": {
            "tags": []
          },
          "execution_count": 10
        },
        {
          "output_type": "execute_result",
          "data": {
            "text/plain": [
              "(MultinomialNB(alpha=0.1, class_prior=None, fit_prior=True),\n",
              " 0.6675764192139738,\n",
              " 0.6544991511035654)"
            ]
          },
          "metadata": {
            "tags": []
          },
          "execution_count": 10
        },
        {
          "output_type": "execute_result",
          "data": {
            "text/plain": [
              "(LinearSVC(C=0.22727272727272724, class_weight=None, dual=True,\n",
              "           fit_intercept=True, intercept_scaling=1, loss='squared_hinge',\n",
              "           max_iter=1000, multi_class='ovr', penalty='l2', random_state=None,\n",
              "           tol=0.0001, verbose=0), 0.7118995633187772, 0.6918505942275043)"
            ]
          },
          "metadata": {
            "tags": []
          },
          "execution_count": 10
        },
        {
          "output_type": "execute_result",
          "data": {
            "text/plain": [
              "(RandomForestClassifier(bootstrap=True, ccp_alpha=0.0, class_weight=None,\n",
              "                        criterion='gini', max_depth=None, max_features='auto',\n",
              "                        max_leaf_nodes=None, max_samples=None,\n",
              "                        min_impurity_decrease=0.0, min_impurity_split=None,\n",
              "                        min_samples_leaf=1, min_samples_split=2,\n",
              "                        min_weight_fraction_leaf=0.0, n_estimators=110,\n",
              "                        n_jobs=None, oob_score=False, random_state=None,\n",
              "                        verbose=0, warm_start=False),\n",
              " 0.9676855895196507,\n",
              " 0.687889077532541)"
            ]
          },
          "metadata": {
            "tags": []
          },
          "execution_count": 10
        }
      ]
    },
    {
      "cell_type": "code",
      "metadata": {
        "id": "jR_bPc6tU-30"
      },
      "source": [
        ""
      ],
      "execution_count": null,
      "outputs": []
    },
    {
      "cell_type": "code",
      "metadata": {
        "id": "0KUZot9VTLh5"
      },
      "source": [
        "#TF-IDF=True or False, Label='label' \n",
        "#change name to be different,\n",
        "#second  use Label='label' to run all train_text, but with two classes.\n",
        "stopword_list = nltk.corpus.stopwords.words('english')\n",
        "name='text'\n",
        "#name='Rake_Extracted'\n",
        "#name='selected_text'\n",
        "LRGRate_model, LGRRate_train_score, LGRRate_test_score=ML('LRG', train_txt, test_txt,name, stopword_list,TF_IDF=True, Label='label')\n",
        "NBRate_model, NBRate_train_score, NBRate_test_score=ML('NB', train_txt, test_txt,name, stopword_list,TF_IDF=True, Label='label')\n",
        "LVCRate_model, LVCRate_train_score, LVCRate_test_score=ML('LVC', train_txt, test_txt,name, stopword_list,TF_IDF=True, Label='label')  \n",
        "RFRate_model, RFRate_train_score, RFRate_test_score=ML('RF', train_txt, test_txt,name, stopword_list,TF_IDF=True, Label='label')\n",
        "\n",
        "LRGRate_model, LGRRate_train_score, LGRRate_test_score\n",
        "NBRate_model, NBRate_train_score, NBRate_test_score\n",
        "\n",
        "LVCRate_model, LVCRate_train_score, LVCRate_test_score\n",
        "\n",
        "RFRate_model, RFRate_train_score, RFRate_test_score"
      ],
      "execution_count": null,
      "outputs": []
    },
    {
      "cell_type": "code",
      "metadata": {
        "id": "afs7IiIsQRyA"
      },
      "source": [
        "#random sample Neu-set to have sample size 8000 to be balance\n",
        "#[sum(Neu_set),sum(Pos_set), sum(Neg_set)]\n",
        "#from random import random\n",
        "#import random\n",
        "#nums=random.sample(range(11117),8000)\n",
        "#temp=pd.DataFrame(train_txt[Neu_set])\n",
        "#trainNeu=temp.iloc[nums]\n",
        "#train_txt=pd.concat([train_txt[Neg_set],train_txt[Pos_set],trainNeu])\n"
      ],
      "execution_count": null,
      "outputs": []
    },
    {
      "cell_type": "code",
      "metadata": {
        "id": "XySCMLk7SMzy",
        "colab": {
          "base_uri": "https://localhost:8080/"
        },
        "outputId": "8effeedf-6346-4270-93e8-00dc7d4b8fe5"
      },
      "source": [
        "tX.shape"
      ],
      "execution_count": 43,
      "outputs": [
        {
          "output_type": "execute_result",
          "data": {
            "text/plain": [
              "(27480, 1000)"
            ]
          },
          "metadata": {
            "tags": []
          },
          "execution_count": 43
        }
      ]
    },
    {
      "cell_type": "code",
      "metadata": {
        "id": "CzIuGu9gU-31"
      },
      "source": [
        "stopword_list = nltk.corpus.stopwords.words('english')\n",
        "name='text'\n",
        "\n",
        "Label='label'\n",
        "tX, tY,vX, vY=PreModel(train_txt,test_txt, stopword_list,name, Label=Label)\n",
        "#9/25/20\n",
        "#will compare this vecter with BERT and  Labse produced vector! then run LG, RF model\n",
        "#will try RNN , CNN model"
      ],
      "execution_count": 8,
      "outputs": []
    },
    {
      "cell_type": "code",
      "metadata": {
        "colab": {
          "base_uri": "https://localhost:8080/"
        },
        "id": "UwBsFFf_U-31",
        "outputId": "81bfe662-fcb4-4f7c-9ed6-0728fc4f1b83"
      },
      "source": [
        "tX.Y=pd.concat([tX,pd.DataFrame(tY)])"
      ],
      "execution_count": null,
      "outputs": [
        {
          "output_type": "stream",
          "text": [
            "/usr/local/lib/python3.6/dist-packages/ipykernel_launcher.py:1: UserWarning: Pandas doesn't allow columns to be created via a new attribute name - see https://pandas.pydata.org/pandas-docs/stable/indexing.html#attribute-access\n",
            "  \"\"\"Entry point for launching an IPython kernel.\n"
          ],
          "name": "stderr"
        }
      ]
    },
    {
      "cell_type": "markdown",
      "metadata": {
        "id": "mNMVBj936Omr"
      },
      "source": [
        "BERT Extraction"
      ]
    },
    {
      "cell_type": "code",
      "metadata": {
        "id": "8W2QDe8WU-4W",
        "colab": {
          "base_uri": "https://localhost:8080/"
        },
        "outputId": "dc972c91-87f6-4a0c-9750-5a956fe6d737"
      },
      "source": [
        "!pip install -U sentence-transformers\n",
        "from sentence_transformers import SentenceTransformer as SBERT\n",
        "from sklearn.metrics.pairwise import cosine_similarity\n",
        "mSBERT = SBERT('xlm-r-100langs-bert-base-nli-stsb-mean-tokens')"
      ],
      "execution_count": 9,
      "outputs": [
        {
          "output_type": "stream",
          "text": [
            "Requirement already up-to-date: sentence-transformers in /usr/local/lib/python3.6/dist-packages (0.3.9)\n",
            "Requirement already satisfied, skipping upgrade: numpy in /usr/local/lib/python3.6/dist-packages (from sentence-transformers) (1.18.5)\n",
            "Requirement already satisfied, skipping upgrade: nltk in /usr/local/lib/python3.6/dist-packages (from sentence-transformers) (3.2.5)\n",
            "Requirement already satisfied, skipping upgrade: tqdm in /usr/local/lib/python3.6/dist-packages (from sentence-transformers) (4.41.1)\n",
            "Requirement already satisfied, skipping upgrade: torch>=1.6.0 in /usr/local/lib/python3.6/dist-packages (from sentence-transformers) (1.7.0+cu101)\n",
            "Requirement already satisfied, skipping upgrade: scipy in /usr/local/lib/python3.6/dist-packages (from sentence-transformers) (1.4.1)\n",
            "Requirement already satisfied, skipping upgrade: scikit-learn in /usr/local/lib/python3.6/dist-packages (from sentence-transformers) (0.22.2.post1)\n",
            "Requirement already satisfied, skipping upgrade: transformers<3.6.0,>=3.1.0 in /usr/local/lib/python3.6/dist-packages (from sentence-transformers) (3.5.1)\n",
            "Requirement already satisfied, skipping upgrade: six in /usr/local/lib/python3.6/dist-packages (from nltk->sentence-transformers) (1.15.0)\n",
            "Requirement already satisfied, skipping upgrade: typing-extensions in /usr/local/lib/python3.6/dist-packages (from torch>=1.6.0->sentence-transformers) (3.7.4.3)\n",
            "Requirement already satisfied, skipping upgrade: future in /usr/local/lib/python3.6/dist-packages (from torch>=1.6.0->sentence-transformers) (0.16.0)\n",
            "Requirement already satisfied, skipping upgrade: dataclasses in /usr/local/lib/python3.6/dist-packages (from torch>=1.6.0->sentence-transformers) (0.8)\n",
            "Requirement already satisfied, skipping upgrade: joblib>=0.11 in /usr/local/lib/python3.6/dist-packages (from scikit-learn->sentence-transformers) (0.17.0)\n",
            "Requirement already satisfied, skipping upgrade: protobuf in /usr/local/lib/python3.6/dist-packages (from transformers<3.6.0,>=3.1.0->sentence-transformers) (3.12.4)\n",
            "Requirement already satisfied, skipping upgrade: packaging in /usr/local/lib/python3.6/dist-packages (from transformers<3.6.0,>=3.1.0->sentence-transformers) (20.4)\n",
            "Requirement already satisfied, skipping upgrade: regex!=2019.12.17 in /usr/local/lib/python3.6/dist-packages (from transformers<3.6.0,>=3.1.0->sentence-transformers) (2019.12.20)\n",
            "Requirement already satisfied, skipping upgrade: sentencepiece==0.1.91 in /usr/local/lib/python3.6/dist-packages (from transformers<3.6.0,>=3.1.0->sentence-transformers) (0.1.91)\n",
            "Requirement already satisfied, skipping upgrade: tokenizers==0.9.3 in /usr/local/lib/python3.6/dist-packages (from transformers<3.6.0,>=3.1.0->sentence-transformers) (0.9.3)\n",
            "Requirement already satisfied, skipping upgrade: sacremoses in /usr/local/lib/python3.6/dist-packages (from transformers<3.6.0,>=3.1.0->sentence-transformers) (0.0.43)\n",
            "Requirement already satisfied, skipping upgrade: requests in /usr/local/lib/python3.6/dist-packages (from transformers<3.6.0,>=3.1.0->sentence-transformers) (2.23.0)\n",
            "Requirement already satisfied, skipping upgrade: filelock in /usr/local/lib/python3.6/dist-packages (from transformers<3.6.0,>=3.1.0->sentence-transformers) (3.0.12)\n",
            "Requirement already satisfied, skipping upgrade: setuptools in /usr/local/lib/python3.6/dist-packages (from protobuf->transformers<3.6.0,>=3.1.0->sentence-transformers) (50.3.2)\n",
            "Requirement already satisfied, skipping upgrade: pyparsing>=2.0.2 in /usr/local/lib/python3.6/dist-packages (from packaging->transformers<3.6.0,>=3.1.0->sentence-transformers) (2.4.7)\n",
            "Requirement already satisfied, skipping upgrade: click in /usr/local/lib/python3.6/dist-packages (from sacremoses->transformers<3.6.0,>=3.1.0->sentence-transformers) (7.1.2)\n",
            "Requirement already satisfied, skipping upgrade: idna<3,>=2.5 in /usr/local/lib/python3.6/dist-packages (from requests->transformers<3.6.0,>=3.1.0->sentence-transformers) (2.10)\n",
            "Requirement already satisfied, skipping upgrade: urllib3!=1.25.0,!=1.25.1,<1.26,>=1.21.1 in /usr/local/lib/python3.6/dist-packages (from requests->transformers<3.6.0,>=3.1.0->sentence-transformers) (1.24.3)\n",
            "Requirement already satisfied, skipping upgrade: chardet<4,>=3.0.2 in /usr/local/lib/python3.6/dist-packages (from requests->transformers<3.6.0,>=3.1.0->sentence-transformers) (3.0.4)\n",
            "Requirement already satisfied, skipping upgrade: certifi>=2017.4.17 in /usr/local/lib/python3.6/dist-packages (from requests->transformers<3.6.0,>=3.1.0->sentence-transformers) (2020.11.8)\n"
          ],
          "name": "stdout"
        },
        {
          "output_type": "stream",
          "text": [
            "100%|██████████| 1.01G/1.01G [00:56<00:00, 17.9MB/s]\n"
          ],
          "name": "stderr"
        }
      ]
    },
    {
      "cell_type": "code",
      "metadata": {
        "id": "r10TGVf2U-4W"
      },
      "source": [
        "\n",
        "dfBERT_train=pd.DataFrame(mSBERT.encode(train_txt['text'].tolist()), index=train_txt['textID'])\n",
        "dfBERT_test=pd.DataFrame(mSBERT.encode(test_txt['text'].tolist()), index=test_txt['textID'])\n",
        "#Bert data\n",
        "tX_numpy=dfBERT_train.to_numpy()\n",
        "tY_numpy=np.array(tY)\n",
        "vX_numpy=dfBERT_test.to_numpy()\n",
        "vY_numpy=np.array(vY)"
      ],
      "execution_count": null,
      "outputs": []
    },
    {
      "cell_type": "code",
      "metadata": {
        "id": "KwUQQ5lOU-4W"
      },
      "source": [
        "def BERTML(model, dfBERT_train, tY, dfBERT_test, vY):\n",
        "  \n",
        "  if (model=='LRG'):\n",
        "    para_seed = [(c, iter) for c in np.linspace(.01, 1, num=50) for iter in np.linspace(10, 50, num=5)]\n",
        "    lvc_df = pd.DataFrame(para_seed, columns=['c', 'iter'])\n",
        "    lvc_df['model'] =  lvc_df.apply(lambda row: LogisticRegression(n_jobs=-1, C=row.c, max_iter=row.iter).fit(dfBERT_train, list(tY)), axis=1)\n",
        "    #lvc_df['score'] = lvc_df['model'].apply(lambda model: model.score(vX, list(vY)))\n",
        "  if (model=='LVC'):\n",
        "    c_seed = np.linspace(.05, 2, num=100)\n",
        "    lvc_df = pd.DataFrame(c_seed, columns=['c'])\n",
        "    lvc_df['model'] = lvc_df['c'].apply(lambda c: LinearSVC(C=c).fit(dfBERT_train, list(tY)))\n",
        "    #lvc_df['score'] = lvc_df['model'].apply(lambda model: model.score(TvX, list(vY)))\n",
        "\n",
        "  if (model=='RF'):\n",
        "    n_estimators = range(10, 200,100)\n",
        "    lvc_df = pd.DataFrame(n_estimators, columns=['c'])\n",
        "    lvc_df['model']=lvc_df['c'].apply(lambda c: RandomForestClassifier(n_estimators=c).fit(dfBERT_train, list(tY)))\n",
        "  if (model=='NB'):\n",
        "    alphas = np.linspace(.1, 100, num=100)\n",
        "    lvc_df = pd.DataFrame(alphas, columns=['c'])\n",
        "    lvc_df['model'] = lvc_df['c'].apply(lambda c: MultinomialNB(alpha=c).fit(dfBERT_train, list(tY)))\n",
        "    \n",
        "  lvc_df['score']=lvc_df['model'].apply(lambda model: model.score(dfBERT_test, list(vY)))\n",
        "  filter=lvc_df['score']==max(lvc_df['score'])\n",
        "  bestmodel=lvc_df[filter]['model'].values[0]\n",
        "  train_score=bestmodel.score(dfBERT_train,list(tY))\n",
        "\n",
        "  return bestmodel, train_score, max(lvc_df['score'])\n",
        "  #return max(lvc_df['score'])"
      ],
      "execution_count": 13,
      "outputs": []
    },
    {
      "cell_type": "code",
      "metadata": {
        "id": "7JcSX3VzU-4Y"
      },
      "source": [
        "model=\"LVC\"\n",
        "\n",
        "LVCModel, LVCTrainScore, LVCscore=BERTML(model, dfBERT_train, tY, dfBERT_test, vY)\n",
        "\n",
        "model=\"RF\"\n",
        "RFModel, RFTrainScore, RFscore=BERTML(model, dfBERT_train, tY, dfBERT_test, vY)\n",
        "\n",
        "\n",
        "\n",
        "model=\"LRG\"\n",
        "LRGModel, LRGTrainScore, LRGscore=BERTML(model, dfBERT_train, tY, dfBERT_test, vY)\n",
        "\n",
        "final=[[LVCModel, LVCTrainScore, LVCscore],[LRGModel, LRGTrainScore, LRGscore],[RFModel, RFTrainScore, RFscore]]\n",
        "final"
      ],
      "execution_count": null,
      "outputs": []
    },
    {
      "cell_type": "code",
      "metadata": {
        "id": "KYX6xvpJU-4b"
      },
      "source": [
        "from keras.models import Sequential\n",
        "from keras.layers import Dense, LSTM, SimpleRNN, Flatten\n",
        "from keras.layers.embeddings import Embedding\n",
        "from keras.layers.convolutional import Conv1D, MaxPooling1D\n",
        "import pandas as pd\n",
        "\n",
        "max_review_length = 500\n",
        "vocabulary_size = 500\n",
        "embedding_dim=500#\n",
        "# Fully connected neural network\n",
        "model_ffn = Sequential()\n",
        "model_ffn.add(Dense(250, activation='relu',input_dim=max_review_length))\n",
        "model_ffn.add(Dense(1, activation='sigmoid'))\n",
        "model_ffn.compile(loss='binary_crossentropy', optimizer='adam', metrics=['accuracy'])\n",
        "\n",
        "history_ffn = model_ffn.fit([tX, pd.DataFrame(tY)])\n",
        "#(tX, tY, epochs=20, batch_size=128, verbose=2)\n",
        "#history_ffn = model_ffn.fit(tX, tY, verbose=2)\n",
        "#scores_ffn = model_ffn.evaluate(vX, vY, verbose=0)\n",
        "\n",
        "# Fully connected neural network with embeddings\n",
        "model_ffne = Sequential()\n",
        "model_ffne.add(Embedding(vocabulary_size, embedding_dim, input_length=max_review_length))\n",
        "model_ffne.add(Flatten())\n",
        "model_ffne.add(Dense(250, activation='relu'))\n",
        "model_ffne.add(Dense(1, activation='sigmoid'))\n",
        "model_ffne.compile(loss='binary_crossentropy', optimizer='adam', metrics=['accuracy'])\n",
        "#history_ffne = model_ffne.fit(tX, tY, epochs=20, batch_size=128, verbose=2)\n",
        "#scores_ffne = model_ffne.evaluate(vX, vY, verbose=0)\n",
        "\n",
        "# Convolutional neural network\n",
        "model_cnn = Sequential()\n",
        "model_cnn.add(Embedding(vocabulary_size, embedding_dim, input_length=max_review_length))\n",
        "model_cnn.add(Conv1D(filters=200, kernel_size=3, padding='same', activation='relu'))\n",
        "model_cnn.add(MaxPooling1D(pool_size=2))\n",
        "model_cnn.add(Flatten())\n",
        "model_cnn.add(Dense(250, activation='relu'))\n",
        "model_cnn.add(Dense(1, activation='sigmoid'))\n",
        "model_cnn.compile(loss='binary_crossentropy', optimizer='adam', metrics=['accuracy'])\n",
        "history_cnn = model_cnn.fit(tX, tY, verbose=2)\n",
        "scores_cnn = model_cnn.evaluate(vX, vY, verbose=0)\n",
        "\n",
        "# Recurrent Neural Network\n",
        "model_rnn = Sequential()\n",
        "model_rnn.add(Embedding(vocabulary_size, embedding_dim, input_length=max_review_length))\n",
        "model_rnn.add(SimpleRNN(100))\n",
        "model_rnn.add(Dense(1, activation='sigmoid'))\n",
        "model_rnn.compile(loss='binary_crossentropy', optimizer='adam', metrics=['accuracy'])\n",
        "history_rnn = model_rnn.fit(tX, tY, epochs=3, batch_size=64)\n",
        "scores_rnn = model_rnn.evaluate(vX, vY, verbose=0)\n",
        "\n",
        "# Convolutional + Recurrent Neural Network\n",
        "model_cnn_rnn = Sequential()\n",
        "model_cnn_rnn.add(Embedding(vocabulary_size, embedding_dim, input_length=max_review_length))\n",
        "model_cnn_rnn.add(Conv1D(filters=32, kernel_size=3, padding='same', activation='relu'))\n",
        "model_cnn_rnn.add(MaxPooling1D(pool_size=2))\n",
        "model_cnn_rnn.add(SimpleRNN(100))\n",
        "model_cnn_rnn.add(Dense(1, activation='sigmoid'))\n",
        "model_cnn_rnn.compile(loss='binary_crossentropy', optimizer='adam', metrics=['accuracy'])\n",
        "history_cnn_rnn = model_cnn_rnn.fit(tX, tY, epochs=10, batch_size=64)\n",
        "scores_cnn_rnn = model_cnn_rnn.evaluate(vX, vY, verbose=0)\n",
        "\n",
        "# Evaluation\n",
        "df = pd.DataFrame({'Model': ['FFNN', 'FFNN with Embeddings', 'CNN', 'RNN', 'CNN+RNN'],\n",
        "                   'Accuracy': [str(round(scores_ffn[1]*100, 2)) + '%',\n",
        "                                str(round(scores_ffne[1]*100, 2)) + '%',\n",
        "                                str(round(scores_cnn[1]*100, 2)) + '%',\n",
        "                                str(round(scores_rnn[1]*100, 2)) + '%',\n",
        "                                str(round(scores_cnn_rnn[1]*100, 2)) + '%']})\n",
        "df"
      ],
      "execution_count": null,
      "outputs": []
    },
    {
      "cell_type": "code",
      "metadata": {
        "id": "r21UWZD_2N3M"
      },
      "source": [
        "stopword_list = nltk.corpus.stopwords.words('english')\n",
        "name='text'\n",
        "\n",
        "Label='label'\n",
        "tX, tY,vX, vY=PreModel(train_txt,test_txt, stopword_list,name, Label=Label)\n",
        "tX_numpy=tX.to_numpy()\n",
        "tY_numpy=np.array(tY)\n",
        "vX_numpy=vX.to_numpy()\n",
        "vY_numpy=np.array(vY)"
      ],
      "execution_count": 14,
      "outputs": []
    },
    {
      "cell_type": "code",
      "metadata": {
        "id": "LW54ZTY12I4-",
        "colab": {
          "base_uri": "https://localhost:8080/"
        },
        "outputId": "c99b3017-3f68-49d3-f9a2-5c131f426651"
      },
      "source": [
        "from keras.models import Sequential\n",
        "from keras.layers import Dense, LSTM, SimpleRNN, Flatten\n",
        "from keras.layers.embeddings import Embedding\n",
        "from keras.layers.convolutional import Conv1D, MaxPooling1D\n",
        "import pandas as pd\n",
        "\n",
        "max_review_length = 1000\n",
        "vocabulary_size = 1000\n",
        "embedding_dim=1000#\n",
        "embedding_dim=50\n",
        "# Fully connected neural network\n",
        "model_ffn = Sequential()\n",
        "model_ffn.add(Dense(250, activation='relu',input_dim=max_review_length))\n",
        "model_ffn.add(Dense(1, activation='sigmoid'))\n",
        "model_ffn.compile(loss='binary_crossentropy', optimizer='adam', metrics=['accuracy'])\n",
        "#history_ffn = model_ffn.fit(X_train, y_train,epochs=20, batch_size=128, verbose=2)\n",
        "#history_ffn = model_ffn.fit([tX, pd.DataFrame(tY)])\n",
        "\n",
        "history_ffn = model_ffn.fit(tX_numpy, tY_numpy, epochs=30,verbose=2)\n",
        "\n",
        "scores_ffn = model_ffn.evaluate(vX_numpy, vY_numpy, verbose=0)\n",
        "scores_ffn"
      ],
      "execution_count": 15,
      "outputs": [
        {
          "output_type": "stream",
          "text": [
            "Epoch 1/30\n",
            "859/859 - 2s - loss: 0.6022 - accuracy: 0.6754\n",
            "Epoch 2/30\n",
            "859/859 - 2s - loss: 0.5476 - accuracy: 0.7378\n",
            "Epoch 3/30\n",
            "859/859 - 2s - loss: 0.5240 - accuracy: 0.7555\n",
            "Epoch 4/30\n",
            "859/859 - 2s - loss: 0.4994 - accuracy: 0.7680\n",
            "Epoch 5/30\n",
            "859/859 - 2s - loss: 0.4709 - accuracy: 0.7882\n",
            "Epoch 6/30\n",
            "859/859 - 2s - loss: 0.4348 - accuracy: 0.8087\n",
            "Epoch 7/30\n",
            "859/859 - 2s - loss: 0.3919 - accuracy: 0.8344\n",
            "Epoch 8/30\n",
            "859/859 - 2s - loss: 0.3450 - accuracy: 0.8604\n",
            "Epoch 9/30\n",
            "859/859 - 2s - loss: 0.2956 - accuracy: 0.8874\n",
            "Epoch 10/30\n",
            "859/859 - 2s - loss: 0.2496 - accuracy: 0.9129\n",
            "Epoch 11/30\n",
            "859/859 - 2s - loss: 0.2124 - accuracy: 0.9297\n",
            "Epoch 12/30\n",
            "859/859 - 2s - loss: 0.1825 - accuracy: 0.9410\n",
            "Epoch 13/30\n",
            "859/859 - 2s - loss: 0.1600 - accuracy: 0.9491\n",
            "Epoch 14/30\n",
            "859/859 - 2s - loss: 0.1439 - accuracy: 0.9526\n",
            "Epoch 15/30\n",
            "859/859 - 2s - loss: 0.1319 - accuracy: 0.9557\n",
            "Epoch 16/30\n",
            "859/859 - 2s - loss: 0.1234 - accuracy: 0.9564\n",
            "Epoch 17/30\n",
            "859/859 - 3s - loss: 0.1166 - accuracy: 0.9580\n",
            "Epoch 18/30\n",
            "859/859 - 2s - loss: 0.1108 - accuracy: 0.9599\n",
            "Epoch 19/30\n",
            "859/859 - 2s - loss: 0.1075 - accuracy: 0.9595\n",
            "Epoch 20/30\n",
            "859/859 - 2s - loss: 0.1046 - accuracy: 0.9608\n",
            "Epoch 21/30\n",
            "859/859 - 2s - loss: 0.1043 - accuracy: 0.9592\n",
            "Epoch 22/30\n",
            "859/859 - 2s - loss: 0.1006 - accuracy: 0.9603\n",
            "Epoch 23/30\n",
            "859/859 - 2s - loss: 0.0984 - accuracy: 0.9607\n",
            "Epoch 24/30\n",
            "859/859 - 2s - loss: 0.0973 - accuracy: 0.9602\n",
            "Epoch 25/30\n",
            "859/859 - 2s - loss: 0.0974 - accuracy: 0.9610\n",
            "Epoch 26/30\n",
            "859/859 - 2s - loss: 0.0965 - accuracy: 0.9602\n",
            "Epoch 27/30\n",
            "859/859 - 2s - loss: 0.0948 - accuracy: 0.9608\n",
            "Epoch 28/30\n",
            "859/859 - 2s - loss: 0.0941 - accuracy: 0.9614\n",
            "Epoch 29/30\n",
            "859/859 - 2s - loss: 0.0936 - accuracy: 0.9607\n",
            "Epoch 30/30\n",
            "859/859 - 2s - loss: 0.0942 - accuracy: 0.9603\n"
          ],
          "name": "stdout"
        },
        {
          "output_type": "execute_result",
          "data": {
            "text/plain": [
              "[1.019672155380249, 0.7037351727485657]"
            ]
          },
          "metadata": {
            "tags": []
          },
          "execution_count": 15
        }
      ]
    },
    {
      "cell_type": "code",
      "metadata": {
        "colab": {
          "base_uri": "https://localhost:8080/"
        },
        "id": "KW-6mdj-4biP",
        "outputId": "76cd0d02-7c6d-42ef-ec0b-10fb851fcb3c"
      },
      "source": [
        "from keras.models import Sequential\n",
        "from keras.layers import Dense, LSTM, SimpleRNN, Flatten\n",
        "from keras.layers.embeddings import Embedding\n",
        "from keras.layers.convolutional import Conv1D, MaxPooling1D\n",
        "import pandas as pd\n",
        "\n",
        "\n",
        "max_review_length = 768\n",
        "vocabulary_size = 768\n",
        "max_review_length = 1000\n",
        "vocabulary_size = 1000\n",
        "embedding_dim=50#\n",
        "# Convolutional neural network\n",
        "model_cnn = Sequential()\n",
        "model_cnn.add(Embedding(vocabulary_size, embedding_dim, input_length=max_review_length))\n",
        "model_cnn.add(Conv1D(filters=200, kernel_size=3, padding='same', activation='relu'))\n",
        "model_cnn.add(MaxPooling1D(pool_size=2))\n",
        "model_cnn.add(Flatten())\n",
        "model_cnn.add(Dense(250, activation='relu'))\n",
        "model_cnn.add(Dense(1, activation='sigmoid'))\n",
        "model_cnn.compile(loss='binary_crossentropy', optimizer='adam', metrics=['accuracy'])\n",
        "history_cnn = model_cnn.fit(tX_numpy, tY_numpy,epochs=30, batch_size=128,verbose=2)\n",
        "scores_cnn = model_cnn.evaluate(vX_numpy, vY_numpy, verbose=0)\n",
        "scores_cnn"
      ],
      "execution_count": 17,
      "outputs": [
        {
          "output_type": "stream",
          "text": [
            "Epoch 1/30\n",
            "215/215 - 260s - loss: 0.6769 - accuracy: 0.5997\n",
            "Epoch 2/30\n",
            "215/215 - 260s - loss: 0.6622 - accuracy: 0.6161\n",
            "Epoch 3/30\n",
            "215/215 - 263s - loss: 0.6548 - accuracy: 0.6225\n",
            "Epoch 4/30\n",
            "215/215 - 260s - loss: 0.6528 - accuracy: 0.6234\n",
            "Epoch 5/30\n",
            "215/215 - 260s - loss: 0.6521 - accuracy: 0.6231\n",
            "Epoch 6/30\n",
            "215/215 - 262s - loss: 0.6500 - accuracy: 0.6242\n",
            "Epoch 7/30\n",
            "215/215 - 265s - loss: 0.6493 - accuracy: 0.6239\n",
            "Epoch 8/30\n",
            "215/215 - 262s - loss: 0.6483 - accuracy: 0.6248\n",
            "Epoch 9/30\n",
            "215/215 - 267s - loss: 0.6477 - accuracy: 0.6248\n",
            "Epoch 10/30\n",
            "215/215 - 262s - loss: 0.6473 - accuracy: 0.6250\n",
            "Epoch 11/30\n",
            "215/215 - 263s - loss: 0.6469 - accuracy: 0.6248\n",
            "Epoch 12/30\n",
            "215/215 - 262s - loss: 0.6467 - accuracy: 0.6253\n",
            "Epoch 13/30\n",
            "215/215 - 263s - loss: 0.6470 - accuracy: 0.6249\n",
            "Epoch 14/30\n",
            "215/215 - 266s - loss: 0.6464 - accuracy: 0.6249\n",
            "Epoch 15/30\n",
            "215/215 - 263s - loss: 0.6462 - accuracy: 0.6252\n",
            "Epoch 16/30\n",
            "215/215 - 266s - loss: 0.6463 - accuracy: 0.6251\n",
            "Epoch 17/30\n",
            "215/215 - 262s - loss: 0.6475 - accuracy: 0.6241\n",
            "Epoch 18/30\n",
            "215/215 - 262s - loss: 0.6461 - accuracy: 0.6250\n",
            "Epoch 19/30\n",
            "215/215 - 261s - loss: 0.6459 - accuracy: 0.6255\n",
            "Epoch 20/30\n",
            "215/215 - 261s - loss: 0.6459 - accuracy: 0.6253\n",
            "Epoch 21/30\n",
            "215/215 - 262s - loss: 0.6465 - accuracy: 0.6229\n",
            "Epoch 22/30\n",
            "215/215 - 263s - loss: 0.6455 - accuracy: 0.6251\n",
            "Epoch 23/30\n",
            "215/215 - 263s - loss: 0.6454 - accuracy: 0.6253\n",
            "Epoch 24/30\n",
            "215/215 - 263s - loss: 0.6455 - accuracy: 0.6255\n",
            "Epoch 25/30\n",
            "215/215 - 263s - loss: 0.6452 - accuracy: 0.6253\n",
            "Epoch 26/30\n",
            "215/215 - 263s - loss: 0.6451 - accuracy: 0.6253\n",
            "Epoch 27/30\n",
            "215/215 - 260s - loss: 0.6451 - accuracy: 0.6253\n",
            "Epoch 28/30\n",
            "215/215 - 261s - loss: 0.6450 - accuracy: 0.6254\n",
            "Epoch 29/30\n",
            "215/215 - 261s - loss: 0.6449 - accuracy: 0.6256\n",
            "Epoch 30/30\n",
            "215/215 - 260s - loss: 0.6449 - accuracy: 0.6254\n"
          ],
          "name": "stdout"
        },
        {
          "output_type": "execute_result",
          "data": {
            "text/plain": [
              "[0.6925280094146729, 0.6117713451385498]"
            ]
          },
          "metadata": {
            "tags": []
          },
          "execution_count": 17
        }
      ]
    },
    {
      "cell_type": "code",
      "metadata": {
        "colab": {
          "base_uri": "https://localhost:8080/"
        },
        "id": "c4KCYD6E4gpz",
        "outputId": "2c07c2d5-0a13-49c9-9d00-1b3677c30745"
      },
      "source": [
        "embedding_dim=100#\n",
        "\n",
        "# Recurrent Neural Network\n",
        "model_rnn = Sequential()\n",
        "model_rnn.add(Embedding(vocabulary_size, embedding_dim, input_length=max_review_length))\n",
        "model_rnn.add(SimpleRNN(100))\n",
        "model_rnn.add(Dense(1, activation='sigmoid'))\n",
        "model_rnn.compile(loss='binary_crossentropy', optimizer='adam', metrics=['accuracy'])\n",
        "history_rnn = model_rnn.fit(tX_numpy, tY_numpy,epochs=30, batch_size=128,verbose=2)\n",
        "scores_rnn = model_rnn.evaluate(vX_numpy, vY_numpy, verbose=0)\n",
        "scores_rnn"
      ],
      "execution_count": 20,
      "outputs": [
        {
          "output_type": "stream",
          "text": [
            "Epoch 1/30\n",
            "215/215 - 150s - loss: 0.6766 - accuracy: 0.5951\n",
            "Epoch 2/30\n",
            "215/215 - 149s - loss: 0.6760 - accuracy: 0.5955\n",
            "Epoch 3/30\n",
            "215/215 - 152s - loss: 0.6777 - accuracy: 0.5949\n",
            "Epoch 4/30\n",
            "215/215 - 150s - loss: 0.6766 - accuracy: 0.5955\n",
            "Epoch 5/30\n",
            "215/215 - 152s - loss: 0.6762 - accuracy: 0.5955\n",
            "Epoch 6/30\n",
            "215/215 - 149s - loss: 0.6759 - accuracy: 0.5955\n",
            "Epoch 7/30\n",
            "215/215 - 149s - loss: 0.6764 - accuracy: 0.5955\n",
            "Epoch 8/30\n",
            "215/215 - 150s - loss: 0.6765 - accuracy: 0.5955\n",
            "Epoch 9/30\n",
            "215/215 - 151s - loss: 0.6763 - accuracy: 0.5955\n",
            "Epoch 10/30\n",
            "215/215 - 151s - loss: 0.6757 - accuracy: 0.5955\n",
            "Epoch 11/30\n",
            "215/215 - 151s - loss: 0.6759 - accuracy: 0.5955\n",
            "Epoch 12/30\n",
            "215/215 - 151s - loss: 0.6756 - accuracy: 0.5955\n",
            "Epoch 13/30\n",
            "215/215 - 151s - loss: 0.6762 - accuracy: 0.5955\n",
            "Epoch 14/30\n",
            "215/215 - 150s - loss: 0.6752 - accuracy: 0.5955\n",
            "Epoch 15/30\n",
            "215/215 - 150s - loss: 0.6760 - accuracy: 0.5955\n",
            "Epoch 16/30\n",
            "215/215 - 151s - loss: 0.6761 - accuracy: 0.5955\n",
            "Epoch 17/30\n",
            "215/215 - 149s - loss: 0.6755 - accuracy: 0.5955\n",
            "Epoch 18/30\n",
            "215/215 - 149s - loss: 0.6758 - accuracy: 0.5955\n",
            "Epoch 19/30\n",
            "215/215 - 149s - loss: 0.6762 - accuracy: 0.5955\n",
            "Epoch 20/30\n",
            "215/215 - 149s - loss: 0.6759 - accuracy: 0.5955\n",
            "Epoch 21/30\n",
            "215/215 - 148s - loss: 0.6759 - accuracy: 0.5955\n",
            "Epoch 22/30\n",
            "215/215 - 149s - loss: 0.6767 - accuracy: 0.5955\n",
            "Epoch 23/30\n",
            "215/215 - 148s - loss: 0.6762 - accuracy: 0.5955\n",
            "Epoch 24/30\n",
            "215/215 - 148s - loss: 0.6766 - accuracy: 0.5955\n",
            "Epoch 25/30\n",
            "215/215 - 148s - loss: 0.6756 - accuracy: 0.5955\n",
            "Epoch 26/30\n",
            "215/215 - 148s - loss: 0.6757 - accuracy: 0.5955\n",
            "Epoch 27/30\n",
            "215/215 - 148s - loss: 0.6756 - accuracy: 0.5955\n",
            "Epoch 28/30\n",
            "215/215 - 148s - loss: 0.6757 - accuracy: 0.5955\n",
            "Epoch 29/30\n",
            "215/215 - 148s - loss: 0.6756 - accuracy: 0.5955\n",
            "Epoch 30/30\n",
            "215/215 - 148s - loss: 0.6757 - accuracy: 0.5955\n"
          ],
          "name": "stdout"
        },
        {
          "output_type": "execute_result",
          "data": {
            "text/plain": [
              "[0.6766024231910706, 0.5953593850135803]"
            ]
          },
          "metadata": {
            "tags": []
          },
          "execution_count": 20
        }
      ]
    },
    {
      "cell_type": "code",
      "metadata": {
        "colab": {
          "base_uri": "https://localhost:8080/"
        },
        "id": "YKtKyZmH4lmk",
        "outputId": "74321c71-8d42-453e-8693-e25e9491c732"
      },
      "source": [
        "#11/1/2020\n",
        "from keras.models import Sequential\n",
        "from keras.layers import Dense, LSTM, SimpleRNN, Flatten\n",
        "from keras.layers.embeddings import Embedding\n",
        "from keras.layers.convolutional import Conv1D, MaxPooling1D\n",
        "import pandas as pd\n",
        "\n",
        "max_review_length = 1000\n",
        "vocabulary_size = 1000\n",
        "embedding_dim=500#\n",
        "\n",
        "# Fully connected neural network\n",
        "model_ffn = Sequential()\n",
        "model_ffn.add(Dense(250, activation='relu',input_dim=max_review_length))\n",
        "model_ffn.add(Dense(1, activation='sigmoid'))\n",
        "model_ffn.compile(loss='binary_crossentropy', optimizer='adam', metrics=['accuracy'])\n",
        "\n",
        "history_ffn = model_ffn.fit(tX_numpy, tY_numpy, epochs=30,verbose=2)\n",
        "scores_ffn = model_ffn.evaluate(vX_numpy, vY_numpy, verbose=0)\n",
        "\n",
        "# Fully connected neural network with embeddings\n",
        "model_ffne = Sequential()\n",
        "model_ffne.add(Embedding(vocabulary_size, embedding_dim, input_length=max_review_length))\n",
        "model_ffne.add(Flatten())\n",
        "model_ffne.add(Dense(250, activation='relu'))\n",
        "model_ffne.add(Dense(1, activation='sigmoid'))\n",
        "model_ffne.compile(loss='binary_crossentropy', optimizer='adam', metrics=['accuracy'])\n",
        "\n",
        "history_ffne = model_ffne.fit(tX_numpy, tY_numpy, epochs=30, batch_size=128, verbose=2)\n",
        "scores_ffne = model_ffne.evaluate(vX_numpy, vY_numpy, verbose=0)\n",
        "\n",
        "\n",
        "# Convolutional neural network\n",
        "model_cnn = Sequential()\n",
        "model_cnn.add(Embedding(vocabulary_size, embedding_dim, input_length=max_review_length))\n",
        "model_cnn.add(Conv1D(filters=200, kernel_size=3, padding='same', activation='relu'))\n",
        "model_cnn.add(MaxPooling1D(pool_size=2))\n",
        "model_cnn.add(Flatten())\n",
        "model_cnn.add(Dense(250, activation='relu'))\n",
        "model_cnn.add(Dense(1, activation='sigmoid'))\n",
        "model_cnn.compile(loss='binary_crossentropy', optimizer='adam', metrics=['accuracy'])\n",
        "history_cnn = model_cnn.fit(tX_numpy, tY_numpy,epochs=30, batch_size=128,verbose=2)\n",
        "scores_cnn = model_cnn.evaluate(vX_numpy, vY_numpy, verbose=0)\n",
        "# Recurrent Neural Network\n",
        "model_rnn = Sequential()\n",
        "model_rnn.add(Embedding(vocabulary_size, embedding_dim, input_length=max_review_length))\n",
        "model_rnn.add(SimpleRNN(100))\n",
        "model_rnn.add(Dense(1, activation='sigmoid'))\n",
        "model_rnn.compile(loss='binary_crossentropy', optimizer='adam', metrics=['accuracy'])\n",
        "history_rnn = model_rnn.fit(tX_numpy, tY_numpy,epochs=30, batch_size=128,verbose=2)\n",
        "scores_rnn = model_rnn.evaluate(vX_numpy, vY_numpy, verbose=0)\n",
        "\n",
        "# Convolutional + Recurrent Neural Network\n",
        "\n",
        "model_cnn_rnn = Sequential()\n",
        "model_cnn_rnn.add(Embedding(vocabulary_size, embedding_dim, input_length=max_review_length))\n",
        "model_cnn_rnn.add(Conv1D(filters=32, kernel_size=3, padding='same', activation='relu'))\n",
        "model_cnn_rnn.add(MaxPooling1D(pool_size=2))\n",
        "model_cnn_rnn.add(SimpleRNN(100))\n",
        "model_cnn_rnn.add(Dense(1, activation='sigmoid'))\n",
        "model_cnn_rnn.compile(loss='binary_crossentropy', optimizer='adam', metrics=['accuracy'])\n",
        "history_cnn_rnn = model_cnn_rnn.fit(tX_numpy, tY_numpy,epochs=30, batch_size=128,verbose=2)\n",
        "scores_cnn_rnn = model_cnn_rnn.evaluate(vX_numpy, vY_numpy, verbose=0)\n",
        "scores_cnn_rnn\n",
        "# Evaluation\n",
        "df = pd.DataFrame({'Model': ['FFNN', 'FFNN with Embeddings', 'CNN', 'RNN', 'CNN+RNN'],\n",
        "                   'Accuracy': [str(round(scores_ffn[1]*100, 2)) + '%',\n",
        "                                str(round(scores_ffne[1]*100, 2)) + '%',\n",
        "                                str(round(scores_cnn[1]*100, 2)) + '%',\n",
        "                                str(round(scores_rnn[1]*100, 2)) + '%',\n",
        "                                str(round(scores_cnn_rnn[1]*100, 2)) + '%']})\n",
        "df"
      ],
      "execution_count": null,
      "outputs": [
        {
          "output_type": "stream",
          "text": [
            "Epoch 1/30\n",
            "859/859 - 2s - loss: 0.6025 - accuracy: 0.6774\n",
            "Epoch 2/30\n",
            "859/859 - 2s - loss: 0.5479 - accuracy: 0.7369\n",
            "Epoch 3/30\n",
            "859/859 - 2s - loss: 0.5238 - accuracy: 0.7532\n",
            "Epoch 4/30\n",
            "859/859 - 2s - loss: 0.4968 - accuracy: 0.7695\n",
            "Epoch 5/30\n",
            "859/859 - 2s - loss: 0.4650 - accuracy: 0.7908\n",
            "Epoch 6/30\n",
            "859/859 - 2s - loss: 0.4251 - accuracy: 0.8125\n",
            "Epoch 7/30\n",
            "859/859 - 2s - loss: 0.3798 - accuracy: 0.8421\n",
            "Epoch 8/30\n",
            "859/859 - 3s - loss: 0.3316 - accuracy: 0.8686\n",
            "Epoch 9/30\n",
            "859/859 - 2s - loss: 0.2843 - accuracy: 0.8945\n",
            "Epoch 10/30\n",
            "859/859 - 2s - loss: 0.2392 - accuracy: 0.9175\n",
            "Epoch 11/30\n",
            "859/859 - 2s - loss: 0.2029 - accuracy: 0.9346\n",
            "Epoch 12/30\n",
            "859/859 - 2s - loss: 0.1757 - accuracy: 0.9422\n",
            "Epoch 13/30\n",
            "859/859 - 2s - loss: 0.1550 - accuracy: 0.9497\n",
            "Epoch 14/30\n",
            "859/859 - 2s - loss: 0.1397 - accuracy: 0.9541\n",
            "Epoch 15/30\n",
            "859/859 - 2s - loss: 0.1291 - accuracy: 0.9567\n",
            "Epoch 16/30\n",
            "859/859 - 2s - loss: 0.1199 - accuracy: 0.9586\n",
            "Epoch 17/30\n",
            "859/859 - 2s - loss: 0.1140 - accuracy: 0.9594\n",
            "Epoch 18/30\n",
            "859/859 - 2s - loss: 0.1090 - accuracy: 0.9604\n",
            "Epoch 19/30\n",
            "859/859 - 2s - loss: 0.1076 - accuracy: 0.9594\n",
            "Epoch 20/30\n",
            "859/859 - 2s - loss: 0.1031 - accuracy: 0.9603\n",
            "Epoch 21/30\n",
            "859/859 - 2s - loss: 0.1016 - accuracy: 0.9599\n",
            "Epoch 22/30\n",
            "859/859 - 2s - loss: 0.0994 - accuracy: 0.9597\n",
            "Epoch 23/30\n",
            "859/859 - 2s - loss: 0.0971 - accuracy: 0.9606\n",
            "Epoch 24/30\n",
            "859/859 - 2s - loss: 0.0965 - accuracy: 0.9610\n",
            "Epoch 25/30\n",
            "859/859 - 2s - loss: 0.0965 - accuracy: 0.9604\n",
            "Epoch 26/30\n",
            "859/859 - 2s - loss: 0.0951 - accuracy: 0.9605\n",
            "Epoch 27/30\n",
            "859/859 - 2s - loss: 0.0941 - accuracy: 0.9614\n",
            "Epoch 28/30\n",
            "859/859 - 3s - loss: 0.0928 - accuracy: 0.9610\n",
            "Epoch 29/30\n",
            "859/859 - 2s - loss: 0.0934 - accuracy: 0.9600\n",
            "Epoch 30/30\n",
            "859/859 - 2s - loss: 0.0918 - accuracy: 0.9611\n",
            "Epoch 1/30\n",
            "215/215 - 545s - loss: 0.8417 - accuracy: 0.5861\n",
            "Epoch 2/30\n",
            "215/215 - 566s - loss: 0.6774 - accuracy: 0.5947\n",
            "Epoch 3/30\n",
            "215/215 - 562s - loss: 0.6790 - accuracy: 0.5904\n",
            "Epoch 4/30\n",
            "215/215 - 559s - loss: 0.6791 - accuracy: 0.5930\n",
            "Epoch 5/30\n"
          ],
          "name": "stdout"
        }
      ]
    }
  ]
}