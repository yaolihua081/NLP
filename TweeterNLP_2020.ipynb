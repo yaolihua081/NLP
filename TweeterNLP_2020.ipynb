{
  "nbformat": 4,
  "nbformat_minor": 0,
  "metadata": {
    "accelerator": "TPU",
    "colab": {
      "name": "TweeterNLP_2020.ipynb",
      "provenance": [],
      "collapsed_sections": [],
      "include_colab_link": true
    },
    "kernelspec": {
      "display_name": "Python 3",
      "language": "python",
      "name": "python3"
    },
    "language_info": {
      "codemirror_mode": {
        "name": "ipython",
        "version": 3
      },
      "file_extension": ".py",
      "mimetype": "text/x-python",
      "name": "python",
      "nbconvert_exporter": "python",
      "pygments_lexer": "ipython3",
      "version": "3.7.6"
    }
  },
  "cells": [
    {
      "cell_type": "markdown",
      "metadata": {
        "id": "view-in-github",
        "colab_type": "text"
      },
      "source": [
        "<a href=\"https://colab.research.google.com/github/yaolihua081/NLP/blob/main/TweeterNLP_2020.ipynb\" target=\"_parent\"><img src=\"https://colab.research.google.com/assets/colab-badge.svg\" alt=\"Open In Colab\"/></a>"
      ]
    },
    {
      "cell_type": "code",
      "metadata": {
        "colab": {
          "base_uri": "https://localhost:8080/"
        },
        "id": "H_-Gr3X4R3Sl",
        "outputId": "ce25907b-8b2d-4f08-c48f-51b922548271"
      },
      "source": [
        "\n",
        "from nltk.corpus import stopwords \n",
        "import seaborn as sns\n",
        "from IPython.core.interactiveshell import InteractiveShell\n",
        "InteractiveShell.ast_node_interactivity = \"all\"\n",
        "import sys, platform, numpy as np, nltk, re, sklearn, pandas as pd, seaborn as sns, collections\n",
        "tmp = nltk.download(['stopwords', 'gutenberg','punkt'], quiet=True) # See https://www.nltk.org/book/ch02.html\n",
        "from sklearn.feature_extraction.text import CountVectorizer, TfidfTransformer, HashingVectorizer\n",
        "from sklearn.metrics.pairwise import cosine_similarity\n",
        "from sklearn.datasets import fetch_20newsgroups\n",
        "from sklearn.naive_bayes import MultinomialNB\n",
        "from sklearn.ensemble import RandomForestClassifier\n",
        "from sklearn.linear_model import LogisticRegression\n",
        "from sklearn.svm import LinearSVC\n",
        "from sklearn.model_selection import train_test_split\n",
        "from nltk.tokenize.casual import casual_tokenize\n",
        "from nltk.tokenize import TweetTokenizer\n",
        "from nltk import WordPunctTokenizer,RegexpTokenizer\n",
        "from gensim.summarization.summarizer import summarize\n",
        "from gensim.summarization import keywords as G_KEA\n",
        "!pip install rake-nltk # https://pypi.org/project/rake-nltk/\n",
        "from rake_nltk import Metric, Rake\n",
        "# Increase viewable area of Pandas tables, numpy arrays, plots\n",
        "pd.set_option('max_rows', 5, 'max_columns', 500, 'max_colwidth', 1, 'precision', 2)\n",
        "np.set_printoptions(linewidth=10000, precision=4, edgeitems=20, suppress=True)\n",
        "\n",
        "!pip install python-Levenshtein    # https://pypi.org/project/python-Levenshtein/0.12.0/\n",
        "!pip install -U sentence-transformers   # https://github.com/UKPLab/sentence-transformers\n",
        "!pip install umap-learn\n",
        "import sys, platform, numpy as np, pandas as pd,  matplotlib.pylab as plt, matplotlib, pkg_resources, importlib.util\n",
        "import re, sklearn, Levenshtein # nltk, \n",
        "from sentence_transformers import SentenceTransformer as SBERT\n"
      ],
      "execution_count": 28,
      "outputs": [
        {
          "output_type": "stream",
          "text": [
            "Requirement already satisfied: rake-nltk in /usr/local/lib/python3.6/dist-packages (1.0.4)\n",
            "Requirement already satisfied: nltk in /usr/local/lib/python3.6/dist-packages (from rake-nltk) (3.2.5)\n",
            "Requirement already satisfied: six in /usr/local/lib/python3.6/dist-packages (from nltk->rake-nltk) (1.15.0)\n",
            "Requirement already satisfied: python-Levenshtein in /usr/local/lib/python3.6/dist-packages (0.12.0)\n",
            "Requirement already satisfied: setuptools in /usr/local/lib/python3.6/dist-packages (from python-Levenshtein) (50.3.2)\n",
            "Requirement already up-to-date: sentence-transformers in /usr/local/lib/python3.6/dist-packages (0.3.9)\n",
            "Requirement already satisfied, skipping upgrade: torch>=1.6.0 in /usr/local/lib/python3.6/dist-packages (from sentence-transformers) (1.7.0+cu101)\n",
            "Requirement already satisfied, skipping upgrade: nltk in /usr/local/lib/python3.6/dist-packages (from sentence-transformers) (3.2.5)\n",
            "Requirement already satisfied, skipping upgrade: scikit-learn in /usr/local/lib/python3.6/dist-packages (from sentence-transformers) (0.22.2.post1)\n",
            "Requirement already satisfied, skipping upgrade: scipy in /usr/local/lib/python3.6/dist-packages (from sentence-transformers) (1.4.1)\n",
            "Requirement already satisfied, skipping upgrade: numpy in /usr/local/lib/python3.6/dist-packages (from sentence-transformers) (1.18.5)\n",
            "Requirement already satisfied, skipping upgrade: transformers<3.6.0,>=3.1.0 in /usr/local/lib/python3.6/dist-packages (from sentence-transformers) (3.5.1)\n",
            "Requirement already satisfied, skipping upgrade: tqdm in /usr/local/lib/python3.6/dist-packages (from sentence-transformers) (4.41.1)\n",
            "Requirement already satisfied, skipping upgrade: future in /usr/local/lib/python3.6/dist-packages (from torch>=1.6.0->sentence-transformers) (0.16.0)\n",
            "Requirement already satisfied, skipping upgrade: dataclasses in /usr/local/lib/python3.6/dist-packages (from torch>=1.6.0->sentence-transformers) (0.8)\n",
            "Requirement already satisfied, skipping upgrade: typing-extensions in /usr/local/lib/python3.6/dist-packages (from torch>=1.6.0->sentence-transformers) (3.7.4.3)\n",
            "Requirement already satisfied, skipping upgrade: six in /usr/local/lib/python3.6/dist-packages (from nltk->sentence-transformers) (1.15.0)\n",
            "Requirement already satisfied, skipping upgrade: joblib>=0.11 in /usr/local/lib/python3.6/dist-packages (from scikit-learn->sentence-transformers) (0.17.0)\n",
            "Requirement already satisfied, skipping upgrade: protobuf in /usr/local/lib/python3.6/dist-packages (from transformers<3.6.0,>=3.1.0->sentence-transformers) (3.12.4)\n",
            "Requirement already satisfied, skipping upgrade: packaging in /usr/local/lib/python3.6/dist-packages (from transformers<3.6.0,>=3.1.0->sentence-transformers) (20.4)\n",
            "Requirement already satisfied, skipping upgrade: filelock in /usr/local/lib/python3.6/dist-packages (from transformers<3.6.0,>=3.1.0->sentence-transformers) (3.0.12)\n",
            "Requirement already satisfied, skipping upgrade: tokenizers==0.9.3 in /usr/local/lib/python3.6/dist-packages (from transformers<3.6.0,>=3.1.0->sentence-transformers) (0.9.3)\n",
            "Requirement already satisfied, skipping upgrade: sentencepiece==0.1.91 in /usr/local/lib/python3.6/dist-packages (from transformers<3.6.0,>=3.1.0->sentence-transformers) (0.1.91)\n",
            "Requirement already satisfied, skipping upgrade: regex!=2019.12.17 in /usr/local/lib/python3.6/dist-packages (from transformers<3.6.0,>=3.1.0->sentence-transformers) (2019.12.20)\n",
            "Requirement already satisfied, skipping upgrade: sacremoses in /usr/local/lib/python3.6/dist-packages (from transformers<3.6.0,>=3.1.0->sentence-transformers) (0.0.43)\n",
            "Requirement already satisfied, skipping upgrade: requests in /usr/local/lib/python3.6/dist-packages (from transformers<3.6.0,>=3.1.0->sentence-transformers) (2.23.0)\n",
            "Requirement already satisfied, skipping upgrade: setuptools in /usr/local/lib/python3.6/dist-packages (from protobuf->transformers<3.6.0,>=3.1.0->sentence-transformers) (50.3.2)\n",
            "Requirement already satisfied, skipping upgrade: pyparsing>=2.0.2 in /usr/local/lib/python3.6/dist-packages (from packaging->transformers<3.6.0,>=3.1.0->sentence-transformers) (2.4.7)\n",
            "Requirement already satisfied, skipping upgrade: click in /usr/local/lib/python3.6/dist-packages (from sacremoses->transformers<3.6.0,>=3.1.0->sentence-transformers) (7.1.2)\n",
            "Requirement already satisfied, skipping upgrade: urllib3!=1.25.0,!=1.25.1,<1.26,>=1.21.1 in /usr/local/lib/python3.6/dist-packages (from requests->transformers<3.6.0,>=3.1.0->sentence-transformers) (1.24.3)\n",
            "Requirement already satisfied, skipping upgrade: chardet<4,>=3.0.2 in /usr/local/lib/python3.6/dist-packages (from requests->transformers<3.6.0,>=3.1.0->sentence-transformers) (3.0.4)\n",
            "Requirement already satisfied, skipping upgrade: certifi>=2017.4.17 in /usr/local/lib/python3.6/dist-packages (from requests->transformers<3.6.0,>=3.1.0->sentence-transformers) (2020.11.8)\n",
            "Requirement already satisfied, skipping upgrade: idna<3,>=2.5 in /usr/local/lib/python3.6/dist-packages (from requests->transformers<3.6.0,>=3.1.0->sentence-transformers) (2.10)\n",
            "Requirement already satisfied: umap-learn in /usr/local/lib/python3.6/dist-packages (0.4.6)\n",
            "Requirement already satisfied: scikit-learn>=0.20 in /usr/local/lib/python3.6/dist-packages (from umap-learn) (0.22.2.post1)\n",
            "Requirement already satisfied: scipy>=1.3.1 in /usr/local/lib/python3.6/dist-packages (from umap-learn) (1.4.1)\n",
            "Requirement already satisfied: numpy>=1.17 in /usr/local/lib/python3.6/dist-packages (from umap-learn) (1.18.5)\n",
            "Requirement already satisfied: numba!=0.47,>=0.46 in /usr/local/lib/python3.6/dist-packages (from umap-learn) (0.48.0)\n",
            "Requirement already satisfied: joblib>=0.11 in /usr/local/lib/python3.6/dist-packages (from scikit-learn>=0.20->umap-learn) (0.17.0)\n",
            "Requirement already satisfied: llvmlite<0.32.0,>=0.31.0dev0 in /usr/local/lib/python3.6/dist-packages (from numba!=0.47,>=0.46->umap-learn) (0.31.0)\n",
            "Requirement already satisfied: setuptools in /usr/local/lib/python3.6/dist-packages (from numba!=0.47,>=0.46->umap-learn) (50.3.2)\n"
          ],
          "name": "stdout"
        }
      ]
    },
    {
      "cell_type": "code",
      "metadata": {
        "colab": {
          "base_uri": "https://localhost:8080/",
          "height": 436
        },
        "id": "V71tiHMqVWCf",
        "outputId": "aa269c3f-3161-465f-ed97-0af672e5dab2"
      },
      "source": [
        "#train_txt = pd.read_csv('train.csv') \n",
        "train_txt = pd.read_csv('https://raw.githubusercontent.com/yaolihua081/NLP/main/train.csv')\n",
        "train_txt.dropna()\n",
        "#test_txt = pd.read_csv('test.csv') \n",
        "test_txt = pd.read_csv('https://raw.githubusercontent.com/yaolihua081/NLP/main/test.csv')\n",
        "test_txt.dropna()\n",
        "train_txt['text'].values[314]='i do not know'\n",
        "#line 314 was nan,\n"
      ],
      "execution_count": 29,
      "outputs": [
        {
          "output_type": "execute_result",
          "data": {
            "text/html": [
              "<div>\n",
              "<style scoped>\n",
              "    .dataframe tbody tr th:only-of-type {\n",
              "        vertical-align: middle;\n",
              "    }\n",
              "\n",
              "    .dataframe tbody tr th {\n",
              "        vertical-align: top;\n",
              "    }\n",
              "\n",
              "    .dataframe thead th {\n",
              "        text-align: right;\n",
              "    }\n",
              "</style>\n",
              "<table border=\"1\" class=\"dataframe\">\n",
              "  <thead>\n",
              "    <tr style=\"text-align: right;\">\n",
              "      <th></th>\n",
              "      <th>textID</th>\n",
              "      <th>text</th>\n",
              "      <th>selected_text</th>\n",
              "      <th>sentiment</th>\n",
              "    </tr>\n",
              "  </thead>\n",
              "  <tbody>\n",
              "    <tr>\n",
              "      <th>0</th>\n",
              "      <td>cb774db0d1</td>\n",
              "      <td>I`d have responded, if I were going</td>\n",
              "      <td>I`d have responded, if I were going</td>\n",
              "      <td>neutral</td>\n",
              "    </tr>\n",
              "    <tr>\n",
              "      <th>1</th>\n",
              "      <td>549e992a42</td>\n",
              "      <td>Sooo SAD I will miss you here in San Diego!!!</td>\n",
              "      <td>Sooo SAD</td>\n",
              "      <td>negative</td>\n",
              "    </tr>\n",
              "    <tr>\n",
              "      <th>...</th>\n",
              "      <td>...</td>\n",
              "      <td>...</td>\n",
              "      <td>...</td>\n",
              "      <td>...</td>\n",
              "    </tr>\n",
              "    <tr>\n",
              "      <th>27479</th>\n",
              "      <td>ed167662a5</td>\n",
              "      <td>But it was worth it  ****.</td>\n",
              "      <td>But it was worth it  ****.</td>\n",
              "      <td>positive</td>\n",
              "    </tr>\n",
              "    <tr>\n",
              "      <th>27480</th>\n",
              "      <td>6f7127d9d7</td>\n",
              "      <td>All this flirting going on - The ATG smiles. Yay.  ((hugs))</td>\n",
              "      <td>All this flirting going on - The ATG smiles. Yay.  ((hugs)</td>\n",
              "      <td>neutral</td>\n",
              "    </tr>\n",
              "  </tbody>\n",
              "</table>\n",
              "<p>27480 rows × 4 columns</p>\n",
              "</div>"
            ],
            "text/plain": [
              "           textID  \\\n",
              "0      cb774db0d1   \n",
              "1      549e992a42   \n",
              "...           ...   \n",
              "27479  ed167662a5   \n",
              "27480  6f7127d9d7   \n",
              "\n",
              "                                                                 text  \\\n",
              "0       I`d have responded, if I were going                             \n",
              "1       Sooo SAD I will miss you here in San Diego!!!                   \n",
              "...                                               ...                   \n",
              "27479   But it was worth it  ****.                                      \n",
              "27480     All this flirting going on - The ATG smiles. Yay.  ((hugs))   \n",
              "\n",
              "                                                    selected_text sentiment  \n",
              "0      I`d have responded, if I were going                         neutral   \n",
              "1      Sooo SAD                                                    negative  \n",
              "...         ...                                                         ...  \n",
              "27479  But it was worth it  ****.                                  positive  \n",
              "27480  All this flirting going on - The ATG smiles. Yay.  ((hugs)  neutral   \n",
              "\n",
              "[27480 rows x 4 columns]"
            ]
          },
          "metadata": {
            "tags": []
          },
          "execution_count": 29
        },
        {
          "output_type": "execute_result",
          "data": {
            "text/html": [
              "<div>\n",
              "<style scoped>\n",
              "    .dataframe tbody tr th:only-of-type {\n",
              "        vertical-align: middle;\n",
              "    }\n",
              "\n",
              "    .dataframe tbody tr th {\n",
              "        vertical-align: top;\n",
              "    }\n",
              "\n",
              "    .dataframe thead th {\n",
              "        text-align: right;\n",
              "    }\n",
              "</style>\n",
              "<table border=\"1\" class=\"dataframe\">\n",
              "  <thead>\n",
              "    <tr style=\"text-align: right;\">\n",
              "      <th></th>\n",
              "      <th>textID</th>\n",
              "      <th>text</th>\n",
              "      <th>sentiment</th>\n",
              "    </tr>\n",
              "  </thead>\n",
              "  <tbody>\n",
              "    <tr>\n",
              "      <th>0</th>\n",
              "      <td>f87dea47db</td>\n",
              "      <td>Last session of the day  http://twitpic.com/67ezh</td>\n",
              "      <td>neutral</td>\n",
              "    </tr>\n",
              "    <tr>\n",
              "      <th>1</th>\n",
              "      <td>96d74cb729</td>\n",
              "      <td>Shanghai is also really exciting (precisely -- skyscrapers galore). Good tweeps in China:  (SH)  (BJ).</td>\n",
              "      <td>positive</td>\n",
              "    </tr>\n",
              "    <tr>\n",
              "      <th>...</th>\n",
              "      <td>...</td>\n",
              "      <td>...</td>\n",
              "      <td>...</td>\n",
              "    </tr>\n",
              "    <tr>\n",
              "      <th>3532</th>\n",
              "      <td>df1baec676</td>\n",
              "      <td>_sutra what is your next youtube video gonna be about? I love your videos!</td>\n",
              "      <td>positive</td>\n",
              "    </tr>\n",
              "    <tr>\n",
              "      <th>3533</th>\n",
              "      <td>469e15c5a8</td>\n",
              "      <td>http://twitpic.com/4woj2 - omgssh  ang cute ng bby.!</td>\n",
              "      <td>positive</td>\n",
              "    </tr>\n",
              "  </tbody>\n",
              "</table>\n",
              "<p>3534 rows × 3 columns</p>\n",
              "</div>"
            ],
            "text/plain": [
              "          textID  \\\n",
              "0     f87dea47db   \n",
              "1     96d74cb729   \n",
              "...          ...   \n",
              "3532  df1baec676   \n",
              "3533  469e15c5a8   \n",
              "\n",
              "                                                                                                         text  \\\n",
              "0     Last session of the day  http://twitpic.com/67ezh                                                         \n",
              "1      Shanghai is also really exciting (precisely -- skyscrapers galore). Good tweeps in China:  (SH)  (BJ).   \n",
              "...                                                                                                       ...   \n",
              "3532  _sutra what is your next youtube video gonna be about? I love your videos!                                \n",
              "3533   http://twitpic.com/4woj2 - omgssh  ang cute ng bby.!                                                     \n",
              "\n",
              "     sentiment  \n",
              "0     neutral   \n",
              "1     positive  \n",
              "...        ...  \n",
              "3532  positive  \n",
              "3533  positive  \n",
              "\n",
              "[3534 rows x 3 columns]"
            ]
          },
          "metadata": {
            "tags": []
          },
          "execution_count": 29
        }
      ]
    },
    {
      "cell_type": "code",
      "metadata": {
        "colab": {
          "base_uri": "https://localhost:8080/"
        },
        "id": "rLIpWeElFH4l",
        "outputId": "f17c9d2e-15c9-42c2-a678-c51f2a941fcb"
      },
      "source": [
        ""
      ],
      "execution_count": null,
      "outputs": [
        {
          "output_type": "execute_result",
          "data": {
            "text/plain": [
              "0"
            ]
          },
          "metadata": {
            "tags": []
          },
          "execution_count": 10
        }
      ]
    },
    {
      "cell_type": "code",
      "metadata": {
        "id": "N8rMcdM_sVx5"
      },
      "source": [
        "def cleandata(train_txt):\n",
        "  train_txt['text'] = train_txt['text'].str.strip()         # remove trailing and leading spaces\n",
        "  train_txt['nChar'] = train_txt['text'].str.len()      # compute character length and save in a column\n",
        "  BlankDocs_mask = train_txt.nChar <=1\n",
        "  train_txt = train_txt[~BlankDocs_mask]         # ~ is the negation operator that flips between True & False\n",
        "  #text=nan. df.dropna()\n",
        "  return train_txt\n",
        "\n",
        "train_txt=cleandata(train_txt)  \n",
        "test_txt=cleandata(test_txt)"
      ],
      "execution_count": 30,
      "outputs": []
    },
    {
      "cell_type": "code",
      "metadata": {
        "colab": {
          "base_uri": "https://localhost:8080/"
        },
        "id": "gMzURFst-JnN",
        "outputId": "3b7fad11-20eb-4e43-e975-49ef5d793212"
      },
      "source": [
        "#combine positive, negative as one type, and create a colum 'label'\n",
        "Neu_set=train_txt['sentiment']=='neutral'\n",
        "Pos_set=train_txt['sentiment']=='positive'\n",
        "Neg_set=train_txt['sentiment']=='negative'\n",
        "\n",
        "train_txt['label']=train_txt['sentiment'].apply(lambda x: 0 if x=='neutral' else 1 )\n",
        "test_txt['label']=test_txt['sentiment'].apply(lambda x: 0 if x=='neutral' else 1 )\n",
        "\n",
        "#get size\n",
        "[sum(test_txt['label']==1),sum(test_txt['label']==0)]\n",
        "[sum(train_txt['label']==1),sum(train_txt['label']==0)]\n"
      ],
      "execution_count": 31,
      "outputs": [
        {
          "output_type": "execute_result",
          "data": {
            "text/plain": [
              "[2104, 1430]"
            ]
          },
          "metadata": {
            "tags": []
          },
          "execution_count": 31
        },
        {
          "output_type": "execute_result",
          "data": {
            "text/plain": [
              "[16363, 11117]"
            ]
          },
          "metadata": {
            "tags": []
          },
          "execution_count": 31
        }
      ]
    },
    {
      "cell_type": "code",
      "metadata": {
        "colab": {
          "base_uri": "https://localhost:8080/",
          "height": 226
        },
        "id": "6bUkfbY3r4jo",
        "outputId": "f63f40b3-dfb7-4c08-abc1-7f0276a6d7b0"
      },
      "source": [
        "\n",
        "def RakeExtract(x):\n",
        "  r = Rake()#will change parameters later\n",
        "  #keywords=set(x)\n",
        "  if (len(x.split())>1):  \n",
        "    r.extract_keywords_from_text(x) \n",
        "    dfRKS0=r.get_ranked_phrases_with_scores()\n",
        "    column_names=['scores','kwd']\n",
        "    dfRKS0=pd.DataFrame(dfRKS0,columns=column_names)\n",
        "    keywords=set(dfRKS0['kwd'].tolist())\n",
        "  else:\n",
        "     keywords=set(x)     \n",
        "  return keywords  \n",
        "train_txt['Rake_Extracted'] = train_txt['text'].apply(lambda x: RakeExtract(x))\n",
        "train_txt\n",
        "test_txt['Rake_Extracted'] = test_txt['text'].apply(lambda x: RakeExtract(x))"
      ],
      "execution_count": null,
      "outputs": [
        {
          "output_type": "execute_result",
          "data": {
            "text/html": [
              "<div>\n",
              "<style scoped>\n",
              "    .dataframe tbody tr th:only-of-type {\n",
              "        vertical-align: middle;\n",
              "    }\n",
              "\n",
              "    .dataframe tbody tr th {\n",
              "        vertical-align: top;\n",
              "    }\n",
              "\n",
              "    .dataframe thead th {\n",
              "        text-align: right;\n",
              "    }\n",
              "</style>\n",
              "<table border=\"1\" class=\"dataframe\">\n",
              "  <thead>\n",
              "    <tr style=\"text-align: right;\">\n",
              "      <th></th>\n",
              "      <th>textID</th>\n",
              "      <th>text</th>\n",
              "      <th>selected_text</th>\n",
              "      <th>sentiment</th>\n",
              "      <th>nChar</th>\n",
              "      <th>label</th>\n",
              "      <th>Rake_Extracted</th>\n",
              "    </tr>\n",
              "  </thead>\n",
              "  <tbody>\n",
              "    <tr>\n",
              "      <th>0</th>\n",
              "      <td>cb774db0d1</td>\n",
              "      <td>I`d have responded, if I were going</td>\n",
              "      <td>I`d have responded, if I were going</td>\n",
              "      <td>neutral</td>\n",
              "      <td>35</td>\n",
              "      <td>0</td>\n",
              "      <td>{going, responded}</td>\n",
              "    </tr>\n",
              "    <tr>\n",
              "      <th>1</th>\n",
              "      <td>549e992a42</td>\n",
              "      <td>Sooo SAD I will miss you here in San Diego!!!</td>\n",
              "      <td>Sooo SAD</td>\n",
              "      <td>negative</td>\n",
              "      <td>45</td>\n",
              "      <td>1</td>\n",
              "      <td>{miss, sooo sad, san diego !!}</td>\n",
              "    </tr>\n",
              "    <tr>\n",
              "      <th>...</th>\n",
              "      <td>...</td>\n",
              "      <td>...</td>\n",
              "      <td>...</td>\n",
              "      <td>...</td>\n",
              "      <td>...</td>\n",
              "      <td>...</td>\n",
              "      <td>...</td>\n",
              "    </tr>\n",
              "    <tr>\n",
              "      <th>27479</th>\n",
              "      <td>ed167662a5</td>\n",
              "      <td>But it was worth it  ****.</td>\n",
              "      <td>But it was worth it  ****.</td>\n",
              "      <td>positive</td>\n",
              "      <td>26</td>\n",
              "      <td>1</td>\n",
              "      <td>{worth, ****.}</td>\n",
              "    </tr>\n",
              "    <tr>\n",
              "      <th>27480</th>\n",
              "      <td>6f7127d9d7</td>\n",
              "      <td>All this flirting going on - The ATG smiles. Yay.  ((hugs))</td>\n",
              "      <td>All this flirting going on - The ATG smiles. Yay.  ((hugs)</td>\n",
              "      <td>neutral</td>\n",
              "      <td>59</td>\n",
              "      <td>0</td>\n",
              "      <td>{atg smiles, yay, (( hugs )), flirting going}</td>\n",
              "    </tr>\n",
              "  </tbody>\n",
              "</table>\n",
              "<p>27480 rows × 7 columns</p>\n",
              "</div>"
            ],
            "text/plain": [
              "           textID  \\\n",
              "0      cb774db0d1   \n",
              "1      549e992a42   \n",
              "...           ...   \n",
              "27479  ed167662a5   \n",
              "27480  6f7127d9d7   \n",
              "\n",
              "                                                              text  \\\n",
              "0      I`d have responded, if I were going                           \n",
              "1      Sooo SAD I will miss you here in San Diego!!!                 \n",
              "...                                              ...                 \n",
              "27479  But it was worth it  ****.                                    \n",
              "27480  All this flirting going on - The ATG smiles. Yay.  ((hugs))   \n",
              "\n",
              "                                                    selected_text sentiment  \\\n",
              "0      I`d have responded, if I were going                         neutral    \n",
              "1      Sooo SAD                                                    negative   \n",
              "...         ...                                                         ...   \n",
              "27479  But it was worth it  ****.                                  positive   \n",
              "27480  All this flirting going on - The ATG smiles. Yay.  ((hugs)  neutral    \n",
              "\n",
              "       nChar  label                                 Rake_Extracted  \n",
              "0      35     0      {going, responded}                             \n",
              "1      45     1      {miss, sooo sad, san diego !!}                 \n",
              "...    ..    ..                                 ...                 \n",
              "27479  26     1      {worth, ****.}                                 \n",
              "27480  59     0      {atg smiles, yay, (( hugs )), flirting going}  \n",
              "\n",
              "[27480 rows x 7 columns]"
            ]
          },
          "metadata": {
            "tags": []
          },
          "execution_count": 5
        }
      ]
    },
    {
      "cell_type": "code",
      "metadata": {
        "id": "FnDe9v8Rs7T_"
      },
      "source": [
        "def TrainTest(tarin_txt, test_txt, name, Label='label'):\n",
        "  #tY=train_txt['sentiment']\n",
        "  tY=train_txt[Label]\n",
        "  tTxt=train_txt[name]#name='text','selected_txt', 'Extracted'\n",
        "  #tTxt=train_txt['selected_text']#use this one the scores gets smaller\n",
        "  tY=tY.tolist()\n",
        "  #vY=test_txt['sentiment']\n",
        "  vY=test_txt[Label]\n",
        "  if name=='selected_text':\n",
        "    vTxt=test_txt['text']\n",
        "  else:\n",
        "    vTxt=test_txt[name]\n",
        "\n",
        "  vY=vY.tolist()\n",
        "  tX_row_names=train_txt['textID']\n",
        "  vX_row_names=test_txt['textID']\n",
        "  return tTxt, tY, tX_row_names, vTxt, vY, vX_row_names\n",
        "\n",
        "#tTxt, tY, tX_row_names, vTxt, vY, vX_row_names= TrainTest(train_txt, test_txt, 'Rake_Extracted')"
      ],
      "execution_count": 32,
      "outputs": []
    },
    {
      "cell_type": "code",
      "metadata": {
        "id": "jUHT4PpYvdWm"
      },
      "source": [
        "def PreModel(train_txt,test_txt, stopword_list,name, TF_IDF=True, Label='label'):\n",
        "  #stopword_list = nltk.corpus.stopwords.words('english')\n",
        "  tTxt, tY, tX_row_names, vTxt, vY, vX_row_names= TrainTest(train_txt, test_txt, name, Label)\n",
        "  CntVec=CountVectorizer(stop_words=stopword_list,token_pattern=r'(?u)\\b\\w+\\b', lowercase=True, max_features=1000)\n",
        "  tX = CntVec.fit_transform(tTxt.values.astype('U')) \n",
        "  vX = CntVec.transform(vTxt.values.astype('U')) \n",
        "  if TF_IDF:\n",
        "    tfidf_transformer=TfidfTransformer(smooth_idf=True,use_idf=True)\n",
        "    tX=tfidf_transformer.fit_transform(tX)\n",
        "    vX=tfidf_transformer.transform(vX)\n",
        "  column_names=CntVec.get_feature_names()\n",
        "  tX=tX.toarray()\n",
        "  vX=vX.toarray()\n",
        "  tX = pd.DataFrame(tX, columns=column_names, index=tX_row_names)\n",
        "  vX = pd.DataFrame(vX, columns=column_names, index=vX_row_names)\n",
        "  \n",
        "  return tX,tY, vX,vY\n",
        "\n",
        "#stopword_list = nltk.corpus.stopwords.words('english')\n",
        "#PreModel(train_txt,test_txt, stopword_list,'Rake_Extracted')\n"
      ],
      "execution_count": 33,
      "outputs": []
    },
    {
      "cell_type": "code",
      "metadata": {
        "id": "k8DAwj3OyAqm"
      },
      "source": [
        "#Logistic regression using Rake_extracted\n",
        "def ML(model, train_txt, test_txt,name, stopword_list, TF_IDF=True, Label='label'):\n",
        "  tX, tY,vX, vY=PreModel(train_txt,test_txt, stopword_list,name, TF_IDF, Label)\n",
        "  if (model=='LRG'):\n",
        "    para_seed = [(c, iter) for c in np.linspace(.01, 1, num=50) for iter in np.linspace(10, 50, num=5)]\n",
        "    lvc_df = pd.DataFrame(para_seed, columns=['c', 'iter'])\n",
        "    lvc_df['model'] =  lvc_df.apply(lambda row: LogisticRegression(n_jobs=-1, C=row.c, max_iter=row.iter).fit(tX, list(tY)), axis=1)\n",
        "    #lvc_df['score'] = lvc_df['model'].apply(lambda model: model.score(vX, list(vY)))\n",
        "  if (model=='LVC'):\n",
        "    c_seed = np.linspace(.05, 2, num=100)\n",
        "    lvc_df = pd.DataFrame(c_seed, columns=['c'])\n",
        "    lvc_df['model'] = lvc_df['c'].apply(lambda c: LinearSVC(C=c).fit(tX, list(tY)))\n",
        "    #lvc_df['score'] = lvc_df['model'].apply(lambda model: model.score(TvX, list(vY)))\n",
        "\n",
        "  if (model=='RF'):\n",
        "    n_estimators = range(10, 200,100)\n",
        "    lvc_df = pd.DataFrame(n_estimators, columns=['c'])\n",
        "    lvc_df['model']=lvc_df['c'].apply(lambda c: RandomForestClassifier(n_estimators=c).fit(tX, list(tY)))\n",
        "  if (model=='NB'):\n",
        "    alphas = np.linspace(.1, 100, num=100)\n",
        "    lvc_df = pd.DataFrame(alphas, columns=['c'])\n",
        "    lvc_df['model'] = lvc_df['c'].apply(lambda c: MultinomialNB(alpha=c).fit(tX, list(tY)))\n",
        "    \n",
        "  lvc_df['score']=lvc_df['model'].apply(lambda model: model.score(vX, list(vY)))\n",
        "  filter=lvc_df['score']==max(lvc_df['score'])\n",
        "  bestmodel=lvc_df[filter]['model'].values[0]\n",
        "  train_score=bestmodel.score(tX,list(tY))\n",
        "\n",
        "  return bestmodel, train_score, max(lvc_df['score'])\n",
        "  #return max(lvc_df['score'])"
      ],
      "execution_count": 35,
      "outputs": []
    },
    {
      "cell_type": "code",
      "metadata": {
        "colab": {
          "base_uri": "https://localhost:8080/"
        },
        "id": "ACyCFsVcToug",
        "outputId": "5a3bc0d9-d5cd-4909-aba3-9a13a508addc"
      },
      "source": [
        "#TF-IDF=True or False, \n",
        "#change name to be different,\n",
        "#first use Label='sentiment' to run all train_text\n",
        "stopword_list = nltk.corpus.stopwords.words('english')\n",
        "name='text'\n",
        "#name='Rake_Extracted'\n",
        "#name='selected_text'\n",
        "LRGRate_model, LGRRate_train_score, LGRRate_test_score=ML('LRG', train_txt, test_txt,name, stopword_list,TF_IDF=True, Label='sentiment')\n",
        "NBRate_model, NBRate_train_score, NBRate_test_score=ML('NB', train_txt, test_txt,name, stopword_list,TF_IDF=True, Label='sentiment')\n",
        "LVCRate_model, LVCRate_train_score, LVCRate_test_score=ML('LVC', train_txt, test_txt,name, stopword_list,TF_IDF=True, Label='sentiment')  \n",
        "RFRate_model, RFRate_train_score, RFRate_test_score=ML('RF', train_txt, test_txt,name, stopword_list,TF_IDF=True, Label='sentiment')\n",
        "\n",
        "LRGRate_model, LGRRate_train_score, LGRRate_test_score\n",
        "NBRate_model, NBRate_train_score, NBRate_test_score\n",
        "\n",
        "LVCRate_model, LVCRate_train_score, LVCRate_test_score\n",
        "\n",
        "RFRate_model, RFRate_train_score, RFRate_test_score"
      ],
      "execution_count": null,
      "outputs": [
        {
          "output_type": "execute_result",
          "data": {
            "text/plain": [
              "(LogisticRegression(C=0.7979591836734694, class_weight=None, dual=False,\n",
              "                    fit_intercept=True, intercept_scaling=1, l1_ratio=None,\n",
              "                    max_iter=30.0, multi_class='auto', n_jobs=-1, penalty='l2',\n",
              "                    random_state=None, solver='lbfgs', tol=0.0001, verbose=0,\n",
              "                    warm_start=False), 0.7121542940320232, 0.691284663271081)"
            ]
          },
          "metadata": {
            "tags": []
          },
          "execution_count": 10
        },
        {
          "output_type": "execute_result",
          "data": {
            "text/plain": [
              "(MultinomialNB(alpha=0.1, class_prior=None, fit_prior=True),\n",
              " 0.6675764192139738,\n",
              " 0.6544991511035654)"
            ]
          },
          "metadata": {
            "tags": []
          },
          "execution_count": 10
        },
        {
          "output_type": "execute_result",
          "data": {
            "text/plain": [
              "(LinearSVC(C=0.22727272727272724, class_weight=None, dual=True,\n",
              "           fit_intercept=True, intercept_scaling=1, loss='squared_hinge',\n",
              "           max_iter=1000, multi_class='ovr', penalty='l2', random_state=None,\n",
              "           tol=0.0001, verbose=0), 0.7118995633187772, 0.6918505942275043)"
            ]
          },
          "metadata": {
            "tags": []
          },
          "execution_count": 10
        },
        {
          "output_type": "execute_result",
          "data": {
            "text/plain": [
              "(RandomForestClassifier(bootstrap=True, ccp_alpha=0.0, class_weight=None,\n",
              "                        criterion='gini', max_depth=None, max_features='auto',\n",
              "                        max_leaf_nodes=None, max_samples=None,\n",
              "                        min_impurity_decrease=0.0, min_impurity_split=None,\n",
              "                        min_samples_leaf=1, min_samples_split=2,\n",
              "                        min_weight_fraction_leaf=0.0, n_estimators=110,\n",
              "                        n_jobs=None, oob_score=False, random_state=None,\n",
              "                        verbose=0, warm_start=False),\n",
              " 0.9676855895196507,\n",
              " 0.687889077532541)"
            ]
          },
          "metadata": {
            "tags": []
          },
          "execution_count": 10
        }
      ]
    },
    {
      "cell_type": "code",
      "metadata": {
        "id": "jR_bPc6tU-30"
      },
      "source": [
        ""
      ],
      "execution_count": null,
      "outputs": []
    },
    {
      "cell_type": "code",
      "metadata": {
        "id": "0KUZot9VTLh5"
      },
      "source": [
        "#TF-IDF=True or False, Label='label' \n",
        "#change name to be different,\n",
        "#second  use Label='label' to run all train_text, but with two classes.\n",
        "stopword_list = nltk.corpus.stopwords.words('english')\n",
        "name='text'\n",
        "#name='Rake_Extracted'\n",
        "#name='selected_text'\n",
        "LRGRate_model, LGRRate_train_score, LGRRate_test_score=ML('LRG', train_txt, test_txt,name, stopword_list,TF_IDF=True, Label='label')\n",
        "NBRate_model, NBRate_train_score, NBRate_test_score=ML('NB', train_txt, test_txt,name, stopword_list,TF_IDF=True, Label='label')\n",
        "LVCRate_model, LVCRate_train_score, LVCRate_test_score=ML('LVC', train_txt, test_txt,name, stopword_list,TF_IDF=True, Label='label')  \n",
        "RFRate_model, RFRate_train_score, RFRate_test_score=ML('RF', train_txt, test_txt,name, stopword_list,TF_IDF=True, Label='label')\n",
        "\n",
        "LRGRate_model, LGRRate_train_score, LGRRate_test_score\n",
        "NBRate_model, NBRate_train_score, NBRate_test_score\n",
        "\n",
        "LVCRate_model, LVCRate_train_score, LVCRate_test_score\n",
        "\n",
        "RFRate_model, RFRate_train_score, RFRate_test_score"
      ],
      "execution_count": null,
      "outputs": []
    },
    {
      "cell_type": "code",
      "metadata": {
        "id": "CzIuGu9gU-31"
      },
      "source": [
        "stopword_list = nltk.corpus.stopwords.words('english')\n",
        "name='text'\n",
        "\n",
        "Label='label'\n",
        "tX, tY,vX, vY=PreModel(train_txt,test_txt, stopword_list,name, Label=Label)\n",
        "#9/25/20\n",
        "#will compare this vecter with BERT and  Labse produced vector! then run LG, RF model\n",
        "#will try RNN , CNN model"
      ],
      "execution_count": 36,
      "outputs": []
    },
    {
      "cell_type": "code",
      "metadata": {
        "colab": {
          "base_uri": "https://localhost:8080/"
        },
        "id": "UwBsFFf_U-31",
        "outputId": "81bfe662-fcb4-4f7c-9ed6-0728fc4f1b83"
      },
      "source": [
        "tX.Y=pd.concat([tX,pd.DataFrame(tY)])"
      ],
      "execution_count": null,
      "outputs": [
        {
          "output_type": "stream",
          "text": [
            "/usr/local/lib/python3.6/dist-packages/ipykernel_launcher.py:1: UserWarning: Pandas doesn't allow columns to be created via a new attribute name - see https://pandas.pydata.org/pandas-docs/stable/indexing.html#attribute-access\n",
            "  \"\"\"Entry point for launching an IPython kernel.\n"
          ],
          "name": "stderr"
        }
      ]
    },
    {
      "cell_type": "markdown",
      "metadata": {
        "id": "mNMVBj936Omr"
      },
      "source": [
        "BERT Extraction"
      ]
    },
    {
      "cell_type": "code",
      "metadata": {
        "colab": {
          "base_uri": "https://localhost:8080/"
        },
        "id": "8W2QDe8WU-4W",
        "outputId": "dd7026ed-92b8-4706-e277-6982bddad042"
      },
      "source": [
        "!pip install -U sentence-transformers\n",
        "from sentence_transformers import SentenceTransformer as SBERT\n",
        "from sklearn.metrics.pairwise import cosine_similarity\n",
        "mSBERT = SBERT('xlm-r-100langs-bert-base-nli-stsb-mean-tokens')"
      ],
      "execution_count": 37,
      "outputs": [
        {
          "output_type": "stream",
          "text": [
            "Requirement already up-to-date: sentence-transformers in /usr/local/lib/python3.6/dist-packages (0.3.9)\n",
            "Requirement already satisfied, skipping upgrade: tqdm in /usr/local/lib/python3.6/dist-packages (from sentence-transformers) (4.41.1)\n",
            "Requirement already satisfied, skipping upgrade: scikit-learn in /usr/local/lib/python3.6/dist-packages (from sentence-transformers) (0.22.2.post1)\n",
            "Requirement already satisfied, skipping upgrade: torch>=1.6.0 in /usr/local/lib/python3.6/dist-packages (from sentence-transformers) (1.7.0+cu101)\n",
            "Requirement already satisfied, skipping upgrade: nltk in /usr/local/lib/python3.6/dist-packages (from sentence-transformers) (3.2.5)\n",
            "Requirement already satisfied, skipping upgrade: transformers<3.6.0,>=3.1.0 in /usr/local/lib/python3.6/dist-packages (from sentence-transformers) (3.5.1)\n",
            "Requirement already satisfied, skipping upgrade: numpy in /usr/local/lib/python3.6/dist-packages (from sentence-transformers) (1.18.5)\n",
            "Requirement already satisfied, skipping upgrade: scipy in /usr/local/lib/python3.6/dist-packages (from sentence-transformers) (1.4.1)\n",
            "Requirement already satisfied, skipping upgrade: joblib>=0.11 in /usr/local/lib/python3.6/dist-packages (from scikit-learn->sentence-transformers) (0.17.0)\n",
            "Requirement already satisfied, skipping upgrade: typing-extensions in /usr/local/lib/python3.6/dist-packages (from torch>=1.6.0->sentence-transformers) (3.7.4.3)\n",
            "Requirement already satisfied, skipping upgrade: dataclasses in /usr/local/lib/python3.6/dist-packages (from torch>=1.6.0->sentence-transformers) (0.8)\n",
            "Requirement already satisfied, skipping upgrade: future in /usr/local/lib/python3.6/dist-packages (from torch>=1.6.0->sentence-transformers) (0.16.0)\n",
            "Requirement already satisfied, skipping upgrade: six in /usr/local/lib/python3.6/dist-packages (from nltk->sentence-transformers) (1.15.0)\n",
            "Requirement already satisfied, skipping upgrade: protobuf in /usr/local/lib/python3.6/dist-packages (from transformers<3.6.0,>=3.1.0->sentence-transformers) (3.12.4)\n",
            "Requirement already satisfied, skipping upgrade: tokenizers==0.9.3 in /usr/local/lib/python3.6/dist-packages (from transformers<3.6.0,>=3.1.0->sentence-transformers) (0.9.3)\n",
            "Requirement already satisfied, skipping upgrade: filelock in /usr/local/lib/python3.6/dist-packages (from transformers<3.6.0,>=3.1.0->sentence-transformers) (3.0.12)\n",
            "Requirement already satisfied, skipping upgrade: packaging in /usr/local/lib/python3.6/dist-packages (from transformers<3.6.0,>=3.1.0->sentence-transformers) (20.4)\n",
            "Requirement already satisfied, skipping upgrade: requests in /usr/local/lib/python3.6/dist-packages (from transformers<3.6.0,>=3.1.0->sentence-transformers) (2.23.0)\n",
            "Requirement already satisfied, skipping upgrade: regex!=2019.12.17 in /usr/local/lib/python3.6/dist-packages (from transformers<3.6.0,>=3.1.0->sentence-transformers) (2019.12.20)\n",
            "Requirement already satisfied, skipping upgrade: sentencepiece==0.1.91 in /usr/local/lib/python3.6/dist-packages (from transformers<3.6.0,>=3.1.0->sentence-transformers) (0.1.91)\n",
            "Requirement already satisfied, skipping upgrade: sacremoses in /usr/local/lib/python3.6/dist-packages (from transformers<3.6.0,>=3.1.0->sentence-transformers) (0.0.43)\n",
            "Requirement already satisfied, skipping upgrade: setuptools in /usr/local/lib/python3.6/dist-packages (from protobuf->transformers<3.6.0,>=3.1.0->sentence-transformers) (50.3.2)\n",
            "Requirement already satisfied, skipping upgrade: pyparsing>=2.0.2 in /usr/local/lib/python3.6/dist-packages (from packaging->transformers<3.6.0,>=3.1.0->sentence-transformers) (2.4.7)\n",
            "Requirement already satisfied, skipping upgrade: urllib3!=1.25.0,!=1.25.1,<1.26,>=1.21.1 in /usr/local/lib/python3.6/dist-packages (from requests->transformers<3.6.0,>=3.1.0->sentence-transformers) (1.24.3)\n",
            "Requirement already satisfied, skipping upgrade: chardet<4,>=3.0.2 in /usr/local/lib/python3.6/dist-packages (from requests->transformers<3.6.0,>=3.1.0->sentence-transformers) (3.0.4)\n",
            "Requirement already satisfied, skipping upgrade: idna<3,>=2.5 in /usr/local/lib/python3.6/dist-packages (from requests->transformers<3.6.0,>=3.1.0->sentence-transformers) (2.10)\n",
            "Requirement already satisfied, skipping upgrade: certifi>=2017.4.17 in /usr/local/lib/python3.6/dist-packages (from requests->transformers<3.6.0,>=3.1.0->sentence-transformers) (2020.11.8)\n",
            "Requirement already satisfied, skipping upgrade: click in /usr/local/lib/python3.6/dist-packages (from sacremoses->transformers<3.6.0,>=3.1.0->sentence-transformers) (7.1.2)\n"
          ],
          "name": "stdout"
        }
      ]
    },
    {
      "cell_type": "code",
      "metadata": {
        "id": "r10TGVf2U-4W"
      },
      "source": [
        "# Prepare BERT data to run\n",
        "dfBERT_train=pd.DataFrame(mSBERT.encode(train_txt['text'].tolist()), index=train_txt['textID'])\n",
        "dfBERT_test=pd.DataFrame(mSBERT.encode(test_txt['text'].tolist()), index=test_txt['textID'])\n",
        "#Bert data\n",
        "tX_numpy=dfBERT_train.to_numpy()\n",
        "tY_numpy=np.array(tY)\n",
        "vX_numpy=dfBERT_test.to_numpy()\n",
        "vY_numpy=np.array(vY)"
      ],
      "execution_count": 38,
      "outputs": []
    },
    {
      "cell_type": "code",
      "metadata": {
        "id": "rQI1vVnLms5N",
        "colab": {
          "base_uri": "https://localhost:8080/"
        },
        "outputId": "f3261eb6-9627-4860-8fdc-1bd44081f9c6"
      },
      "source": [
        "dfBERT_train.shape"
      ],
      "execution_count": 40,
      "outputs": [
        {
          "output_type": "execute_result",
          "data": {
            "text/plain": [
              "(27480, 768)"
            ]
          },
          "metadata": {
            "tags": []
          },
          "execution_count": 40
        }
      ]
    },
    {
      "cell_type": "code",
      "metadata": {
        "id": "KwUQQ5lOU-4W"
      },
      "source": [
        "def BERTML(model, dfBERT_train, tY, dfBERT_test, vY):\n",
        "  \n",
        "  if (model=='LRG'):\n",
        "    para_seed = [(c, iter) for c in np.linspace(.01, 1, num=50) for iter in np.linspace(10, 50, num=5)]\n",
        "    lvc_df = pd.DataFrame(para_seed, columns=['c', 'iter'])\n",
        "    lvc_df['model'] =  lvc_df.apply(lambda row: LogisticRegression(n_jobs=-1, C=row.c, max_iter=row.iter).fit(dfBERT_train, list(tY)), axis=1)\n",
        "    #lvc_df['score'] = lvc_df['model'].apply(lambda model: model.score(vX, list(vY)))\n",
        "  if (model=='LVC'):\n",
        "    c_seed = np.linspace(.05, 2, num=100)\n",
        "    lvc_df = pd.DataFrame(c_seed, columns=['c'])\n",
        "    lvc_df['model'] = lvc_df['c'].apply(lambda c: LinearSVC(C=c).fit(dfBERT_train, list(tY)))\n",
        "    #lvc_df['score'] = lvc_df['model'].apply(lambda model: model.score(TvX, list(vY)))\n",
        "\n",
        "  if (model=='RF'):\n",
        "    n_estimators = range(10, 200,100)\n",
        "    lvc_df = pd.DataFrame(n_estimators, columns=['c'])\n",
        "    lvc_df['model']=lvc_df['c'].apply(lambda c: RandomForestClassifier(n_estimators=c).fit(dfBERT_train, list(tY)))\n",
        "  if (model=='NB'):\n",
        "    alphas = np.linspace(.1, 100, num=100)\n",
        "    lvc_df = pd.DataFrame(alphas, columns=['c'])\n",
        "    lvc_df['model'] = lvc_df['c'].apply(lambda c: MultinomialNB(alpha=c).fit(dfBERT_train, list(tY)))\n",
        "    \n",
        "  lvc_df['score']=lvc_df['model'].apply(lambda model: model.score(dfBERT_test, list(vY)))\n",
        "  filter=lvc_df['score']==max(lvc_df['score'])\n",
        "  bestmodel=lvc_df[filter]['model'].values[0]\n",
        "  train_score=bestmodel.score(dfBERT_train,list(tY))\n",
        "\n",
        "  return bestmodel, train_score, max(lvc_df['score'])\n",
        "  #return max(lvc_df['score'])"
      ],
      "execution_count": null,
      "outputs": []
    },
    {
      "cell_type": "markdown",
      "metadata": {
        "id": "Xr5g2dwfEvv8"
      },
      "source": [
        "LRG, LVC, RF after BERT"
      ]
    },
    {
      "cell_type": "code",
      "metadata": {
        "id": "7JcSX3VzU-4Y"
      },
      "source": [
        "model=\"LVC\"\n",
        "\n",
        "LVCModel, LVCTrainScore, LVCscore=BERTML(model, dfBERT_train, tY, dfBERT_test, vY)\n",
        "\n",
        "model=\"RF\"\n",
        "RFModel, RFTrainScore, RFscore=BERTML(model, dfBERT_train, tY, dfBERT_test, vY)\n",
        "\n",
        "\n",
        "\n",
        "model=\"LRG\"\n",
        "LRGModel, LRGTrainScore, LRGscore=BERTML(model, dfBERT_train, tY, dfBERT_test, vY)\n",
        "\n",
        "[LVCModel, LVCTrainScore, LVCscore]\n",
        "[LRGModel, LRGTrainScore, LRGscore]\n",
        "[RFModel, RFTrainScore, RFscore]\n"
      ],
      "execution_count": null,
      "outputs": []
    },
    {
      "cell_type": "markdown",
      "metadata": {
        "id": "9DdRHLGoESuO"
      },
      "source": [
        "RF after BERT"
      ]
    },
    {
      "cell_type": "code",
      "metadata": {
        "colab": {
          "base_uri": "https://localhost:8080/"
        },
        "id": "_BQtp9EvEQ_L",
        "outputId": "30916477-dbed-4bc6-a017-07b45257ea2e"
      },
      "source": [
        "#dfBERT_train #27480, 768 dimensionl number vectors\n",
        "#this as tX, run RF model to this\n",
        "n_estimators = range(10, 200,100)\n",
        "lvc_df = pd.DataFrame(n_estimators, columns=['c'])\n",
        "lvc_df['model']=lvc_df['c'].apply(lambda c: RandomForestClassifier(n_estimators=c).fit(dfBERT_train, list(tY)))\n",
        "\n",
        "lvc_df['score']=lvc_df['model'].apply(lambda model: model.score(dfBERT_test, list(vY)))\n",
        "filter=lvc_df['score']==max(lvc_df['score'])\n",
        "bestmodel=lvc_df[filter]['model'].values[0]\n",
        "train_score=bestmodel.score(dfBERT_train,list(tY))\n",
        "test_score=bestmodel.score(dfBERT_test,list(vY))\n",
        "[train_score,test_score]\n",
        "#[train_score,test_score]=[0.9978529839883552, 0.72354272778721]\n",
        "#[0.9998544395924308, 0.745048104131296],11/2/20"
      ],
      "execution_count": null,
      "outputs": [
        {
          "output_type": "execute_result",
          "data": {
            "text/plain": [
              "[0.9998544395924308, 0.745048104131296]"
            ]
          },
          "metadata": {
            "tags": []
          },
          "execution_count": 17
        }
      ]
    },
    {
      "cell_type": "code",
      "metadata": {
        "colab": {
          "base_uri": "https://localhost:8080/"
        },
        "id": "1bktZd8tWlgX",
        "outputId": "7016968c-dec5-4e3a-feec-f44feaf67056"
      },
      "source": [
        "bestmodel"
      ],
      "execution_count": null,
      "outputs": [
        {
          "output_type": "execute_result",
          "data": {
            "text/plain": [
              "RandomForestClassifier(bootstrap=True, ccp_alpha=0.0, class_weight=None,\n",
              "                       criterion='gini', max_depth=None, max_features='auto',\n",
              "                       max_leaf_nodes=None, max_samples=None,\n",
              "                       min_impurity_decrease=0.0, min_impurity_split=None,\n",
              "                       min_samples_leaf=1, min_samples_split=2,\n",
              "                       min_weight_fraction_leaf=0.0, n_estimators=110,\n",
              "                       n_jobs=None, oob_score=False, random_state=None,\n",
              "                       verbose=0, warm_start=False)"
            ]
          },
          "metadata": {
            "tags": []
          },
          "execution_count": 18
        }
      ]
    },
    {
      "cell_type": "markdown",
      "metadata": {
        "id": "9qrFfsxsEhaH"
      },
      "source": [
        "LRG after BERT"
      ]
    },
    {
      "cell_type": "code",
      "metadata": {
        "colab": {
          "background_save": true
        },
        "id": "yQzzIhRmEfeI",
        "outputId": "d47531d8-cd9f-4f86-ad43-0305f58bcc4e"
      },
      "source": [
        "para_seed = [(c, iter) for c in np.linspace(.01, 1, num=50) for iter in np.linspace(10, 50, num=5)]\n",
        "lvc_df = pd.DataFrame(para_seed, columns=['c', 'iter'])\n",
        "lvc_df['model'] =  lvc_df.apply(lambda row: LogisticRegression(n_jobs=-1, C=row.c, max_iter=row.iter).fit(dfBERT_train, list(tY)), axis=1)\n",
        "lvc_df['score']=lvc_df['model'].apply(lambda model: model.score(dfBERT_test, list(vY)))\n",
        "filter=lvc_df['score']==max(lvc_df['score'])\n",
        "bestmodel=lvc_df[filter]['model'].values[0]\n",
        "train_score=bestmodel.score(dfBERT_train,list(tY))\n",
        "test_score=bestmodel.score(dfBERT_test,list(vY))\n",
        "[bestmodel, train_score,test_score]\n",
        "#=[0.7648471615720523, 0.7532541029994341]"
      ],
      "execution_count": null,
      "outputs": [
        {
          "output_type": "execute_result",
          "data": {
            "text/plain": [
              "[LogisticRegression(C=0.01, class_weight=None, dual=False, fit_intercept=True,\n",
              "                    intercept_scaling=1, l1_ratio=None, max_iter=20.0,\n",
              "                    multi_class='auto', n_jobs=-1, penalty='l2',\n",
              "                    random_state=None, solver='lbfgs', tol=0.0001, verbose=0,\n",
              "                    warm_start=False), 0.7645924308588065, 0.758347481607244]"
            ]
          },
          "metadata": {
            "tags": []
          },
          "execution_count": 0
        }
      ]
    },
    {
      "cell_type": "markdown",
      "metadata": {
        "id": "8npdLXUiEpuG"
      },
      "source": [
        "LVC after BERT"
      ]
    },
    {
      "cell_type": "code",
      "metadata": {
        "colab": {
          "base_uri": "https://localhost:8080/"
        },
        "id": "WvDwo6XvEoit",
        "outputId": "34783cd7-185e-4353-cf46-cea7b35f82eb"
      },
      "source": [
        "c_seed = np.linspace(.05, 2, num=100)\n",
        "lvc_df = pd.DataFrame(c_seed, columns=['c'])\n",
        "lvc_df['model'] = lvc_df['c'].apply(lambda c: LinearSVC(C=c,max_iter=2000).fit(dfBERT_train, list(tY)))\n",
        "\n",
        "lvc_df['score']=lvc_df['model'].apply(lambda model: model.score(dfBERT_test, list(vY)))\n",
        "filter=lvc_df['score']==max(lvc_df['score'])\n",
        "bestmodel=lvc_df[filter]['model'].values[0]\n",
        "train_score=bestmodel.score(dfBERT_train,list(tY))\n",
        "test_score=bestmodel.score(dfBERT_test,list(vY))\n",
        "[train_score,test_score]\n",
        "#=[0.771943231441048, 0.7611771363893605]"
      ],
      "execution_count": null,
      "outputs": [
        {
          "output_type": "stream",
          "text": [
            "/usr/local/lib/python3.6/dist-packages/sklearn/svm/_base.py:947: ConvergenceWarning: Liblinear failed to converge, increase the number of iterations.\n",
            "  \"the number of iterations.\", ConvergenceWarning)\n",
            "/usr/local/lib/python3.6/dist-packages/sklearn/svm/_base.py:947: ConvergenceWarning: Liblinear failed to converge, increase the number of iterations.\n",
            "  \"the number of iterations.\", ConvergenceWarning)\n",
            "/usr/local/lib/python3.6/dist-packages/sklearn/svm/_base.py:947: ConvergenceWarning: Liblinear failed to converge, increase the number of iterations.\n",
            "  \"the number of iterations.\", ConvergenceWarning)\n",
            "/usr/local/lib/python3.6/dist-packages/sklearn/svm/_base.py:947: ConvergenceWarning: Liblinear failed to converge, increase the number of iterations.\n",
            "  \"the number of iterations.\", ConvergenceWarning)\n",
            "/usr/local/lib/python3.6/dist-packages/sklearn/svm/_base.py:947: ConvergenceWarning: Liblinear failed to converge, increase the number of iterations.\n",
            "  \"the number of iterations.\", ConvergenceWarning)\n",
            "/usr/local/lib/python3.6/dist-packages/sklearn/svm/_base.py:947: ConvergenceWarning: Liblinear failed to converge, increase the number of iterations.\n",
            "  \"the number of iterations.\", ConvergenceWarning)\n",
            "/usr/local/lib/python3.6/dist-packages/sklearn/svm/_base.py:947: ConvergenceWarning: Liblinear failed to converge, increase the number of iterations.\n",
            "  \"the number of iterations.\", ConvergenceWarning)\n",
            "/usr/local/lib/python3.6/dist-packages/sklearn/svm/_base.py:947: ConvergenceWarning: Liblinear failed to converge, increase the number of iterations.\n",
            "  \"the number of iterations.\", ConvergenceWarning)\n",
            "/usr/local/lib/python3.6/dist-packages/sklearn/svm/_base.py:947: ConvergenceWarning: Liblinear failed to converge, increase the number of iterations.\n",
            "  \"the number of iterations.\", ConvergenceWarning)\n",
            "/usr/local/lib/python3.6/dist-packages/sklearn/svm/_base.py:947: ConvergenceWarning: Liblinear failed to converge, increase the number of iterations.\n",
            "  \"the number of iterations.\", ConvergenceWarning)\n",
            "/usr/local/lib/python3.6/dist-packages/sklearn/svm/_base.py:947: ConvergenceWarning: Liblinear failed to converge, increase the number of iterations.\n",
            "  \"the number of iterations.\", ConvergenceWarning)\n",
            "/usr/local/lib/python3.6/dist-packages/sklearn/svm/_base.py:947: ConvergenceWarning: Liblinear failed to converge, increase the number of iterations.\n",
            "  \"the number of iterations.\", ConvergenceWarning)\n",
            "/usr/local/lib/python3.6/dist-packages/sklearn/svm/_base.py:947: ConvergenceWarning: Liblinear failed to converge, increase the number of iterations.\n",
            "  \"the number of iterations.\", ConvergenceWarning)\n",
            "/usr/local/lib/python3.6/dist-packages/sklearn/svm/_base.py:947: ConvergenceWarning: Liblinear failed to converge, increase the number of iterations.\n",
            "  \"the number of iterations.\", ConvergenceWarning)\n",
            "/usr/local/lib/python3.6/dist-packages/sklearn/svm/_base.py:947: ConvergenceWarning: Liblinear failed to converge, increase the number of iterations.\n",
            "  \"the number of iterations.\", ConvergenceWarning)\n",
            "/usr/local/lib/python3.6/dist-packages/sklearn/svm/_base.py:947: ConvergenceWarning: Liblinear failed to converge, increase the number of iterations.\n",
            "  \"the number of iterations.\", ConvergenceWarning)\n",
            "/usr/local/lib/python3.6/dist-packages/sklearn/svm/_base.py:947: ConvergenceWarning: Liblinear failed to converge, increase the number of iterations.\n",
            "  \"the number of iterations.\", ConvergenceWarning)\n",
            "/usr/local/lib/python3.6/dist-packages/sklearn/svm/_base.py:947: ConvergenceWarning: Liblinear failed to converge, increase the number of iterations.\n",
            "  \"the number of iterations.\", ConvergenceWarning)\n",
            "/usr/local/lib/python3.6/dist-packages/sklearn/svm/_base.py:947: ConvergenceWarning: Liblinear failed to converge, increase the number of iterations.\n",
            "  \"the number of iterations.\", ConvergenceWarning)\n",
            "/usr/local/lib/python3.6/dist-packages/sklearn/svm/_base.py:947: ConvergenceWarning: Liblinear failed to converge, increase the number of iterations.\n",
            "  \"the number of iterations.\", ConvergenceWarning)\n",
            "/usr/local/lib/python3.6/dist-packages/sklearn/svm/_base.py:947: ConvergenceWarning: Liblinear failed to converge, increase the number of iterations.\n",
            "  \"the number of iterations.\", ConvergenceWarning)\n",
            "/usr/local/lib/python3.6/dist-packages/sklearn/svm/_base.py:947: ConvergenceWarning: Liblinear failed to converge, increase the number of iterations.\n",
            "  \"the number of iterations.\", ConvergenceWarning)\n",
            "/usr/local/lib/python3.6/dist-packages/sklearn/svm/_base.py:947: ConvergenceWarning: Liblinear failed to converge, increase the number of iterations.\n",
            "  \"the number of iterations.\", ConvergenceWarning)\n",
            "/usr/local/lib/python3.6/dist-packages/sklearn/svm/_base.py:947: ConvergenceWarning: Liblinear failed to converge, increase the number of iterations.\n",
            "  \"the number of iterations.\", ConvergenceWarning)\n",
            "/usr/local/lib/python3.6/dist-packages/sklearn/svm/_base.py:947: ConvergenceWarning: Liblinear failed to converge, increase the number of iterations.\n",
            "  \"the number of iterations.\", ConvergenceWarning)\n",
            "/usr/local/lib/python3.6/dist-packages/sklearn/svm/_base.py:947: ConvergenceWarning: Liblinear failed to converge, increase the number of iterations.\n",
            "  \"the number of iterations.\", ConvergenceWarning)\n",
            "/usr/local/lib/python3.6/dist-packages/sklearn/svm/_base.py:947: ConvergenceWarning: Liblinear failed to converge, increase the number of iterations.\n",
            "  \"the number of iterations.\", ConvergenceWarning)\n",
            "/usr/local/lib/python3.6/dist-packages/sklearn/svm/_base.py:947: ConvergenceWarning: Liblinear failed to converge, increase the number of iterations.\n",
            "  \"the number of iterations.\", ConvergenceWarning)\n",
            "/usr/local/lib/python3.6/dist-packages/sklearn/svm/_base.py:947: ConvergenceWarning: Liblinear failed to converge, increase the number of iterations.\n",
            "  \"the number of iterations.\", ConvergenceWarning)\n",
            "/usr/local/lib/python3.6/dist-packages/sklearn/svm/_base.py:947: ConvergenceWarning: Liblinear failed to converge, increase the number of iterations.\n",
            "  \"the number of iterations.\", ConvergenceWarning)\n",
            "/usr/local/lib/python3.6/dist-packages/sklearn/svm/_base.py:947: ConvergenceWarning: Liblinear failed to converge, increase the number of iterations.\n",
            "  \"the number of iterations.\", ConvergenceWarning)\n",
            "/usr/local/lib/python3.6/dist-packages/sklearn/svm/_base.py:947: ConvergenceWarning: Liblinear failed to converge, increase the number of iterations.\n",
            "  \"the number of iterations.\", ConvergenceWarning)\n",
            "/usr/local/lib/python3.6/dist-packages/sklearn/svm/_base.py:947: ConvergenceWarning: Liblinear failed to converge, increase the number of iterations.\n",
            "  \"the number of iterations.\", ConvergenceWarning)\n",
            "/usr/local/lib/python3.6/dist-packages/sklearn/svm/_base.py:947: ConvergenceWarning: Liblinear failed to converge, increase the number of iterations.\n",
            "  \"the number of iterations.\", ConvergenceWarning)\n",
            "/usr/local/lib/python3.6/dist-packages/sklearn/svm/_base.py:947: ConvergenceWarning: Liblinear failed to converge, increase the number of iterations.\n",
            "  \"the number of iterations.\", ConvergenceWarning)\n",
            "/usr/local/lib/python3.6/dist-packages/sklearn/svm/_base.py:947: ConvergenceWarning: Liblinear failed to converge, increase the number of iterations.\n",
            "  \"the number of iterations.\", ConvergenceWarning)\n",
            "/usr/local/lib/python3.6/dist-packages/sklearn/svm/_base.py:947: ConvergenceWarning: Liblinear failed to converge, increase the number of iterations.\n",
            "  \"the number of iterations.\", ConvergenceWarning)\n",
            "/usr/local/lib/python3.6/dist-packages/sklearn/svm/_base.py:947: ConvergenceWarning: Liblinear failed to converge, increase the number of iterations.\n",
            "  \"the number of iterations.\", ConvergenceWarning)\n",
            "/usr/local/lib/python3.6/dist-packages/sklearn/svm/_base.py:947: ConvergenceWarning: Liblinear failed to converge, increase the number of iterations.\n",
            "  \"the number of iterations.\", ConvergenceWarning)\n",
            "/usr/local/lib/python3.6/dist-packages/sklearn/svm/_base.py:947: ConvergenceWarning: Liblinear failed to converge, increase the number of iterations.\n",
            "  \"the number of iterations.\", ConvergenceWarning)\n",
            "/usr/local/lib/python3.6/dist-packages/sklearn/svm/_base.py:947: ConvergenceWarning: Liblinear failed to converge, increase the number of iterations.\n",
            "  \"the number of iterations.\", ConvergenceWarning)\n",
            "/usr/local/lib/python3.6/dist-packages/sklearn/svm/_base.py:947: ConvergenceWarning: Liblinear failed to converge, increase the number of iterations.\n",
            "  \"the number of iterations.\", ConvergenceWarning)\n",
            "/usr/local/lib/python3.6/dist-packages/sklearn/svm/_base.py:947: ConvergenceWarning: Liblinear failed to converge, increase the number of iterations.\n",
            "  \"the number of iterations.\", ConvergenceWarning)\n",
            "/usr/local/lib/python3.6/dist-packages/sklearn/svm/_base.py:947: ConvergenceWarning: Liblinear failed to converge, increase the number of iterations.\n",
            "  \"the number of iterations.\", ConvergenceWarning)\n",
            "/usr/local/lib/python3.6/dist-packages/sklearn/svm/_base.py:947: ConvergenceWarning: Liblinear failed to converge, increase the number of iterations.\n",
            "  \"the number of iterations.\", ConvergenceWarning)\n",
            "/usr/local/lib/python3.6/dist-packages/sklearn/svm/_base.py:947: ConvergenceWarning: Liblinear failed to converge, increase the number of iterations.\n",
            "  \"the number of iterations.\", ConvergenceWarning)\n",
            "/usr/local/lib/python3.6/dist-packages/sklearn/svm/_base.py:947: ConvergenceWarning: Liblinear failed to converge, increase the number of iterations.\n",
            "  \"the number of iterations.\", ConvergenceWarning)\n",
            "/usr/local/lib/python3.6/dist-packages/sklearn/svm/_base.py:947: ConvergenceWarning: Liblinear failed to converge, increase the number of iterations.\n",
            "  \"the number of iterations.\", ConvergenceWarning)\n",
            "/usr/local/lib/python3.6/dist-packages/sklearn/svm/_base.py:947: ConvergenceWarning: Liblinear failed to converge, increase the number of iterations.\n",
            "  \"the number of iterations.\", ConvergenceWarning)\n",
            "/usr/local/lib/python3.6/dist-packages/sklearn/svm/_base.py:947: ConvergenceWarning: Liblinear failed to converge, increase the number of iterations.\n",
            "  \"the number of iterations.\", ConvergenceWarning)\n",
            "/usr/local/lib/python3.6/dist-packages/sklearn/svm/_base.py:947: ConvergenceWarning: Liblinear failed to converge, increase the number of iterations.\n",
            "  \"the number of iterations.\", ConvergenceWarning)\n",
            "/usr/local/lib/python3.6/dist-packages/sklearn/svm/_base.py:947: ConvergenceWarning: Liblinear failed to converge, increase the number of iterations.\n",
            "  \"the number of iterations.\", ConvergenceWarning)\n",
            "/usr/local/lib/python3.6/dist-packages/sklearn/svm/_base.py:947: ConvergenceWarning: Liblinear failed to converge, increase the number of iterations.\n",
            "  \"the number of iterations.\", ConvergenceWarning)\n",
            "/usr/local/lib/python3.6/dist-packages/sklearn/svm/_base.py:947: ConvergenceWarning: Liblinear failed to converge, increase the number of iterations.\n",
            "  \"the number of iterations.\", ConvergenceWarning)\n",
            "/usr/local/lib/python3.6/dist-packages/sklearn/svm/_base.py:947: ConvergenceWarning: Liblinear failed to converge, increase the number of iterations.\n",
            "  \"the number of iterations.\", ConvergenceWarning)\n",
            "/usr/local/lib/python3.6/dist-packages/sklearn/svm/_base.py:947: ConvergenceWarning: Liblinear failed to converge, increase the number of iterations.\n",
            "  \"the number of iterations.\", ConvergenceWarning)\n",
            "/usr/local/lib/python3.6/dist-packages/sklearn/svm/_base.py:947: ConvergenceWarning: Liblinear failed to converge, increase the number of iterations.\n",
            "  \"the number of iterations.\", ConvergenceWarning)\n",
            "/usr/local/lib/python3.6/dist-packages/sklearn/svm/_base.py:947: ConvergenceWarning: Liblinear failed to converge, increase the number of iterations.\n",
            "  \"the number of iterations.\", ConvergenceWarning)\n",
            "/usr/local/lib/python3.6/dist-packages/sklearn/svm/_base.py:947: ConvergenceWarning: Liblinear failed to converge, increase the number of iterations.\n",
            "  \"the number of iterations.\", ConvergenceWarning)\n",
            "/usr/local/lib/python3.6/dist-packages/sklearn/svm/_base.py:947: ConvergenceWarning: Liblinear failed to converge, increase the number of iterations.\n",
            "  \"the number of iterations.\", ConvergenceWarning)\n",
            "/usr/local/lib/python3.6/dist-packages/sklearn/svm/_base.py:947: ConvergenceWarning: Liblinear failed to converge, increase the number of iterations.\n",
            "  \"the number of iterations.\", ConvergenceWarning)\n",
            "/usr/local/lib/python3.6/dist-packages/sklearn/svm/_base.py:947: ConvergenceWarning: Liblinear failed to converge, increase the number of iterations.\n",
            "  \"the number of iterations.\", ConvergenceWarning)\n",
            "/usr/local/lib/python3.6/dist-packages/sklearn/svm/_base.py:947: ConvergenceWarning: Liblinear failed to converge, increase the number of iterations.\n",
            "  \"the number of iterations.\", ConvergenceWarning)\n",
            "/usr/local/lib/python3.6/dist-packages/sklearn/svm/_base.py:947: ConvergenceWarning: Liblinear failed to converge, increase the number of iterations.\n",
            "  \"the number of iterations.\", ConvergenceWarning)\n",
            "/usr/local/lib/python3.6/dist-packages/sklearn/svm/_base.py:947: ConvergenceWarning: Liblinear failed to converge, increase the number of iterations.\n",
            "  \"the number of iterations.\", ConvergenceWarning)\n",
            "/usr/local/lib/python3.6/dist-packages/sklearn/svm/_base.py:947: ConvergenceWarning: Liblinear failed to converge, increase the number of iterations.\n",
            "  \"the number of iterations.\", ConvergenceWarning)\n",
            "/usr/local/lib/python3.6/dist-packages/sklearn/svm/_base.py:947: ConvergenceWarning: Liblinear failed to converge, increase the number of iterations.\n",
            "  \"the number of iterations.\", ConvergenceWarning)\n",
            "/usr/local/lib/python3.6/dist-packages/sklearn/svm/_base.py:947: ConvergenceWarning: Liblinear failed to converge, increase the number of iterations.\n",
            "  \"the number of iterations.\", ConvergenceWarning)\n",
            "/usr/local/lib/python3.6/dist-packages/sklearn/svm/_base.py:947: ConvergenceWarning: Liblinear failed to converge, increase the number of iterations.\n",
            "  \"the number of iterations.\", ConvergenceWarning)\n",
            "/usr/local/lib/python3.6/dist-packages/sklearn/svm/_base.py:947: ConvergenceWarning: Liblinear failed to converge, increase the number of iterations.\n",
            "  \"the number of iterations.\", ConvergenceWarning)\n",
            "/usr/local/lib/python3.6/dist-packages/sklearn/svm/_base.py:947: ConvergenceWarning: Liblinear failed to converge, increase the number of iterations.\n",
            "  \"the number of iterations.\", ConvergenceWarning)\n",
            "/usr/local/lib/python3.6/dist-packages/sklearn/svm/_base.py:947: ConvergenceWarning: Liblinear failed to converge, increase the number of iterations.\n",
            "  \"the number of iterations.\", ConvergenceWarning)\n",
            "/usr/local/lib/python3.6/dist-packages/sklearn/svm/_base.py:947: ConvergenceWarning: Liblinear failed to converge, increase the number of iterations.\n",
            "  \"the number of iterations.\", ConvergenceWarning)\n",
            "/usr/local/lib/python3.6/dist-packages/sklearn/svm/_base.py:947: ConvergenceWarning: Liblinear failed to converge, increase the number of iterations.\n",
            "  \"the number of iterations.\", ConvergenceWarning)\n",
            "/usr/local/lib/python3.6/dist-packages/sklearn/svm/_base.py:947: ConvergenceWarning: Liblinear failed to converge, increase the number of iterations.\n",
            "  \"the number of iterations.\", ConvergenceWarning)\n",
            "/usr/local/lib/python3.6/dist-packages/sklearn/svm/_base.py:947: ConvergenceWarning: Liblinear failed to converge, increase the number of iterations.\n",
            "  \"the number of iterations.\", ConvergenceWarning)\n",
            "/usr/local/lib/python3.6/dist-packages/sklearn/svm/_base.py:947: ConvergenceWarning: Liblinear failed to converge, increase the number of iterations.\n",
            "  \"the number of iterations.\", ConvergenceWarning)\n",
            "/usr/local/lib/python3.6/dist-packages/sklearn/svm/_base.py:947: ConvergenceWarning: Liblinear failed to converge, increase the number of iterations.\n",
            "  \"the number of iterations.\", ConvergenceWarning)\n",
            "/usr/local/lib/python3.6/dist-packages/sklearn/svm/_base.py:947: ConvergenceWarning: Liblinear failed to converge, increase the number of iterations.\n",
            "  \"the number of iterations.\", ConvergenceWarning)\n",
            "/usr/local/lib/python3.6/dist-packages/sklearn/svm/_base.py:947: ConvergenceWarning: Liblinear failed to converge, increase the number of iterations.\n",
            "  \"the number of iterations.\", ConvergenceWarning)\n",
            "/usr/local/lib/python3.6/dist-packages/sklearn/svm/_base.py:947: ConvergenceWarning: Liblinear failed to converge, increase the number of iterations.\n",
            "  \"the number of iterations.\", ConvergenceWarning)\n",
            "/usr/local/lib/python3.6/dist-packages/sklearn/svm/_base.py:947: ConvergenceWarning: Liblinear failed to converge, increase the number of iterations.\n",
            "  \"the number of iterations.\", ConvergenceWarning)\n",
            "/usr/local/lib/python3.6/dist-packages/sklearn/svm/_base.py:947: ConvergenceWarning: Liblinear failed to converge, increase the number of iterations.\n",
            "  \"the number of iterations.\", ConvergenceWarning)\n",
            "/usr/local/lib/python3.6/dist-packages/sklearn/svm/_base.py:947: ConvergenceWarning: Liblinear failed to converge, increase the number of iterations.\n",
            "  \"the number of iterations.\", ConvergenceWarning)\n",
            "/usr/local/lib/python3.6/dist-packages/sklearn/svm/_base.py:947: ConvergenceWarning: Liblinear failed to converge, increase the number of iterations.\n",
            "  \"the number of iterations.\", ConvergenceWarning)\n",
            "/usr/local/lib/python3.6/dist-packages/sklearn/svm/_base.py:947: ConvergenceWarning: Liblinear failed to converge, increase the number of iterations.\n",
            "  \"the number of iterations.\", ConvergenceWarning)\n",
            "/usr/local/lib/python3.6/dist-packages/sklearn/svm/_base.py:947: ConvergenceWarning: Liblinear failed to converge, increase the number of iterations.\n",
            "  \"the number of iterations.\", ConvergenceWarning)\n"
          ],
          "name": "stderr"
        },
        {
          "output_type": "execute_result",
          "data": {
            "text/plain": [
              "[0.7719068413391558, 0.7611771363893605]"
            ]
          },
          "metadata": {
            "tags": []
          },
          "execution_count": 25
        }
      ]
    },
    {
      "cell_type": "markdown",
      "metadata": {
        "id": "7MMPjx68CwoL"
      },
      "source": [
        "FCNN, CNN, after BERT\n",
        "\n",
        "> Indented block\n",
        "\n"
      ]
    },
    {
      "cell_type": "code",
      "metadata": {
        "colab": {
          "base_uri": "https://localhost:8080/"
        },
        "id": "Fr16SC-pGNtK",
        "outputId": "62a8e496-8dad-44a6-cdf6-f4d7cfc599d5"
      },
      "source": [
        "from keras.models import Sequential\n",
        "from keras.layers import Dense, LSTM, SimpleRNN, Flatten\n",
        "from keras.layers.embeddings import Embedding\n",
        "from keras.layers.convolutional import Conv1D, MaxPooling1D\n",
        "import pandas as pd\n",
        "\n",
        "max_review_length = 768\n",
        "vocabulary_size = 768\n",
        "embedding_dim=500#\n",
        "\n",
        "# Fully connected neural network\n",
        "model_ffn = Sequential()\n",
        "model_ffn.add(Dense(250, activation='relu',input_dim=max_review_length))\n",
        "model_ffn.add(Dense(1, activation='sigmoid'))\n",
        "model_ffn.compile(loss='binary_crossentropy', optimizer='adam', metrics=['accuracy'])\n",
        "history_ffn = model_ffn.fit(tX_numpy, tY_numpy,epochs=40, batch_size=128,verbose=2) #batch_size=128\n",
        "scores_ffn = model_ffn.evaluate(vX_numpy, vY_numpy, verbose=0)\n",
        "scores_ffn"
      ],
      "execution_count": 41,
      "outputs": [
        {
          "output_type": "stream",
          "text": [
            "Epoch 1/40\n",
            "215/215 - 1s - loss: 0.5035 - accuracy: 0.7487\n",
            "Epoch 2/40\n",
            "215/215 - 1s - loss: 0.4575 - accuracy: 0.7808\n",
            "Epoch 3/40\n",
            "215/215 - 1s - loss: 0.4305 - accuracy: 0.7951\n",
            "Epoch 4/40\n",
            "215/215 - 1s - loss: 0.4071 - accuracy: 0.8098\n",
            "Epoch 5/40\n",
            "215/215 - 1s - loss: 0.3854 - accuracy: 0.8248\n",
            "Epoch 6/40\n",
            "215/215 - 1s - loss: 0.3566 - accuracy: 0.8418\n",
            "Epoch 7/40\n",
            "215/215 - 1s - loss: 0.3290 - accuracy: 0.8579\n",
            "Epoch 8/40\n",
            "215/215 - 1s - loss: 0.2979 - accuracy: 0.8766\n",
            "Epoch 9/40\n",
            "215/215 - 1s - loss: 0.2709 - accuracy: 0.8898\n",
            "Epoch 10/40\n",
            "215/215 - 1s - loss: 0.2418 - accuracy: 0.9032\n",
            "Epoch 11/40\n",
            "215/215 - 1s - loss: 0.2153 - accuracy: 0.9176\n",
            "Epoch 12/40\n",
            "215/215 - 1s - loss: 0.1897 - accuracy: 0.9306\n",
            "Epoch 13/40\n",
            "215/215 - 1s - loss: 0.1698 - accuracy: 0.9399\n",
            "Epoch 14/40\n",
            "215/215 - 1s - loss: 0.1462 - accuracy: 0.9519\n",
            "Epoch 15/40\n",
            "215/215 - 1s - loss: 0.1262 - accuracy: 0.9621\n",
            "Epoch 16/40\n",
            "215/215 - 1s - loss: 0.1094 - accuracy: 0.9682\n",
            "Epoch 17/40\n",
            "215/215 - 1s - loss: 0.0933 - accuracy: 0.9759\n",
            "Epoch 18/40\n",
            "215/215 - 1s - loss: 0.0840 - accuracy: 0.9787\n",
            "Epoch 19/40\n",
            "215/215 - 1s - loss: 0.0722 - accuracy: 0.9836\n",
            "Epoch 20/40\n",
            "215/215 - 1s - loss: 0.0603 - accuracy: 0.9886\n",
            "Epoch 21/40\n",
            "215/215 - 1s - loss: 0.0584 - accuracy: 0.9878\n",
            "Epoch 22/40\n",
            "215/215 - 1s - loss: 0.0454 - accuracy: 0.9923\n",
            "Epoch 23/40\n",
            "215/215 - 1s - loss: 0.0443 - accuracy: 0.9927\n",
            "Epoch 24/40\n",
            "215/215 - 1s - loss: 0.0378 - accuracy: 0.9944\n",
            "Epoch 25/40\n",
            "215/215 - 1s - loss: 0.0355 - accuracy: 0.9943\n",
            "Epoch 26/40\n",
            "215/215 - 1s - loss: 0.0360 - accuracy: 0.9936\n",
            "Epoch 27/40\n",
            "215/215 - 1s - loss: 0.0369 - accuracy: 0.9929\n",
            "Epoch 28/40\n",
            "215/215 - 1s - loss: 0.0364 - accuracy: 0.9925\n",
            "Epoch 29/40\n",
            "215/215 - 1s - loss: 0.0295 - accuracy: 0.9949\n",
            "Epoch 30/40\n",
            "215/215 - 1s - loss: 0.0315 - accuracy: 0.9933\n",
            "Epoch 31/40\n",
            "215/215 - 1s - loss: 0.0304 - accuracy: 0.9936\n",
            "Epoch 32/40\n",
            "215/215 - 1s - loss: 0.0285 - accuracy: 0.9948\n",
            "Epoch 33/40\n",
            "215/215 - 1s - loss: 0.0241 - accuracy: 0.9957\n",
            "Epoch 34/40\n",
            "215/215 - 1s - loss: 0.0244 - accuracy: 0.9957\n",
            "Epoch 35/40\n",
            "215/215 - 1s - loss: 0.0221 - accuracy: 0.9956\n",
            "Epoch 36/40\n",
            "215/215 - 1s - loss: 0.0266 - accuracy: 0.9942\n",
            "Epoch 37/40\n",
            "215/215 - 1s - loss: 0.0230 - accuracy: 0.9958\n",
            "Epoch 38/40\n",
            "215/215 - 1s - loss: 0.0256 - accuracy: 0.9943\n",
            "Epoch 39/40\n",
            "215/215 - 1s - loss: 0.0200 - accuracy: 0.9964\n",
            "Epoch 40/40\n",
            "215/215 - 1s - loss: 0.0287 - accuracy: 0.9933\n"
          ],
          "name": "stdout"
        },
        {
          "output_type": "execute_result",
          "data": {
            "text/plain": [
              "[1.4064056873321533, 0.7405206561088562]"
            ]
          },
          "metadata": {
            "tags": []
          },
          "execution_count": 41
        }
      ]
    },
    {
      "cell_type": "code",
      "metadata": {
        "colab": {
          "base_uri": "https://localhost:8080/",
          "height": 222
        },
        "id": "LD5vEVOEYdNk",
        "outputId": "bde4e3d2-a466-4368-f183-d08b205fb0b0"
      },
      "source": [
        "tX_numpy=dfBERT_train.to_numpy()\n",
        "tY_numpy=np.array(tY)\n",
        "vX_numpy=dfBERT_test.to_numpy()\n",
        "vY_numpy=np.array(vY)"
      ],
      "execution_count": null,
      "outputs": [
        {
          "output_type": "error",
          "ename": "NameError",
          "evalue": "ignored",
          "traceback": [
            "\u001b[0;31m---------------------------------------------------------------------------\u001b[0m",
            "\u001b[0;31mNameError\u001b[0m                                 Traceback (most recent call last)",
            "\u001b[0;32m<ipython-input-7-200a2678f97c>\u001b[0m in \u001b[0;36m<module>\u001b[0;34m()\u001b[0m\n\u001b[0;32m----> 1\u001b[0;31m \u001b[0mtX_numpy\u001b[0m\u001b[0;34m=\u001b[0m\u001b[0mdfBERT_train\u001b[0m\u001b[0;34m.\u001b[0m\u001b[0mto_numpy\u001b[0m\u001b[0;34m(\u001b[0m\u001b[0;34m)\u001b[0m\u001b[0;34m\u001b[0m\u001b[0;34m\u001b[0m\u001b[0m\n\u001b[0m\u001b[1;32m      2\u001b[0m \u001b[0mtY_numpy\u001b[0m\u001b[0;34m=\u001b[0m\u001b[0mnp\u001b[0m\u001b[0;34m.\u001b[0m\u001b[0marray\u001b[0m\u001b[0;34m(\u001b[0m\u001b[0mtY\u001b[0m\u001b[0;34m)\u001b[0m\u001b[0;34m\u001b[0m\u001b[0;34m\u001b[0m\u001b[0m\n\u001b[1;32m      3\u001b[0m \u001b[0mvX_numpy\u001b[0m\u001b[0;34m=\u001b[0m\u001b[0mdfBERT_test\u001b[0m\u001b[0;34m.\u001b[0m\u001b[0mto_numpy\u001b[0m\u001b[0;34m(\u001b[0m\u001b[0;34m)\u001b[0m\u001b[0;34m\u001b[0m\u001b[0;34m\u001b[0m\u001b[0m\n\u001b[1;32m      4\u001b[0m \u001b[0mvY_numpy\u001b[0m\u001b[0;34m=\u001b[0m\u001b[0mnp\u001b[0m\u001b[0;34m.\u001b[0m\u001b[0marray\u001b[0m\u001b[0;34m(\u001b[0m\u001b[0mvY\u001b[0m\u001b[0;34m)\u001b[0m\u001b[0;34m\u001b[0m\u001b[0;34m\u001b[0m\u001b[0m\n",
            "\u001b[0;31mNameError\u001b[0m: name 'dfBERT_train' is not defined"
          ]
        }
      ]
    },
    {
      "cell_type": "code",
      "metadata": {
        "id": "dDCdMxkuKpKd",
        "colab": {
          "base_uri": "https://localhost:8080/",
          "height": 531
        },
        "outputId": "df9618a6-0b6b-4dcb-fb86-33e193a213fc"
      },
      "source": [
        "# Fully connected neural network with embeddings\n",
        "embedding_dim=500#\n",
        "model_ffne = Sequential()\n",
        "model_ffne.add(Embedding(vocabulary_size, embedding_dim, input_length=max_review_length))\n",
        "model_ffne.add(Flatten())\n",
        "model_ffne.add(Dense(250, activation='relu'))\n",
        "model_ffne.add(Dense(1, activation='sigmoid'))\n",
        "model_ffne.compile(loss='binary_crossentropy', optimizer='adam', metrics=['accuracy'])\n",
        "history_ffne = model_ffne.fit(tX_numpy, tY_numpy)\n",
        "scores_ffne = model_ffne.evaluate(vX_numpy, vY_numpy, verbose=0)\n",
        "scores_ffne"
      ],
      "execution_count": 43,
      "outputs": [
        {
          "output_type": "error",
          "ename": "InvalidArgumentError",
          "evalue": "ignored",
          "traceback": [
            "\u001b[0;31m---------------------------------------------------------------------------\u001b[0m",
            "\u001b[0;31mInvalidArgumentError\u001b[0m                      Traceback (most recent call last)",
            "\u001b[0;32m<ipython-input-43-fe09e62e39d5>\u001b[0m in \u001b[0;36m<module>\u001b[0;34m()\u001b[0m\n\u001b[1;32m      8\u001b[0m \u001b[0mmodel_ffne\u001b[0m\u001b[0;34m.\u001b[0m\u001b[0mcompile\u001b[0m\u001b[0;34m(\u001b[0m\u001b[0mloss\u001b[0m\u001b[0;34m=\u001b[0m\u001b[0;34m'binary_crossentropy'\u001b[0m\u001b[0;34m,\u001b[0m \u001b[0moptimizer\u001b[0m\u001b[0;34m=\u001b[0m\u001b[0;34m'adam'\u001b[0m\u001b[0;34m,\u001b[0m \u001b[0mmetrics\u001b[0m\u001b[0;34m=\u001b[0m\u001b[0;34m[\u001b[0m\u001b[0;34m'accuracy'\u001b[0m\u001b[0;34m]\u001b[0m\u001b[0;34m)\u001b[0m\u001b[0;34m\u001b[0m\u001b[0;34m\u001b[0m\u001b[0m\n\u001b[1;32m      9\u001b[0m \u001b[0;34m\u001b[0m\u001b[0m\n\u001b[0;32m---> 10\u001b[0;31m \u001b[0mhistory_ffne\u001b[0m \u001b[0;34m=\u001b[0m \u001b[0mmodel_ffne\u001b[0m\u001b[0;34m.\u001b[0m\u001b[0mfit\u001b[0m\u001b[0;34m(\u001b[0m\u001b[0mtX_numpy\u001b[0m\u001b[0;34m,\u001b[0m \u001b[0mtY_numpy\u001b[0m\u001b[0;34m)\u001b[0m\u001b[0;34m\u001b[0m\u001b[0;34m\u001b[0m\u001b[0m\n\u001b[0m\u001b[1;32m     11\u001b[0m \u001b[0mscores_ffne\u001b[0m \u001b[0;34m=\u001b[0m \u001b[0mmodel_ffne\u001b[0m\u001b[0;34m.\u001b[0m\u001b[0mevaluate\u001b[0m\u001b[0;34m(\u001b[0m\u001b[0mvX_numpy\u001b[0m\u001b[0;34m,\u001b[0m \u001b[0mvY_numpy\u001b[0m\u001b[0;34m,\u001b[0m \u001b[0mverbose\u001b[0m\u001b[0;34m=\u001b[0m\u001b[0;36m0\u001b[0m\u001b[0;34m)\u001b[0m\u001b[0;34m\u001b[0m\u001b[0;34m\u001b[0m\u001b[0m\n\u001b[1;32m     12\u001b[0m \u001b[0mscores_ffne\u001b[0m\u001b[0;34m\u001b[0m\u001b[0;34m\u001b[0m\u001b[0m\n",
            "\u001b[0;32m/usr/local/lib/python3.6/dist-packages/tensorflow/python/keras/engine/training.py\u001b[0m in \u001b[0;36m_method_wrapper\u001b[0;34m(self, *args, **kwargs)\u001b[0m\n\u001b[1;32m    106\u001b[0m   \u001b[0;32mdef\u001b[0m \u001b[0m_method_wrapper\u001b[0m\u001b[0;34m(\u001b[0m\u001b[0mself\u001b[0m\u001b[0;34m,\u001b[0m \u001b[0;34m*\u001b[0m\u001b[0margs\u001b[0m\u001b[0;34m,\u001b[0m \u001b[0;34m**\u001b[0m\u001b[0mkwargs\u001b[0m\u001b[0;34m)\u001b[0m\u001b[0;34m:\u001b[0m\u001b[0;34m\u001b[0m\u001b[0;34m\u001b[0m\u001b[0m\n\u001b[1;32m    107\u001b[0m     \u001b[0;32mif\u001b[0m \u001b[0;32mnot\u001b[0m \u001b[0mself\u001b[0m\u001b[0;34m.\u001b[0m\u001b[0m_in_multi_worker_mode\u001b[0m\u001b[0;34m(\u001b[0m\u001b[0;34m)\u001b[0m\u001b[0;34m:\u001b[0m  \u001b[0;31m# pylint: disable=protected-access\u001b[0m\u001b[0;34m\u001b[0m\u001b[0;34m\u001b[0m\u001b[0m\n\u001b[0;32m--> 108\u001b[0;31m       \u001b[0;32mreturn\u001b[0m \u001b[0mmethod\u001b[0m\u001b[0;34m(\u001b[0m\u001b[0mself\u001b[0m\u001b[0;34m,\u001b[0m \u001b[0;34m*\u001b[0m\u001b[0margs\u001b[0m\u001b[0;34m,\u001b[0m \u001b[0;34m**\u001b[0m\u001b[0mkwargs\u001b[0m\u001b[0;34m)\u001b[0m\u001b[0;34m\u001b[0m\u001b[0;34m\u001b[0m\u001b[0m\n\u001b[0m\u001b[1;32m    109\u001b[0m \u001b[0;34m\u001b[0m\u001b[0m\n\u001b[1;32m    110\u001b[0m     \u001b[0;31m# Running inside `run_distribute_coordinator` already.\u001b[0m\u001b[0;34m\u001b[0m\u001b[0;34m\u001b[0m\u001b[0;34m\u001b[0m\u001b[0m\n",
            "\u001b[0;32m/usr/local/lib/python3.6/dist-packages/tensorflow/python/keras/engine/training.py\u001b[0m in \u001b[0;36mfit\u001b[0;34m(self, x, y, batch_size, epochs, verbose, callbacks, validation_split, validation_data, shuffle, class_weight, sample_weight, initial_epoch, steps_per_epoch, validation_steps, validation_batch_size, validation_freq, max_queue_size, workers, use_multiprocessing)\u001b[0m\n\u001b[1;32m   1096\u001b[0m                 batch_size=batch_size):\n\u001b[1;32m   1097\u001b[0m               \u001b[0mcallbacks\u001b[0m\u001b[0;34m.\u001b[0m\u001b[0mon_train_batch_begin\u001b[0m\u001b[0;34m(\u001b[0m\u001b[0mstep\u001b[0m\u001b[0;34m)\u001b[0m\u001b[0;34m\u001b[0m\u001b[0;34m\u001b[0m\u001b[0m\n\u001b[0;32m-> 1098\u001b[0;31m               \u001b[0mtmp_logs\u001b[0m \u001b[0;34m=\u001b[0m \u001b[0mtrain_function\u001b[0m\u001b[0;34m(\u001b[0m\u001b[0miterator\u001b[0m\u001b[0;34m)\u001b[0m\u001b[0;34m\u001b[0m\u001b[0;34m\u001b[0m\u001b[0m\n\u001b[0m\u001b[1;32m   1099\u001b[0m               \u001b[0;32mif\u001b[0m \u001b[0mdata_handler\u001b[0m\u001b[0;34m.\u001b[0m\u001b[0mshould_sync\u001b[0m\u001b[0;34m:\u001b[0m\u001b[0;34m\u001b[0m\u001b[0;34m\u001b[0m\u001b[0m\n\u001b[1;32m   1100\u001b[0m                 \u001b[0mcontext\u001b[0m\u001b[0;34m.\u001b[0m\u001b[0masync_wait\u001b[0m\u001b[0;34m(\u001b[0m\u001b[0;34m)\u001b[0m\u001b[0;34m\u001b[0m\u001b[0;34m\u001b[0m\u001b[0m\n",
            "\u001b[0;32m/usr/local/lib/python3.6/dist-packages/tensorflow/python/eager/def_function.py\u001b[0m in \u001b[0;36m__call__\u001b[0;34m(self, *args, **kwds)\u001b[0m\n\u001b[1;32m    778\u001b[0m       \u001b[0;32melse\u001b[0m\u001b[0;34m:\u001b[0m\u001b[0;34m\u001b[0m\u001b[0;34m\u001b[0m\u001b[0m\n\u001b[1;32m    779\u001b[0m         \u001b[0mcompiler\u001b[0m \u001b[0;34m=\u001b[0m \u001b[0;34m\"nonXla\"\u001b[0m\u001b[0;34m\u001b[0m\u001b[0;34m\u001b[0m\u001b[0m\n\u001b[0;32m--> 780\u001b[0;31m         \u001b[0mresult\u001b[0m \u001b[0;34m=\u001b[0m \u001b[0mself\u001b[0m\u001b[0;34m.\u001b[0m\u001b[0m_call\u001b[0m\u001b[0;34m(\u001b[0m\u001b[0;34m*\u001b[0m\u001b[0margs\u001b[0m\u001b[0;34m,\u001b[0m \u001b[0;34m**\u001b[0m\u001b[0mkwds\u001b[0m\u001b[0;34m)\u001b[0m\u001b[0;34m\u001b[0m\u001b[0;34m\u001b[0m\u001b[0m\n\u001b[0m\u001b[1;32m    781\u001b[0m \u001b[0;34m\u001b[0m\u001b[0m\n\u001b[1;32m    782\u001b[0m       \u001b[0mnew_tracing_count\u001b[0m \u001b[0;34m=\u001b[0m \u001b[0mself\u001b[0m\u001b[0;34m.\u001b[0m\u001b[0m_get_tracing_count\u001b[0m\u001b[0;34m(\u001b[0m\u001b[0;34m)\u001b[0m\u001b[0;34m\u001b[0m\u001b[0;34m\u001b[0m\u001b[0m\n",
            "\u001b[0;32m/usr/local/lib/python3.6/dist-packages/tensorflow/python/eager/def_function.py\u001b[0m in \u001b[0;36m_call\u001b[0;34m(self, *args, **kwds)\u001b[0m\n\u001b[1;32m    838\u001b[0m         \u001b[0;31m# Lifting succeeded, so variables are initialized and we can run the\u001b[0m\u001b[0;34m\u001b[0m\u001b[0;34m\u001b[0m\u001b[0;34m\u001b[0m\u001b[0m\n\u001b[1;32m    839\u001b[0m         \u001b[0;31m# stateless function.\u001b[0m\u001b[0;34m\u001b[0m\u001b[0;34m\u001b[0m\u001b[0;34m\u001b[0m\u001b[0m\n\u001b[0;32m--> 840\u001b[0;31m         \u001b[0;32mreturn\u001b[0m \u001b[0mself\u001b[0m\u001b[0;34m.\u001b[0m\u001b[0m_stateless_fn\u001b[0m\u001b[0;34m(\u001b[0m\u001b[0;34m*\u001b[0m\u001b[0margs\u001b[0m\u001b[0;34m,\u001b[0m \u001b[0;34m**\u001b[0m\u001b[0mkwds\u001b[0m\u001b[0;34m)\u001b[0m\u001b[0;34m\u001b[0m\u001b[0;34m\u001b[0m\u001b[0m\n\u001b[0m\u001b[1;32m    841\u001b[0m     \u001b[0;32melse\u001b[0m\u001b[0;34m:\u001b[0m\u001b[0;34m\u001b[0m\u001b[0;34m\u001b[0m\u001b[0m\n\u001b[1;32m    842\u001b[0m       \u001b[0mcanon_args\u001b[0m\u001b[0;34m,\u001b[0m \u001b[0mcanon_kwds\u001b[0m \u001b[0;34m=\u001b[0m\u001b[0;31m \u001b[0m\u001b[0;31m\\\u001b[0m\u001b[0;34m\u001b[0m\u001b[0;34m\u001b[0m\u001b[0m\n",
            "\u001b[0;32m/usr/local/lib/python3.6/dist-packages/tensorflow/python/eager/function.py\u001b[0m in \u001b[0;36m__call__\u001b[0;34m(self, *args, **kwargs)\u001b[0m\n\u001b[1;32m   2827\u001b[0m     \u001b[0;32mwith\u001b[0m \u001b[0mself\u001b[0m\u001b[0;34m.\u001b[0m\u001b[0m_lock\u001b[0m\u001b[0;34m:\u001b[0m\u001b[0;34m\u001b[0m\u001b[0;34m\u001b[0m\u001b[0m\n\u001b[1;32m   2828\u001b[0m       \u001b[0mgraph_function\u001b[0m\u001b[0;34m,\u001b[0m \u001b[0margs\u001b[0m\u001b[0;34m,\u001b[0m \u001b[0mkwargs\u001b[0m \u001b[0;34m=\u001b[0m \u001b[0mself\u001b[0m\u001b[0;34m.\u001b[0m\u001b[0m_maybe_define_function\u001b[0m\u001b[0;34m(\u001b[0m\u001b[0margs\u001b[0m\u001b[0;34m,\u001b[0m \u001b[0mkwargs\u001b[0m\u001b[0;34m)\u001b[0m\u001b[0;34m\u001b[0m\u001b[0;34m\u001b[0m\u001b[0m\n\u001b[0;32m-> 2829\u001b[0;31m     \u001b[0;32mreturn\u001b[0m \u001b[0mgraph_function\u001b[0m\u001b[0;34m.\u001b[0m\u001b[0m_filtered_call\u001b[0m\u001b[0;34m(\u001b[0m\u001b[0margs\u001b[0m\u001b[0;34m,\u001b[0m \u001b[0mkwargs\u001b[0m\u001b[0;34m)\u001b[0m  \u001b[0;31m# pylint: disable=protected-access\u001b[0m\u001b[0;34m\u001b[0m\u001b[0;34m\u001b[0m\u001b[0m\n\u001b[0m\u001b[1;32m   2830\u001b[0m \u001b[0;34m\u001b[0m\u001b[0m\n\u001b[1;32m   2831\u001b[0m   \u001b[0;34m@\u001b[0m\u001b[0mproperty\u001b[0m\u001b[0;34m\u001b[0m\u001b[0;34m\u001b[0m\u001b[0m\n",
            "\u001b[0;32m/usr/local/lib/python3.6/dist-packages/tensorflow/python/eager/function.py\u001b[0m in \u001b[0;36m_filtered_call\u001b[0;34m(self, args, kwargs, cancellation_manager)\u001b[0m\n\u001b[1;32m   1846\u001b[0m                            resource_variable_ops.BaseResourceVariable))],\n\u001b[1;32m   1847\u001b[0m         \u001b[0mcaptured_inputs\u001b[0m\u001b[0;34m=\u001b[0m\u001b[0mself\u001b[0m\u001b[0;34m.\u001b[0m\u001b[0mcaptured_inputs\u001b[0m\u001b[0;34m,\u001b[0m\u001b[0;34m\u001b[0m\u001b[0;34m\u001b[0m\u001b[0m\n\u001b[0;32m-> 1848\u001b[0;31m         cancellation_manager=cancellation_manager)\n\u001b[0m\u001b[1;32m   1849\u001b[0m \u001b[0;34m\u001b[0m\u001b[0m\n\u001b[1;32m   1850\u001b[0m   \u001b[0;32mdef\u001b[0m \u001b[0m_call_flat\u001b[0m\u001b[0;34m(\u001b[0m\u001b[0mself\u001b[0m\u001b[0;34m,\u001b[0m \u001b[0margs\u001b[0m\u001b[0;34m,\u001b[0m \u001b[0mcaptured_inputs\u001b[0m\u001b[0;34m,\u001b[0m \u001b[0mcancellation_manager\u001b[0m\u001b[0;34m=\u001b[0m\u001b[0;32mNone\u001b[0m\u001b[0;34m)\u001b[0m\u001b[0;34m:\u001b[0m\u001b[0;34m\u001b[0m\u001b[0;34m\u001b[0m\u001b[0m\n",
            "\u001b[0;32m/usr/local/lib/python3.6/dist-packages/tensorflow/python/eager/function.py\u001b[0m in \u001b[0;36m_call_flat\u001b[0;34m(self, args, captured_inputs, cancellation_manager)\u001b[0m\n\u001b[1;32m   1922\u001b[0m       \u001b[0;31m# No tape is watching; skip to running the function.\u001b[0m\u001b[0;34m\u001b[0m\u001b[0;34m\u001b[0m\u001b[0;34m\u001b[0m\u001b[0m\n\u001b[1;32m   1923\u001b[0m       return self._build_call_outputs(self._inference_function.call(\n\u001b[0;32m-> 1924\u001b[0;31m           ctx, args, cancellation_manager=cancellation_manager))\n\u001b[0m\u001b[1;32m   1925\u001b[0m     forward_backward = self._select_forward_and_backward_functions(\n\u001b[1;32m   1926\u001b[0m         \u001b[0margs\u001b[0m\u001b[0;34m,\u001b[0m\u001b[0;34m\u001b[0m\u001b[0;34m\u001b[0m\u001b[0m\n",
            "\u001b[0;32m/usr/local/lib/python3.6/dist-packages/tensorflow/python/eager/function.py\u001b[0m in \u001b[0;36mcall\u001b[0;34m(self, ctx, args, cancellation_manager)\u001b[0m\n\u001b[1;32m    548\u001b[0m               \u001b[0minputs\u001b[0m\u001b[0;34m=\u001b[0m\u001b[0margs\u001b[0m\u001b[0;34m,\u001b[0m\u001b[0;34m\u001b[0m\u001b[0;34m\u001b[0m\u001b[0m\n\u001b[1;32m    549\u001b[0m               \u001b[0mattrs\u001b[0m\u001b[0;34m=\u001b[0m\u001b[0mattrs\u001b[0m\u001b[0;34m,\u001b[0m\u001b[0;34m\u001b[0m\u001b[0;34m\u001b[0m\u001b[0m\n\u001b[0;32m--> 550\u001b[0;31m               ctx=ctx)\n\u001b[0m\u001b[1;32m    551\u001b[0m         \u001b[0;32melse\u001b[0m\u001b[0;34m:\u001b[0m\u001b[0;34m\u001b[0m\u001b[0;34m\u001b[0m\u001b[0m\n\u001b[1;32m    552\u001b[0m           outputs = execute.execute_with_cancellation(\n",
            "\u001b[0;32m/usr/local/lib/python3.6/dist-packages/tensorflow/python/eager/execute.py\u001b[0m in \u001b[0;36mquick_execute\u001b[0;34m(op_name, num_outputs, inputs, attrs, ctx, name)\u001b[0m\n\u001b[1;32m     58\u001b[0m     \u001b[0mctx\u001b[0m\u001b[0;34m.\u001b[0m\u001b[0mensure_initialized\u001b[0m\u001b[0;34m(\u001b[0m\u001b[0;34m)\u001b[0m\u001b[0;34m\u001b[0m\u001b[0;34m\u001b[0m\u001b[0m\n\u001b[1;32m     59\u001b[0m     tensors = pywrap_tfe.TFE_Py_Execute(ctx._handle, device_name, op_name,\n\u001b[0;32m---> 60\u001b[0;31m                                         inputs, attrs, num_outputs)\n\u001b[0m\u001b[1;32m     61\u001b[0m   \u001b[0;32mexcept\u001b[0m \u001b[0mcore\u001b[0m\u001b[0;34m.\u001b[0m\u001b[0m_NotOkStatusException\u001b[0m \u001b[0;32mas\u001b[0m \u001b[0me\u001b[0m\u001b[0;34m:\u001b[0m\u001b[0;34m\u001b[0m\u001b[0;34m\u001b[0m\u001b[0m\n\u001b[1;32m     62\u001b[0m     \u001b[0;32mif\u001b[0m \u001b[0mname\u001b[0m \u001b[0;32mis\u001b[0m \u001b[0;32mnot\u001b[0m \u001b[0;32mNone\u001b[0m\u001b[0;34m:\u001b[0m\u001b[0;34m\u001b[0m\u001b[0;34m\u001b[0m\u001b[0m\n",
            "\u001b[0;31mInvalidArgumentError\u001b[0m:  indices[28,171] = -1 is not in [0, 768)\n\t [[node sequential_4/embedding_1/embedding_lookup (defined at <ipython-input-43-fe09e62e39d5>:10) ]] [Op:__inference_train_function_20181]\n\nErrors may have originated from an input operation.\nInput Source operations connected to node sequential_4/embedding_1/embedding_lookup:\n sequential_4/embedding_1/embedding_lookup/19928 (defined at /usr/lib/python3.6/contextlib.py:81)\n\nFunction call stack:\ntrain_function\n"
          ]
        }
      ]
    },
    {
      "cell_type": "code",
      "metadata": {
        "id": "fKQN916kLelv"
      },
      "source": [
        "\n",
        "# Convolutional neural network\n",
        "embedding_dim=500#\n",
        "model_cnn = Sequential()\n",
        "model_cnn.add(Embedding(vocabulary_size, embedding_dim, input_length=max_review_length))\n",
        "model_cnn.add(Conv1D(filters=200, kernel_size=3, padding='same', activation='relu'))\n",
        "model_cnn.add(MaxPooling1D(pool_size=2))\n",
        "model_cnn.add(Flatten())\n",
        "model_cnn.add(Dense(250, activation='relu'))\n",
        "model_cnn.add(Dense(1, activation='sigmoid'))\n",
        "model_cnn.compile(loss='binary_crossentropy', optimizer='adam', metrics=['accuracy'])\n",
        "history_cnn = model_cnn.fit(tX_numpy, tY_numpy,epochs=30, batch_size=128,verbose=2)\n",
        "scores_cnn = model_cnn.evaluate(vX_numpy, vY_numpy, verbose=0)\n",
        "scores_cnn"
      ],
      "execution_count": null,
      "outputs": []
    },
    {
      "cell_type": "code",
      "metadata": {
        "id": "KYX6xvpJU-4b"
      },
      "source": [
        "#11/1/2020\n",
        "from keras.models import Sequential\n",
        "from keras.layers import Dense, LSTM, SimpleRNN, Flatten\n",
        "from keras.layers.embeddings import Embedding\n",
        "from keras.layers.convolutional import Conv1D, MaxPooling1D\n",
        "import pandas as pd\n",
        "\n",
        "max_review_length = 1000\n",
        "vocabulary_size = 1000\n",
        "embedding_dim=500#\n",
        "\n",
        "# Fully connected neural network\n",
        "model_ffn = Sequential()\n",
        "model_ffn.add(Dense(250, activation='relu',input_dim=max_review_length))\n",
        "model_ffn.add(Dense(1, activation='sigmoid'))\n",
        "model_ffn.compile(loss='binary_crossentropy', optimizer='adam', metrics=['accuracy'])\n",
        "\n",
        "history_ffn = model_ffn.fit(tX_numpy, tY_numpy, epochs=30,verbose=2)\n",
        "scores_ffn = model_ffn.evaluate(vX_numpy, vY_numpy, verbose=0)\n",
        "\n",
        "# Fully connected neural network with embeddings\n",
        "model_ffne = Sequential()\n",
        "model_ffne.add(Embedding(vocabulary_size, embedding_dim, input_length=max_review_length))\n",
        "model_ffne.add(Flatten())\n",
        "model_ffne.add(Dense(250, activation='relu'))\n",
        "model_ffne.add(Dense(1, activation='sigmoid'))\n",
        "model_ffne.compile(loss='binary_crossentropy', optimizer='adam', metrics=['accuracy'])\n",
        "\n",
        "history_ffne = model_ffne.fit(tX_numpy, tY_numpy, epochs=30, batch_size=128, verbose=2)\n",
        "scores_ffne = model_ffne.evaluate(vX_numpy, vY_numpy, verbose=0)\n",
        "\n",
        "\n",
        "# Convolutional neural network\n",
        "model_cnn = Sequential()\n",
        "model_cnn.add(Embedding(vocabulary_size, embedding_dim, input_length=max_review_length))\n",
        "model_cnn.add(Conv1D(filters=200, kernel_size=3, padding='same', activation='relu'))\n",
        "model_cnn.add(MaxPooling1D(pool_size=2))\n",
        "model_cnn.add(Flatten())\n",
        "model_cnn.add(Dense(250, activation='relu'))\n",
        "model_cnn.add(Dense(1, activation='sigmoid'))\n",
        "model_cnn.compile(loss='binary_crossentropy', optimizer='adam', metrics=['accuracy'])\n",
        "history_cnn = model_cnn.fit(tX_numpy, tY_numpy,epochs=30, batch_size=128,verbose=2)\n",
        "scores_cnn = model_cnn.evaluate(vX_numpy, vY_numpy, verbose=0)\n",
        "# Recurrent Neural Network\n",
        "model_rnn = Sequential()\n",
        "model_rnn.add(Embedding(vocabulary_size, embedding_dim, input_length=max_review_length))\n",
        "model_rnn.add(SimpleRNN(100))\n",
        "model_rnn.add(Dense(1, activation='sigmoid'))\n",
        "model_rnn.compile(loss='binary_crossentropy', optimizer='adam', metrics=['accuracy'])\n",
        "history_rnn = model_rnn.fit(tX_numpy, tY_numpy,epochs=30, batch_size=128,verbose=2)\n",
        "scores_rnn = model_rnn.evaluate(vX_numpy, vY_numpy, verbose=0)\n",
        "\n",
        "# Convolutional + Recurrent Neural Network\n",
        "\n",
        "model_cnn_rnn = Sequential()\n",
        "model_cnn_rnn.add(Embedding(vocabulary_size, embedding_dim, input_length=max_review_length))\n",
        "model_cnn_rnn.add(Conv1D(filters=32, kernel_size=3, padding='same', activation='relu'))\n",
        "model_cnn_rnn.add(MaxPooling1D(pool_size=2))\n",
        "model_cnn_rnn.add(SimpleRNN(100))\n",
        "model_cnn_rnn.add(Dense(1, activation='sigmoid'))\n",
        "model_cnn_rnn.compile(loss='binary_crossentropy', optimizer='adam', metrics=['accuracy'])\n",
        "history_cnn_rnn = model_cnn_rnn.fit(tX_numpy, tY_numpy,epochs=30, batch_size=128,verbose=2)\n",
        "scores_cnn_rnn = model_cnn_rnn.evaluate(vX_numpy, vY_numpy, verbose=0)\n",
        "scores_cnn_rnn\n",
        "# Evaluation\n",
        "df = pd.DataFrame({'Model': ['FFNN', 'FFNN with Embeddings', 'CNN', 'RNN', 'CNN+RNN'],\n",
        "                   'Accuracy': [str(round(scores_ffn[1]*100, 2)) + '%',\n",
        "                                str(round(scores_ffne[1]*100, 2)) + '%',\n",
        "                                str(round(scores_cnn[1]*100, 2)) + '%',\n",
        "                                str(round(scores_rnn[1]*100, 2)) + '%',\n",
        "                                str(round(scores_cnn_rnn[1]*100, 2)) + '%']})\n",
        "df"
      ],
      "execution_count": null,
      "outputs": []
    },
    {
      "cell_type": "markdown",
      "metadata": {
        "id": "e1NoBqqxF_kz"
      },
      "source": [
        "FCNN, CNNS after TF-IDF"
      ]
    },
    {
      "cell_type": "code",
      "metadata": {
        "id": "r21UWZD_2N3M"
      },
      "source": [
        "stopword_list = nltk.corpus.stopwords.words('english')\n",
        "name='text'\n",
        "\n",
        "Label='label'\n",
        "tX, tY,vX, vY=PreModel(train_txt,test_txt, stopword_list,name, Label=Label)\n",
        "tX_numpy=tX.to_numpy()\n",
        "tY_numpy=np.array(tY)\n",
        "vX_numpy=vX.to_numpy()\n",
        "vY_numpy=np.array(vY)"
      ],
      "execution_count": 45,
      "outputs": []
    },
    {
      "cell_type": "code",
      "metadata": {
        "colab": {
          "base_uri": "https://localhost:8080/"
        },
        "id": "LW54ZTY12I4-",
        "outputId": "58765f11-d1bd-4fdc-bd47-759d85427d09"
      },
      "source": [
        "from keras.models import Sequential\n",
        "from keras.layers import Dense, LSTM, SimpleRNN, Flatten\n",
        "from keras.layers.embeddings import Embedding\n",
        "from keras.layers.convolutional import Conv1D, MaxPooling1D\n",
        "import pandas as pd\n",
        "\n",
        "max_review_length = 1000\n",
        "vocabulary_size = 1000\n",
        "embedding_dim=1000#\n",
        "embedding_dim=500\n",
        "# Fully connected neural network\n",
        "model_ffn = Sequential()\n",
        "model_ffn.add(Dense(250, activation='relu',input_dim=max_review_length))\n",
        "model_ffn.add(Dense(1, activation='sigmoid'))\n",
        "model_ffn.compile(loss='binary_crossentropy', optimizer='adam', metrics=['accuracy'])\n",
        "#history_ffn = model_ffn.fit(X_train, y_train,epochs=20, batch_size=128, verbose=2)\n",
        "#history_ffn = model_ffn.fit([tX, pd.DataFrame(tY)])\n",
        "\n",
        "history_ffn = model_ffn.fit(tX_numpy, tY_numpy, epochs=30,batch_size=128,verbose=2)\n",
        "\n",
        "scores_ffn = model_ffn.evaluate(vX_numpy, vY_numpy, verbose=0)\n",
        "scores_ffn"
      ],
      "execution_count": 46,
      "outputs": [
        {
          "output_type": "stream",
          "text": [
            "Epoch 1/30\n",
            "215/215 - 1s - loss: 0.6208 - accuracy: 0.6495\n",
            "Epoch 2/30\n",
            "215/215 - 1s - loss: 0.5586 - accuracy: 0.7299\n",
            "Epoch 3/30\n",
            "215/215 - 1s - loss: 0.5378 - accuracy: 0.7464\n",
            "Epoch 4/30\n",
            "215/215 - 1s - loss: 0.5221 - accuracy: 0.7554\n",
            "Epoch 5/30\n",
            "215/215 - 1s - loss: 0.5067 - accuracy: 0.7657\n",
            "Epoch 6/30\n",
            "215/215 - 1s - loss: 0.4908 - accuracy: 0.7745\n",
            "Epoch 7/30\n",
            "215/215 - 1s - loss: 0.4722 - accuracy: 0.7858\n",
            "Epoch 8/30\n",
            "215/215 - 1s - loss: 0.4510 - accuracy: 0.7991\n",
            "Epoch 9/30\n",
            "215/215 - 1s - loss: 0.4268 - accuracy: 0.8146\n",
            "Epoch 10/30\n",
            "215/215 - 1s - loss: 0.4001 - accuracy: 0.8282\n",
            "Epoch 11/30\n",
            "215/215 - 1s - loss: 0.3719 - accuracy: 0.8467\n",
            "Epoch 12/30\n",
            "215/215 - 1s - loss: 0.3415 - accuracy: 0.8655\n",
            "Epoch 13/30\n",
            "215/215 - 1s - loss: 0.3127 - accuracy: 0.8815\n",
            "Epoch 14/30\n",
            "215/215 - 1s - loss: 0.2835 - accuracy: 0.8979\n",
            "Epoch 15/30\n",
            "215/215 - 1s - loss: 0.2564 - accuracy: 0.9124\n",
            "Epoch 16/30\n",
            "215/215 - 1s - loss: 0.2322 - accuracy: 0.9239\n",
            "Epoch 17/30\n",
            "215/215 - 1s - loss: 0.2102 - accuracy: 0.9342\n",
            "Epoch 18/30\n",
            "215/215 - 1s - loss: 0.1914 - accuracy: 0.9426\n",
            "Epoch 19/30\n",
            "215/215 - 1s - loss: 0.1750 - accuracy: 0.9481\n",
            "Epoch 20/30\n",
            "215/215 - 1s - loss: 0.1633 - accuracy: 0.9509\n",
            "Epoch 21/30\n",
            "215/215 - 1s - loss: 0.1509 - accuracy: 0.9551\n",
            "Epoch 22/30\n",
            "215/215 - 1s - loss: 0.1416 - accuracy: 0.9571\n",
            "Epoch 23/30\n",
            "215/215 - 1s - loss: 0.1334 - accuracy: 0.9591\n",
            "Epoch 24/30\n",
            "215/215 - 1s - loss: 0.1267 - accuracy: 0.9600\n",
            "Epoch 25/30\n",
            "215/215 - 1s - loss: 0.1209 - accuracy: 0.9608\n",
            "Epoch 26/30\n",
            "215/215 - 1s - loss: 0.1155 - accuracy: 0.9611\n",
            "Epoch 27/30\n",
            "215/215 - 1s - loss: 0.1119 - accuracy: 0.9620\n",
            "Epoch 28/30\n",
            "215/215 - 1s - loss: 0.1078 - accuracy: 0.9614\n",
            "Epoch 29/30\n",
            "215/215 - 1s - loss: 0.1058 - accuracy: 0.9625\n",
            "Epoch 30/30\n",
            "215/215 - 1s - loss: 0.1018 - accuracy: 0.9624\n"
          ],
          "name": "stdout"
        },
        {
          "output_type": "execute_result",
          "data": {
            "text/plain": [
              "[0.8043064475059509, 0.7020373344421387]"
            ]
          },
          "metadata": {
            "tags": []
          },
          "execution_count": 46
        }
      ]
    },
    {
      "cell_type": "code",
      "metadata": {
        "colab": {
          "base_uri": "https://localhost:8080/"
        },
        "id": "KW-6mdj-4biP",
        "outputId": "149b3e92-1853-4fd9-9594-646dc04e66e2"
      },
      "source": [
        "from keras.models import Sequential\n",
        "from keras.layers import Dense, LSTM, SimpleRNN, Flatten\n",
        "from keras.layers.embeddings import Embedding\n",
        "from keras.layers.convolutional import Conv1D, MaxPooling1D\n",
        "import pandas as pd\n",
        "\n",
        "\n",
        "\n",
        "max_review_length = 1000\n",
        "vocabulary_size = 1000\n",
        "embedding_dim=500#\n",
        "# Convolutional neural network\n",
        "model_cnn = Sequential()\n",
        "model_cnn.add(Embedding(vocabulary_size, embedding_dim, input_length=max_review_length))\n",
        "model_cnn.add(Conv1D(filters=200, kernel_size=3, padding='same', activation='relu'))\n",
        "model_cnn.add(MaxPooling1D(pool_size=2))\n",
        "model_cnn.add(Flatten())\n",
        "model_cnn.add(Dense(250, activation='relu'))\n",
        "model_cnn.add(Dense(1, activation='sigmoid'))\n",
        "model_cnn.compile(loss='binary_crossentropy', optimizer='adam', metrics=['accuracy'])\n",
        "history_cnn = model_cnn.fit(tX_numpy, tY_numpy,epochs=30, batch_size=128,verbose=2)\n",
        "scores_cnn = model_cnn.evaluate(vX_numpy, vY_numpy, verbose=0)\n",
        "scores_cnn"
      ],
      "execution_count": null,
      "outputs": [
        {
          "output_type": "stream",
          "text": [
            "Epoch 1/30\n",
            "215/215 - 1068s - loss: 0.6885 - accuracy: 0.6044\n",
            "Epoch 2/30\n",
            "215/215 - 1067s - loss: 0.6585 - accuracy: 0.6191\n",
            "Epoch 3/30\n",
            "215/215 - 1067s - loss: 0.6531 - accuracy: 0.6231\n",
            "Epoch 4/30\n",
            "215/215 - 1081s - loss: 0.6529 - accuracy: 0.6225\n",
            "Epoch 5/30\n",
            "215/215 - 1080s - loss: 0.6493 - accuracy: 0.6243\n",
            "Epoch 6/30\n",
            "215/215 - 1076s - loss: 0.6484 - accuracy: 0.6248\n",
            "Epoch 7/30\n",
            "215/215 - 1076s - loss: 0.6482 - accuracy: 0.6243\n",
            "Epoch 8/30\n",
            "215/215 - 1073s - loss: 0.6475 - accuracy: 0.6243\n",
            "Epoch 9/30\n",
            "215/215 - 1074s - loss: 0.6473 - accuracy: 0.6245\n",
            "Epoch 10/30\n",
            "215/215 - 1076s - loss: 0.6469 - accuracy: 0.6246\n",
            "Epoch 11/30\n",
            "215/215 - 1078s - loss: 0.6467 - accuracy: 0.6248\n",
            "Epoch 12/30\n",
            "215/215 - 1074s - loss: 0.6466 - accuracy: 0.6246\n",
            "Epoch 13/30\n",
            "215/215 - 1075s - loss: 0.6464 - accuracy: 0.6248\n",
            "Epoch 14/30\n",
            "215/215 - 1074s - loss: 0.6463 - accuracy: 0.6249\n",
            "Epoch 15/30\n",
            "215/215 - 1077s - loss: 0.6463 - accuracy: 0.6247\n",
            "Epoch 16/30\n",
            "215/215 - 1077s - loss: 0.6467 - accuracy: 0.6236\n",
            "Epoch 17/30\n",
            "215/215 - 1083s - loss: 0.6459 - accuracy: 0.6253\n",
            "Epoch 18/30\n",
            "215/215 - 1082s - loss: 0.6459 - accuracy: 0.6249\n",
            "Epoch 19/30\n"
          ],
          "name": "stdout"
        }
      ]
    },
    {
      "cell_type": "code",
      "metadata": {
        "colab": {
          "base_uri": "https://localhost:8080/"
        },
        "id": "c4KCYD6E4gpz",
        "outputId": "2c07c2d5-0a13-49c9-9d00-1b3677c30745"
      },
      "source": [
        "embedding_dim=100#\n",
        "\n",
        "# Recurrent Neural Network\n",
        "model_rnn = Sequential()\n",
        "model_rnn.add(Embedding(vocabulary_size, embedding_dim, input_length=max_review_length))\n",
        "model_rnn.add(SimpleRNN(100))\n",
        "model_rnn.add(Dense(1, activation='sigmoid'))\n",
        "model_rnn.compile(loss='binary_crossentropy', optimizer='adam', metrics=['accuracy'])\n",
        "history_rnn = model_rnn.fit(tX_numpy, tY_numpy,epochs=30, batch_size=128,verbose=2)\n",
        "scores_rnn = model_rnn.evaluate(vX_numpy, vY_numpy, verbose=0)\n",
        "scores_rnn"
      ],
      "execution_count": null,
      "outputs": [
        {
          "output_type": "stream",
          "text": [
            "Epoch 1/30\n",
            "215/215 - 150s - loss: 0.6766 - accuracy: 0.5951\n",
            "Epoch 2/30\n",
            "215/215 - 149s - loss: 0.6760 - accuracy: 0.5955\n",
            "Epoch 3/30\n",
            "215/215 - 152s - loss: 0.6777 - accuracy: 0.5949\n",
            "Epoch 4/30\n",
            "215/215 - 150s - loss: 0.6766 - accuracy: 0.5955\n",
            "Epoch 5/30\n",
            "215/215 - 152s - loss: 0.6762 - accuracy: 0.5955\n",
            "Epoch 6/30\n",
            "215/215 - 149s - loss: 0.6759 - accuracy: 0.5955\n",
            "Epoch 7/30\n",
            "215/215 - 149s - loss: 0.6764 - accuracy: 0.5955\n",
            "Epoch 8/30\n",
            "215/215 - 150s - loss: 0.6765 - accuracy: 0.5955\n",
            "Epoch 9/30\n",
            "215/215 - 151s - loss: 0.6763 - accuracy: 0.5955\n",
            "Epoch 10/30\n",
            "215/215 - 151s - loss: 0.6757 - accuracy: 0.5955\n",
            "Epoch 11/30\n",
            "215/215 - 151s - loss: 0.6759 - accuracy: 0.5955\n",
            "Epoch 12/30\n",
            "215/215 - 151s - loss: 0.6756 - accuracy: 0.5955\n",
            "Epoch 13/30\n",
            "215/215 - 151s - loss: 0.6762 - accuracy: 0.5955\n",
            "Epoch 14/30\n",
            "215/215 - 150s - loss: 0.6752 - accuracy: 0.5955\n",
            "Epoch 15/30\n",
            "215/215 - 150s - loss: 0.6760 - accuracy: 0.5955\n",
            "Epoch 16/30\n",
            "215/215 - 151s - loss: 0.6761 - accuracy: 0.5955\n",
            "Epoch 17/30\n",
            "215/215 - 149s - loss: 0.6755 - accuracy: 0.5955\n",
            "Epoch 18/30\n",
            "215/215 - 149s - loss: 0.6758 - accuracy: 0.5955\n",
            "Epoch 19/30\n",
            "215/215 - 149s - loss: 0.6762 - accuracy: 0.5955\n",
            "Epoch 20/30\n",
            "215/215 - 149s - loss: 0.6759 - accuracy: 0.5955\n",
            "Epoch 21/30\n",
            "215/215 - 148s - loss: 0.6759 - accuracy: 0.5955\n",
            "Epoch 22/30\n",
            "215/215 - 149s - loss: 0.6767 - accuracy: 0.5955\n",
            "Epoch 23/30\n",
            "215/215 - 148s - loss: 0.6762 - accuracy: 0.5955\n",
            "Epoch 24/30\n",
            "215/215 - 148s - loss: 0.6766 - accuracy: 0.5955\n",
            "Epoch 25/30\n",
            "215/215 - 148s - loss: 0.6756 - accuracy: 0.5955\n",
            "Epoch 26/30\n",
            "215/215 - 148s - loss: 0.6757 - accuracy: 0.5955\n",
            "Epoch 27/30\n",
            "215/215 - 148s - loss: 0.6756 - accuracy: 0.5955\n",
            "Epoch 28/30\n",
            "215/215 - 148s - loss: 0.6757 - accuracy: 0.5955\n",
            "Epoch 29/30\n",
            "215/215 - 148s - loss: 0.6756 - accuracy: 0.5955\n",
            "Epoch 30/30\n",
            "215/215 - 148s - loss: 0.6757 - accuracy: 0.5955\n"
          ],
          "name": "stdout"
        },
        {
          "output_type": "execute_result",
          "data": {
            "text/plain": [
              "[0.6766024231910706, 0.5953593850135803]"
            ]
          },
          "metadata": {
            "tags": []
          },
          "execution_count": 20
        }
      ]
    },
    {
      "cell_type": "code",
      "metadata": {
        "id": "YKtKyZmH4lmk"
      },
      "source": [
        "#11/1/2020\n",
        "from keras.models import Sequential\n",
        "from keras.layers import Dense, LSTM, SimpleRNN, Flatten\n",
        "from keras.layers.embeddings import Embedding\n",
        "from keras.layers.convolutional import Conv1D, MaxPooling1D\n",
        "import pandas as pd\n",
        "\n",
        "max_review_length = 1000\n",
        "vocabulary_size = 1000\n",
        "embedding_dim=500#\n",
        "\n",
        "# Fully connected neural network\n",
        "model_ffn = Sequential()\n",
        "model_ffn.add(Dense(250, activation='relu',input_dim=max_review_length))\n",
        "model_ffn.add(Dense(1, activation='sigmoid'))\n",
        "model_ffn.compile(loss='binary_crossentropy', optimizer='adam', metrics=['accuracy'])\n",
        "\n",
        "history_ffn = model_ffn.fit(tX_numpy, tY_numpy, epochs=30,verbose=2)\n",
        "scores_ffn = model_ffn.evaluate(vX_numpy, vY_numpy, verbose=0)\n",
        "\n",
        "# Fully connected neural network with embeddings\n",
        "model_ffne = Sequential()\n",
        "model_ffne.add(Embedding(vocabulary_size, embedding_dim, input_length=max_review_length))\n",
        "model_ffne.add(Flatten())\n",
        "model_ffne.add(Dense(250, activation='relu'))\n",
        "model_ffne.add(Dense(1, activation='sigmoid'))\n",
        "model_ffne.compile(loss='binary_crossentropy', optimizer='adam', metrics=['accuracy'])\n",
        "\n",
        "history_ffne = model_ffne.fit(tX_numpy, tY_numpy, epochs=30, batch_size=128, verbose=2)\n",
        "scores_ffne = model_ffne.evaluate(vX_numpy, vY_numpy, verbose=0)\n",
        "\n",
        "\n",
        "# Convolutional neural network\n",
        "model_cnn = Sequential()\n",
        "model_cnn.add(Embedding(vocabulary_size, embedding_dim, input_length=max_review_length))\n",
        "model_cnn.add(Conv1D(filters=200, kernel_size=3, padding='same', activation='relu'))\n",
        "model_cnn.add(MaxPooling1D(pool_size=2))\n",
        "model_cnn.add(Flatten())\n",
        "model_cnn.add(Dense(250, activation='relu'))\n",
        "model_cnn.add(Dense(1, activation='sigmoid'))\n",
        "model_cnn.compile(loss='binary_crossentropy', optimizer='adam', metrics=['accuracy'])\n",
        "history_cnn = model_cnn.fit(tX_numpy, tY_numpy,epochs=30, batch_size=128,verbose=2)\n",
        "scores_cnn = model_cnn.evaluate(vX_numpy, vY_numpy, verbose=0)\n",
        "# Recurrent Neural Network\n",
        "model_rnn = Sequential()\n",
        "model_rnn.add(Embedding(vocabulary_size, embedding_dim, input_length=max_review_length))\n",
        "model_rnn.add(SimpleRNN(100))\n",
        "model_rnn.add(Dense(1, activation='sigmoid'))\n",
        "model_rnn.compile(loss='binary_crossentropy', optimizer='adam', metrics=['accuracy'])\n",
        "history_rnn = model_rnn.fit(tX_numpy, tY_numpy,epochs=30, batch_size=128,verbose=2)\n",
        "scores_rnn = model_rnn.evaluate(vX_numpy, vY_numpy, verbose=0)\n",
        "\n",
        "# Convolutional + Recurrent Neural Network\n",
        "\n",
        "model_cnn_rnn = Sequential()\n",
        "model_cnn_rnn.add(Embedding(vocabulary_size, embedding_dim, input_length=max_review_length))\n",
        "model_cnn_rnn.add(Conv1D(filters=32, kernel_size=3, padding='same', activation='relu'))\n",
        "model_cnn_rnn.add(MaxPooling1D(pool_size=2))\n",
        "model_cnn_rnn.add(SimpleRNN(100))\n",
        "model_cnn_rnn.add(Dense(1, activation='sigmoid'))\n",
        "model_cnn_rnn.compile(loss='binary_crossentropy', optimizer='adam', metrics=['accuracy'])\n",
        "history_cnn_rnn = model_cnn_rnn.fit(tX_numpy, tY_numpy,epochs=30, batch_size=128,verbose=2)\n",
        "scores_cnn_rnn = model_cnn_rnn.evaluate(vX_numpy, vY_numpy, verbose=0)\n",
        "scores_cnn_rnn\n",
        "# Evaluation\n",
        "df = pd.DataFrame({'Model': ['FFNN', 'FFNN with Embeddings', 'CNN', 'RNN', 'CNN+RNN'],\n",
        "                   'Accuracy': [str(round(scores_ffn[1]*100, 2)) + '%',\n",
        "                                str(round(scores_ffne[1]*100, 2)) + '%',\n",
        "                                str(round(scores_cnn[1]*100, 2)) + '%',\n",
        "                                str(round(scores_rnn[1]*100, 2)) + '%',\n",
        "                                str(round(scores_cnn_rnn[1]*100, 2)) + '%']})\n",
        "df"
      ],
      "execution_count": null,
      "outputs": []
    }
  ]
}